{
 "cells": [
  {
   "cell_type": "markdown",
   "metadata": {},
   "source": [
    "## Practice from https://www.kaggle.com/amelinvladislav/map-of-temperatures-and-analysis-of-global-warming"
   ]
  },
  {
   "cell_type": "code",
   "execution_count": 1,
   "metadata": {},
   "outputs": [
    {
     "data": {
      "text/html": [
       "        <script type=\"text/javascript\">\n",
       "        window.PlotlyConfig = {MathJaxConfig: 'local'};\n",
       "        if (window.MathJax) {MathJax.Hub.Config({SVG: {font: \"STIX-Web\"}});}\n",
       "        if (typeof require !== 'undefined') {\n",
       "        require.undef(\"plotly\");\n",
       "        requirejs.config({\n",
       "            paths: {\n",
       "                'plotly': ['https://cdn.plot.ly/plotly-latest.min']\n",
       "            }\n",
       "        });\n",
       "        require(['plotly'], function(Plotly) {\n",
       "            window._Plotly = Plotly;\n",
       "        });\n",
       "        }\n",
       "        </script>\n",
       "        "
      ]
     },
     "metadata": {},
     "output_type": "display_data"
    }
   ],
   "source": [
    "import numpy as np\n",
    "import pandas as pd\n",
    "import matplotlib.pyplot as plt\n",
    "%matplotlib inline\n",
    "import plotly.offline as py\n",
    "py.init_notebook_mode(connected=True)\n",
    "import plotly.graph_objs as go\n",
    "import plotly.tools as tls\n",
    "import seaborn as sns\n",
    "import time\n",
    "import warnings\n",
    "warnings.filterwarnings('ignore')"
   ]
  },
  {
   "cell_type": "code",
   "execution_count": 2,
   "metadata": {},
   "outputs": [],
   "source": [
    "warming = pd.read_csv('GlobalLandTemperaturesByCountry.csv')"
   ]
  },
  {
   "cell_type": "code",
   "execution_count": 3,
   "metadata": {},
   "outputs": [
    {
     "data": {
      "text/html": [
       "<div>\n",
       "<style scoped>\n",
       "    .dataframe tbody tr th:only-of-type {\n",
       "        vertical-align: middle;\n",
       "    }\n",
       "\n",
       "    .dataframe tbody tr th {\n",
       "        vertical-align: top;\n",
       "    }\n",
       "\n",
       "    .dataframe thead th {\n",
       "        text-align: right;\n",
       "    }\n",
       "</style>\n",
       "<table border=\"1\" class=\"dataframe\">\n",
       "  <thead>\n",
       "    <tr style=\"text-align: right;\">\n",
       "      <th></th>\n",
       "      <th>dt</th>\n",
       "      <th>AverageTemperature</th>\n",
       "      <th>AverageTemperatureUncertainty</th>\n",
       "      <th>Country</th>\n",
       "    </tr>\n",
       "  </thead>\n",
       "  <tbody>\n",
       "    <tr>\n",
       "      <th>0</th>\n",
       "      <td>1743-11-01</td>\n",
       "      <td>4.384</td>\n",
       "      <td>2.294</td>\n",
       "      <td>Åland</td>\n",
       "    </tr>\n",
       "    <tr>\n",
       "      <th>1</th>\n",
       "      <td>1743-12-01</td>\n",
       "      <td>NaN</td>\n",
       "      <td>NaN</td>\n",
       "      <td>Åland</td>\n",
       "    </tr>\n",
       "    <tr>\n",
       "      <th>2</th>\n",
       "      <td>1744-01-01</td>\n",
       "      <td>NaN</td>\n",
       "      <td>NaN</td>\n",
       "      <td>Åland</td>\n",
       "    </tr>\n",
       "    <tr>\n",
       "      <th>3</th>\n",
       "      <td>1744-02-01</td>\n",
       "      <td>NaN</td>\n",
       "      <td>NaN</td>\n",
       "      <td>Åland</td>\n",
       "    </tr>\n",
       "    <tr>\n",
       "      <th>4</th>\n",
       "      <td>1744-03-01</td>\n",
       "      <td>NaN</td>\n",
       "      <td>NaN</td>\n",
       "      <td>Åland</td>\n",
       "    </tr>\n",
       "    <tr>\n",
       "      <th>...</th>\n",
       "      <td>...</td>\n",
       "      <td>...</td>\n",
       "      <td>...</td>\n",
       "      <td>...</td>\n",
       "    </tr>\n",
       "    <tr>\n",
       "      <th>577457</th>\n",
       "      <td>2013-05-01</td>\n",
       "      <td>19.059</td>\n",
       "      <td>1.022</td>\n",
       "      <td>Zimbabwe</td>\n",
       "    </tr>\n",
       "    <tr>\n",
       "      <th>577458</th>\n",
       "      <td>2013-06-01</td>\n",
       "      <td>17.613</td>\n",
       "      <td>0.473</td>\n",
       "      <td>Zimbabwe</td>\n",
       "    </tr>\n",
       "    <tr>\n",
       "      <th>577459</th>\n",
       "      <td>2013-07-01</td>\n",
       "      <td>17.000</td>\n",
       "      <td>0.453</td>\n",
       "      <td>Zimbabwe</td>\n",
       "    </tr>\n",
       "    <tr>\n",
       "      <th>577460</th>\n",
       "      <td>2013-08-01</td>\n",
       "      <td>19.759</td>\n",
       "      <td>0.717</td>\n",
       "      <td>Zimbabwe</td>\n",
       "    </tr>\n",
       "    <tr>\n",
       "      <th>577461</th>\n",
       "      <td>2013-09-01</td>\n",
       "      <td>NaN</td>\n",
       "      <td>NaN</td>\n",
       "      <td>Zimbabwe</td>\n",
       "    </tr>\n",
       "  </tbody>\n",
       "</table>\n",
       "<p>577462 rows × 4 columns</p>\n",
       "</div>"
      ],
      "text/plain": [
       "                dt  AverageTemperature  AverageTemperatureUncertainty  \\\n",
       "0       1743-11-01               4.384                          2.294   \n",
       "1       1743-12-01                 NaN                            NaN   \n",
       "2       1744-01-01                 NaN                            NaN   \n",
       "3       1744-02-01                 NaN                            NaN   \n",
       "4       1744-03-01                 NaN                            NaN   \n",
       "...            ...                 ...                            ...   \n",
       "577457  2013-05-01              19.059                          1.022   \n",
       "577458  2013-06-01              17.613                          0.473   \n",
       "577459  2013-07-01              17.000                          0.453   \n",
       "577460  2013-08-01              19.759                          0.717   \n",
       "577461  2013-09-01                 NaN                            NaN   \n",
       "\n",
       "         Country  \n",
       "0          Åland  \n",
       "1          Åland  \n",
       "2          Åland  \n",
       "3          Åland  \n",
       "4          Åland  \n",
       "...          ...  \n",
       "577457  Zimbabwe  \n",
       "577458  Zimbabwe  \n",
       "577459  Zimbabwe  \n",
       "577460  Zimbabwe  \n",
       "577461  Zimbabwe  \n",
       "\n",
       "[577462 rows x 4 columns]"
      ]
     },
     "execution_count": 3,
     "metadata": {},
     "output_type": "execute_result"
    }
   ],
   "source": [
    "warming "
   ]
  },
  {
   "cell_type": "markdown",
   "metadata": {},
   "source": [
    "****insghts:\n",
    "1)we noticed that there are duplicate entry of the same country nad some with null values -> remove the entry with empty temperature information\n",
    "2)"
   ]
  },
  {
   "cell_type": "code",
   "execution_count": 4,
   "metadata": {
    "scrolled": true
   },
   "outputs": [
    {
     "data": {
      "text/plain": [
       "array(['Åland', 'Afghanistan', 'Africa', 'Albania', 'Algeria',\n",
       "       'American Samoa', 'Andorra', 'Angola', 'Anguilla', 'Antarctica',\n",
       "       'Antigua And Barbuda', 'Argentina', 'Armenia', 'Aruba', 'Asia',\n",
       "       'Australia', 'Austria', 'Azerbaijan', 'Bahamas', 'Bahrain',\n",
       "       'Baker Island', 'Bangladesh', 'Barbados', 'Belarus', 'Belgium',\n",
       "       'Belize', 'Benin', 'Bhutan', 'Bolivia',\n",
       "       'Bonaire, Saint Eustatius And Saba', 'Bosnia And Herzegovina',\n",
       "       'Botswana', 'Brazil', 'British Virgin Islands', 'Bulgaria',\n",
       "       'Burkina Faso', 'Burma', 'Burundi', \"Côte D'Ivoire\", 'Cambodia',\n",
       "       'Cameroon', 'Canada', 'Cape Verde', 'Cayman Islands',\n",
       "       'Central African Republic', 'Chad', 'Chile', 'China',\n",
       "       'Christmas Island', 'Colombia', 'Comoros',\n",
       "       'Congo (Democratic Republic Of The)', 'Congo', 'Costa Rica',\n",
       "       'Croatia', 'Cuba', 'Curaçao', 'Cyprus', 'Czech Republic',\n",
       "       'Denmark (Europe)', 'Denmark', 'Djibouti', 'Dominica',\n",
       "       'Dominican Republic', 'Ecuador', 'Egypt', 'El Salvador',\n",
       "       'Equatorial Guinea', 'Eritrea', 'Estonia', 'Ethiopia', 'Europe',\n",
       "       'Falkland Islands (Islas Malvinas)', 'Faroe Islands',\n",
       "       'Federated States Of Micronesia', 'Fiji', 'Finland',\n",
       "       'France (Europe)', 'France', 'French Guiana', 'French Polynesia',\n",
       "       'French Southern And Antarctic Lands', 'Gabon', 'Gambia',\n",
       "       'Gaza Strip', 'Georgia', 'Germany', 'Ghana', 'Greece', 'Greenland',\n",
       "       'Grenada', 'Guadeloupe', 'Guam', 'Guatemala', 'Guernsey',\n",
       "       'Guinea Bissau', 'Guinea', 'Guyana', 'Haiti',\n",
       "       'Heard Island And Mcdonald Islands', 'Honduras', 'Hong Kong',\n",
       "       'Hungary', 'Iceland', 'India', 'Indonesia', 'Iran', 'Iraq',\n",
       "       'Ireland', 'Isle Of Man', 'Israel', 'Italy', 'Jamaica', 'Japan',\n",
       "       'Jersey', 'Jordan', 'Kazakhstan', 'Kenya', 'Kingman Reef',\n",
       "       'Kiribati', 'Kuwait', 'Kyrgyzstan', 'Laos', 'Latvia', 'Lebanon',\n",
       "       'Lesotho', 'Liberia', 'Libya', 'Liechtenstein', 'Lithuania',\n",
       "       'Luxembourg', 'Macau', 'Macedonia', 'Madagascar', 'Malawi',\n",
       "       'Malaysia', 'Mali', 'Malta', 'Martinique', 'Mauritania',\n",
       "       'Mauritius', 'Mayotte', 'Mexico', 'Moldova', 'Monaco', 'Mongolia',\n",
       "       'Montenegro', 'Montserrat', 'Morocco', 'Mozambique', 'Namibia',\n",
       "       'Nepal', 'Netherlands (Europe)', 'Netherlands', 'New Caledonia',\n",
       "       'New Zealand', 'Nicaragua', 'Niger', 'Nigeria', 'Niue',\n",
       "       'North America', 'North Korea', 'Northern Mariana Islands',\n",
       "       'Norway', 'Oceania', 'Oman', 'Pakistan', 'Palau', 'Palestina',\n",
       "       'Palmyra Atoll', 'Panama', 'Papua New Guinea', 'Paraguay', 'Peru',\n",
       "       'Philippines', 'Poland', 'Portugal', 'Puerto Rico', 'Qatar',\n",
       "       'Reunion', 'Romania', 'Russia', 'Rwanda', 'Saint Barthélemy',\n",
       "       'Saint Kitts And Nevis', 'Saint Lucia', 'Saint Martin',\n",
       "       'Saint Pierre And Miquelon', 'Saint Vincent And The Grenadines',\n",
       "       'Samoa', 'San Marino', 'Sao Tome And Principe', 'Saudi Arabia',\n",
       "       'Senegal', 'Serbia', 'Seychelles', 'Sierra Leone', 'Singapore',\n",
       "       'Sint Maarten', 'Slovakia', 'Slovenia', 'Solomon Islands',\n",
       "       'Somalia', 'South Africa', 'South America',\n",
       "       'South Georgia And The South Sandwich Isla', 'South Korea',\n",
       "       'Spain', 'Sri Lanka', 'Sudan', 'Suriname',\n",
       "       'Svalbard And Jan Mayen', 'Swaziland', 'Sweden', 'Switzerland',\n",
       "       'Syria', 'Taiwan', 'Tajikistan', 'Tanzania', 'Thailand',\n",
       "       'Timor Leste', 'Togo', 'Tonga', 'Trinidad And Tobago', 'Tunisia',\n",
       "       'Turkey', 'Turkmenistan', 'Turks And Caicas Islands', 'Uganda',\n",
       "       'Ukraine', 'United Arab Emirates', 'United Kingdom (Europe)',\n",
       "       'United Kingdom', 'United States', 'Uruguay', 'Uzbekistan',\n",
       "       'Venezuela', 'Vietnam', 'Virgin Islands', 'Western Sahara',\n",
       "       'Yemen', 'Zambia', 'Zimbabwe'], dtype=object)"
      ]
     },
     "execution_count": 4,
     "metadata": {},
     "output_type": "execute_result"
    }
   ],
   "source": [
    "warming.Country.unique()"
   ]
  },
  {
   "cell_type": "code",
   "execution_count": 5,
   "metadata": {},
   "outputs": [],
   "source": [
    "warming_clear = warming[~warming['Country'].isin(['Denmark', 'Antarctica', 'France', 'Europe', 'Netherlands',\n",
    "     'United Kingdom', 'Africa', 'South America'])]"
   ]
  },
  {
   "cell_type": "code",
   "execution_count": 6,
   "metadata": {},
   "outputs": [
    {
     "data": {
      "text/html": [
       "<div>\n",
       "<style scoped>\n",
       "    .dataframe tbody tr th:only-of-type {\n",
       "        vertical-align: middle;\n",
       "    }\n",
       "\n",
       "    .dataframe tbody tr th {\n",
       "        vertical-align: top;\n",
       "    }\n",
       "\n",
       "    .dataframe thead th {\n",
       "        text-align: right;\n",
       "    }\n",
       "</style>\n",
       "<table border=\"1\" class=\"dataframe\">\n",
       "  <thead>\n",
       "    <tr style=\"text-align: right;\">\n",
       "      <th></th>\n",
       "      <th>dt</th>\n",
       "      <th>AverageTemperature</th>\n",
       "      <th>AverageTemperatureUncertainty</th>\n",
       "      <th>Country</th>\n",
       "    </tr>\n",
       "  </thead>\n",
       "  <tbody>\n",
       "    <tr>\n",
       "      <th>5345</th>\n",
       "      <td>1850-01-01</td>\n",
       "      <td>19.764</td>\n",
       "      <td>1.185</td>\n",
       "      <td>Africa</td>\n",
       "    </tr>\n",
       "    <tr>\n",
       "      <th>5346</th>\n",
       "      <td>1850-02-01</td>\n",
       "      <td>22.393</td>\n",
       "      <td>1.188</td>\n",
       "      <td>Africa</td>\n",
       "    </tr>\n",
       "    <tr>\n",
       "      <th>5347</th>\n",
       "      <td>1850-03-01</td>\n",
       "      <td>23.672</td>\n",
       "      <td>1.954</td>\n",
       "      <td>Africa</td>\n",
       "    </tr>\n",
       "    <tr>\n",
       "      <th>5348</th>\n",
       "      <td>1850-04-01</td>\n",
       "      <td>24.197</td>\n",
       "      <td>1.364</td>\n",
       "      <td>Africa</td>\n",
       "    </tr>\n",
       "    <tr>\n",
       "      <th>5349</th>\n",
       "      <td>1850-05-01</td>\n",
       "      <td>24.302</td>\n",
       "      <td>0.938</td>\n",
       "      <td>Africa</td>\n",
       "    </tr>\n",
       "    <tr>\n",
       "      <th>...</th>\n",
       "      <td>...</td>\n",
       "      <td>...</td>\n",
       "      <td>...</td>\n",
       "      <td>...</td>\n",
       "    </tr>\n",
       "    <tr>\n",
       "      <th>7305</th>\n",
       "      <td>2013-05-01</td>\n",
       "      <td>26.671</td>\n",
       "      <td>0.301</td>\n",
       "      <td>Africa</td>\n",
       "    </tr>\n",
       "    <tr>\n",
       "      <th>7306</th>\n",
       "      <td>2013-06-01</td>\n",
       "      <td>26.324</td>\n",
       "      <td>0.188</td>\n",
       "      <td>Africa</td>\n",
       "    </tr>\n",
       "    <tr>\n",
       "      <th>7307</th>\n",
       "      <td>2013-07-01</td>\n",
       "      <td>25.856</td>\n",
       "      <td>0.238</td>\n",
       "      <td>Africa</td>\n",
       "    </tr>\n",
       "    <tr>\n",
       "      <th>7308</th>\n",
       "      <td>2013-08-01</td>\n",
       "      <td>25.911</td>\n",
       "      <td>0.331</td>\n",
       "      <td>Africa</td>\n",
       "    </tr>\n",
       "    <tr>\n",
       "      <th>7309</th>\n",
       "      <td>2013-09-01</td>\n",
       "      <td>NaN</td>\n",
       "      <td>NaN</td>\n",
       "      <td>Africa</td>\n",
       "    </tr>\n",
       "  </tbody>\n",
       "</table>\n",
       "<p>1965 rows × 4 columns</p>\n",
       "</div>"
      ],
      "text/plain": [
       "              dt  AverageTemperature  AverageTemperatureUncertainty Country\n",
       "5345  1850-01-01              19.764                          1.185  Africa\n",
       "5346  1850-02-01              22.393                          1.188  Africa\n",
       "5347  1850-03-01              23.672                          1.954  Africa\n",
       "5348  1850-04-01              24.197                          1.364  Africa\n",
       "5349  1850-05-01              24.302                          0.938  Africa\n",
       "...          ...                 ...                            ...     ...\n",
       "7305  2013-05-01              26.671                          0.301  Africa\n",
       "7306  2013-06-01              26.324                          0.188  Africa\n",
       "7307  2013-07-01              25.856                          0.238  Africa\n",
       "7308  2013-08-01              25.911                          0.331  Africa\n",
       "7309  2013-09-01                 NaN                            NaN  Africa\n",
       "\n",
       "[1965 rows x 4 columns]"
      ]
     },
     "execution_count": 6,
     "metadata": {},
     "output_type": "execute_result"
    }
   ],
   "source": [
    "warming[warming.Country == 'Africa']"
   ]
  },
  {
   "cell_type": "code",
   "execution_count": 7,
   "metadata": {},
   "outputs": [],
   "source": [
    "warming_clear = warming_clear.replace(\n",
    "   ['Denmark (Europe)', 'France (Europe)', 'Netherlands (Europe)', 'United Kingdom (Europe)'],\n",
    "   ['Denmark', 'France', 'Netherlands', 'United Kingdom'])"
   ]
  },
  {
   "cell_type": "code",
   "execution_count": 24,
   "metadata": {},
   "outputs": [],
   "source": [
    "countries = warming_clear['Country'].unique()\n",
    "avg_temp = []\n",
    "for c in countries:\n",
    "    avg_temp.append(warming_clear[warming_clear['Country']==c]['AverageTemperature'].mean())"
   ]
  },
  {
   "cell_type": "code",
   "execution_count": 59,
   "metadata": {},
   "outputs": [
    {
     "data": {
      "application/vnd.plotly.v1+json": {
       "config": {
        "linkText": "Export to plot.ly",
        "plotlyServerURL": "https://plot.ly",
        "showLink": false
       },
       "data": [
        {
         "colorbar": {
          "autotick": true,
          "tickprefic": ""
         },
         "locationmode": "country names",
         "locations": [
          "Åland",
          "Afghanistan",
          "Albania",
          "Algeria",
          "American Samoa",
          "Andorra",
          "Angola",
          "Anguilla",
          "Antigua And Barbuda",
          "Argentina",
          "Armenia",
          "Aruba",
          "Asia",
          "Australia",
          "Austria",
          "Azerbaijan",
          "Bahamas",
          "Bahrain",
          "Baker Island",
          "Bangladesh",
          "Barbados",
          "Belarus",
          "Belgium",
          "Belize",
          "Benin",
          "Bhutan",
          "Bolivia",
          "Bonaire, Saint Eustatius And Saba",
          "Bosnia And Herzegovina",
          "Botswana",
          "Brazil",
          "British Virgin Islands",
          "Bulgaria",
          "Burkina Faso",
          "Burma",
          "Burundi",
          "Côte D'Ivoire",
          "Cambodia",
          "Cameroon",
          "Canada",
          "Cape Verde",
          "Cayman Islands",
          "Central African Republic",
          "Chad",
          "Chile",
          "China",
          "Christmas Island",
          "Colombia",
          "Comoros",
          "Congo (Democratic Republic Of The)",
          "Congo",
          "Costa Rica",
          "Croatia",
          "Cuba",
          "Curaçao",
          "Cyprus",
          "Czech Republic",
          "Denmark",
          "Djibouti",
          "Dominica",
          "Dominican Republic",
          "Ecuador",
          "Egypt",
          "El Salvador",
          "Equatorial Guinea",
          "Eritrea",
          "Estonia",
          "Ethiopia",
          "Falkland Islands (Islas Malvinas)",
          "Faroe Islands",
          "Federated States Of Micronesia",
          "Fiji",
          "Finland",
          "France",
          "French Guiana",
          "French Polynesia",
          "French Southern And Antarctic Lands",
          "Gabon",
          "Gambia",
          "Gaza Strip",
          "Georgia",
          "Germany",
          "Ghana",
          "Greece",
          "Greenland",
          "Grenada",
          "Guadeloupe",
          "Guam",
          "Guatemala",
          "Guernsey",
          "Guinea Bissau",
          "Guinea",
          "Guyana",
          "Haiti",
          "Heard Island And Mcdonald Islands",
          "Honduras",
          "Hong Kong",
          "Hungary",
          "Iceland",
          "India",
          "Indonesia",
          "Iran",
          "Iraq",
          "Ireland",
          "Isle Of Man",
          "Israel",
          "Italy",
          "Jamaica",
          "Japan",
          "Jersey",
          "Jordan",
          "Kazakhstan",
          "Kenya",
          "Kingman Reef",
          "Kiribati",
          "Kuwait",
          "Kyrgyzstan",
          "Laos",
          "Latvia",
          "Lebanon",
          "Lesotho",
          "Liberia",
          "Libya",
          "Liechtenstein",
          "Lithuania",
          "Luxembourg",
          "Macau",
          "Macedonia",
          "Madagascar",
          "Malawi",
          "Malaysia",
          "Mali",
          "Malta",
          "Martinique",
          "Mauritania",
          "Mauritius",
          "Mayotte",
          "Mexico",
          "Moldova",
          "Monaco",
          "Mongolia",
          "Montenegro",
          "Montserrat",
          "Morocco",
          "Mozambique",
          "Namibia",
          "Nepal",
          "Netherlands",
          "New Caledonia",
          "New Zealand",
          "Nicaragua",
          "Niger",
          "Nigeria",
          "Niue",
          "North America",
          "North Korea",
          "Northern Mariana Islands",
          "Norway",
          "Oceania",
          "Oman",
          "Pakistan",
          "Palau",
          "Palestina",
          "Palmyra Atoll",
          "Panama",
          "Papua New Guinea",
          "Paraguay",
          "Peru",
          "Philippines",
          "Poland",
          "Portugal",
          "Puerto Rico",
          "Qatar",
          "Reunion",
          "Romania",
          "Russia",
          "Rwanda",
          "Saint Barthélemy",
          "Saint Kitts And Nevis",
          "Saint Lucia",
          "Saint Martin",
          "Saint Pierre And Miquelon",
          "Saint Vincent And The Grenadines",
          "Samoa",
          "San Marino",
          "Sao Tome And Principe",
          "Saudi Arabia",
          "Senegal",
          "Serbia",
          "Seychelles",
          "Sierra Leone",
          "Singapore",
          "Sint Maarten",
          "Slovakia",
          "Slovenia",
          "Solomon Islands",
          "Somalia",
          "South Africa",
          "South Georgia And The South Sandwich Isla",
          "South Korea",
          "Spain",
          "Sri Lanka",
          "Sudan",
          "Suriname",
          "Svalbard And Jan Mayen",
          "Swaziland",
          "Sweden",
          "Switzerland",
          "Syria",
          "Taiwan",
          "Tajikistan",
          "Tanzania",
          "Thailand",
          "Timor Leste",
          "Togo",
          "Tonga",
          "Trinidad And Tobago",
          "Tunisia",
          "Turkey",
          "Turkmenistan",
          "Turks And Caicas Islands",
          "Uganda",
          "Ukraine",
          "United Arab Emirates",
          "United Kingdom",
          "United States",
          "Uruguay",
          "Uzbekistan",
          "Venezuela",
          "Vietnam",
          "Virgin Islands",
          "Western Sahara",
          "Yemen",
          "Zambia",
          "Zimbabwe"
         ],
         "marker": {
          "line": {
           "color": "rgb(0,0,0)",
           "width": 1
          }
         },
         "title": "# Average\nTemperatur,\n°C",
         "type": "choropleth",
         "z": [
          5.291383449147199,
          14.045007194244608,
          12.61064592545798,
          22.985111769059955,
          26.611965009208156,
          11.201553063802905,
          21.82454918981486,
          26.610491850431465,
          26.437924256951035,
          14.621194210526305,
          8.551647926634773,
          27.92039022051774,
          7.347892223161453,
          21.624696891191693,
          6.210731838281731,
          11.175936074918587,
          25.12822004008018,
          25.93080933465739,
          25.372350232798794,
          24.82024278370897,
          26.45854793863855,
          5.819288060644335,
          9.48337839545166,
          25.052099776286326,
          27.171999431818186,
          11.811878969957082,
          20.8772305263158,
          27.173294822627003,
          10.421283954516774,
          21.879296691568843,
          24.699255545286466,
          26.336523239099186,
          10.482968414403024,
          28.083506760410998,
          23.70619723953693,
          20.070990127758442,
          25.948536060279846,
          26.65685403576609,
          24.352585590778116,
          -5.216658945686897,
          24.185563568376022,
          26.722504150283953,
          25.28040691642648,
          27.12046628242079,
          9.383473684210513,
          6.612731031349375,
          25.784654071314534,
          24.716870967741926,
          25.70220930232557,
          23.77366493955099,
          24.4629319884726,
          25.615784434203807,
          11.342399873657591,
          25.407426387068544,
          27.353414669223397,
          18.78774568642161,
          7.626019267214149,
          7.832859444093484,
          28.816602533172542,
          26.1101514860978,
          25.547511210762387,
          21.869970347003168,
          22.620693031209964,
          24.906704545454577,
          24.921677809798265,
          26.80265311004786,
          4.819805748578657,
          23.012356759976136,
          6.076773492667047,
          6.619001579279848,
          26.94435777126096,
          25.038671779141108,
          1.2447422615287405,
          10.416045799115615,
          25.718151106833467,
          26.10709611829945,
          4.983111111111109,
          24.254725648414972,
          27.538551816239316,
          19.19263696098565,
          8.106881895881907,
          8.152496209728362,
          26.71101355166567,
          14.773012002526816,
          -18.58745804195801,
          26.741952061361474,
          26.32956088207096,
          26.996834337349433,
          23.111650494159935,
          10.928408717624766,
          26.761366648850885,
          25.452353098290622,
          25.93092011549566,
          26.295837740923353,
          2.562114942528734,
          24.6955479945922,
          22.659894913627642,
          9.722423246999355,
          1.4050650663297544,
          23.87378947368426,
          25.684483767961684,
          17.60707645115617,
          21.77562887931037,
          9.419558433354414,
          9.365805432722688,
          19.626577302631585,
          12.737121920404292,
          26.0963395638629,
          11.95190733590733,
          10.928408717624766,
          19.346512587701167,
          5.202144758735441,
          24.102428231089974,
          27.133034438775535,
          26.73686534779841,
          25.09814023210831,
          3.2204981651376148,
          23.574696349064986,
          5.320545167403669,
          17.631617730784885,
          13.726681793913507,
          25.377737931034517,
          22.26825393848455,
          4.642939039797854,
          5.907991787744772,
          9.16519646241313,
          22.4183747600768,
          10.375550852811111,
          22.749045944412938,
          21.431086144578323,
          25.80544200779728,
          28.441976570819996,
          18.494875319693055,
          26.1101514860978,
          27.620255504352293,
          23.522653983353138,
          26.34096142938175,
          20.56755804195808,
          8.931716677195217,
          9.024701831964629,
          -0.8206709844559608,
          10.21462950094757,
          26.383128475551263,
          17.62749740932639,
          23.596194758785003,
          20.48449519743865,
          14.807390612244879,
          9.11279911560327,
          22.700108194965168,
          10.371239107883817,
          25.957508780036967,
          27.458972540045757,
          26.74470830912261,
          25.094878453038664,
          2.028373892022562,
          6.748336832061071,
          26.996834337349433,
          0.09580385344283023,
          21.45298911917101,
          26.91686266589726,
          20.615513304305733,
          27.216379332477516,
          23.125663223140542,
          27.163455994897927,
          26.29162063808573,
          24.450801898734266,
          23.23796755725191,
          19.935974230044003,
          26.440472486772517,
          7.460205938092234,
          14.688179987212278,
          25.451961667465255,
          26.78499601593621,
          23.301403091557614,
          8.760901768793424,
          -5.521881912681911,
          19.24442218350756,
          26.610491850431465,
          25.852186001917556,
          26.646838446788106,
          26.610491850431465,
          4.223059955113818,
          26.789448705656774,
          26.331862492326593,
          13.83142229943148,
          25.79438616714698,
          25.54640783525872,
          27.96737499999997,
          9.986563171193945,
          26.738423142370962,
          26.022571277159468,
          26.523102826510677,
          26.610491850431465,
          7.52721699305117,
          9.659700568540737,
          26.62503698979594,
          26.877085169743943,
          17.270982915109443,
          1.4010251017639086,
          11.849048745173734,
          13.6128341756159,
          26.9476870015949,
          27.093359428571475,
          26.171663137632375,
          -7.448027925531907,
          18.839807261078484,
          2.386331964624136,
          6.992051484523055,
          17.917548596990663,
          21.937427536231866,
          4.016035217794258,
          22.347910971786856,
          25.986800979519113,
          25.96633271832718,
          26.871782756664746,
          23.23624785276075,
          26.118751198466015,
          19.97059047314578,
          11.63156730091614,
          14.781998181818167,
          26.662733508082173,
          23.0329687137891,
          7.653507264687312,
          27.693994700582884,
          8.655788060644333,
          8.603572522159553,
          17.149306774809137,
          12.27801593806923,
          25.025685522531145,
          23.688365504061206,
          26.336523239099186,
          22.319817823343875,
          26.25359672528806,
          21.282955621301788,
          21.11754724637679
         ]
        }
       ],
       "layout": {
        "geo": {
         "lataxis": {
          "gridcolor": "rgb(102,102,102)",
          "showgrid": true
         },
         "lonaxis": {
          "gridcolor": "rgb(102,102,102)",
          "showgrid": true
         },
         "oceancolor": "rgb(0,200,255)",
         "projection": {
          "rotation": {
           "lat": 10,
           "lon": 60
          },
          "type": "orthographic"
         },
         "showframe": false,
         "showocean": true
        },
        "title": "Average land temperature in countries"
       }
      },
      "text/html": [
       "<div>                            <div id=\"20cd602a-112b-4cca-aaf7-999fd8790c45\" class=\"plotly-graph-div\" style=\"height:525px; width:100%;\"></div>            <script type=\"text/javascript\">                require([\"plotly\"], function(Plotly) {                    window.PLOTLYENV=window.PLOTLYENV || {};                                    if (document.getElementById(\"20cd602a-112b-4cca-aaf7-999fd8790c45\")) {                    Plotly.newPlot(                        \"20cd602a-112b-4cca-aaf7-999fd8790c45\",                        [{\"colorbar\": {\"autotick\": true, \"tickprefic\": \"\"}, \"locationmode\": \"country names\", \"locations\": [\"\\u00c5land\", \"Afghanistan\", \"Albania\", \"Algeria\", \"American Samoa\", \"Andorra\", \"Angola\", \"Anguilla\", \"Antigua And Barbuda\", \"Argentina\", \"Armenia\", \"Aruba\", \"Asia\", \"Australia\", \"Austria\", \"Azerbaijan\", \"Bahamas\", \"Bahrain\", \"Baker Island\", \"Bangladesh\", \"Barbados\", \"Belarus\", \"Belgium\", \"Belize\", \"Benin\", \"Bhutan\", \"Bolivia\", \"Bonaire, Saint Eustatius And Saba\", \"Bosnia And Herzegovina\", \"Botswana\", \"Brazil\", \"British Virgin Islands\", \"Bulgaria\", \"Burkina Faso\", \"Burma\", \"Burundi\", \"C\\u00f4te D'Ivoire\", \"Cambodia\", \"Cameroon\", \"Canada\", \"Cape Verde\", \"Cayman Islands\", \"Central African Republic\", \"Chad\", \"Chile\", \"China\", \"Christmas Island\", \"Colombia\", \"Comoros\", \"Congo (Democratic Republic Of The)\", \"Congo\", \"Costa Rica\", \"Croatia\", \"Cuba\", \"Cura\\u00e7ao\", \"Cyprus\", \"Czech Republic\", \"Denmark\", \"Djibouti\", \"Dominica\", \"Dominican Republic\", \"Ecuador\", \"Egypt\", \"El Salvador\", \"Equatorial Guinea\", \"Eritrea\", \"Estonia\", \"Ethiopia\", \"Falkland Islands (Islas Malvinas)\", \"Faroe Islands\", \"Federated States Of Micronesia\", \"Fiji\", \"Finland\", \"France\", \"French Guiana\", \"French Polynesia\", \"French Southern And Antarctic Lands\", \"Gabon\", \"Gambia\", \"Gaza Strip\", \"Georgia\", \"Germany\", \"Ghana\", \"Greece\", \"Greenland\", \"Grenada\", \"Guadeloupe\", \"Guam\", \"Guatemala\", \"Guernsey\", \"Guinea Bissau\", \"Guinea\", \"Guyana\", \"Haiti\", \"Heard Island And Mcdonald Islands\", \"Honduras\", \"Hong Kong\", \"Hungary\", \"Iceland\", \"India\", \"Indonesia\", \"Iran\", \"Iraq\", \"Ireland\", \"Isle Of Man\", \"Israel\", \"Italy\", \"Jamaica\", \"Japan\", \"Jersey\", \"Jordan\", \"Kazakhstan\", \"Kenya\", \"Kingman Reef\", \"Kiribati\", \"Kuwait\", \"Kyrgyzstan\", \"Laos\", \"Latvia\", \"Lebanon\", \"Lesotho\", \"Liberia\", \"Libya\", \"Liechtenstein\", \"Lithuania\", \"Luxembourg\", \"Macau\", \"Macedonia\", \"Madagascar\", \"Malawi\", \"Malaysia\", \"Mali\", \"Malta\", \"Martinique\", \"Mauritania\", \"Mauritius\", \"Mayotte\", \"Mexico\", \"Moldova\", \"Monaco\", \"Mongolia\", \"Montenegro\", \"Montserrat\", \"Morocco\", \"Mozambique\", \"Namibia\", \"Nepal\", \"Netherlands\", \"New Caledonia\", \"New Zealand\", \"Nicaragua\", \"Niger\", \"Nigeria\", \"Niue\", \"North America\", \"North Korea\", \"Northern Mariana Islands\", \"Norway\", \"Oceania\", \"Oman\", \"Pakistan\", \"Palau\", \"Palestina\", \"Palmyra Atoll\", \"Panama\", \"Papua New Guinea\", \"Paraguay\", \"Peru\", \"Philippines\", \"Poland\", \"Portugal\", \"Puerto Rico\", \"Qatar\", \"Reunion\", \"Romania\", \"Russia\", \"Rwanda\", \"Saint Barth\\u00e9lemy\", \"Saint Kitts And Nevis\", \"Saint Lucia\", \"Saint Martin\", \"Saint Pierre And Miquelon\", \"Saint Vincent And The Grenadines\", \"Samoa\", \"San Marino\", \"Sao Tome And Principe\", \"Saudi Arabia\", \"Senegal\", \"Serbia\", \"Seychelles\", \"Sierra Leone\", \"Singapore\", \"Sint Maarten\", \"Slovakia\", \"Slovenia\", \"Solomon Islands\", \"Somalia\", \"South Africa\", \"South Georgia And The South Sandwich Isla\", \"South Korea\", \"Spain\", \"Sri Lanka\", \"Sudan\", \"Suriname\", \"Svalbard And Jan Mayen\", \"Swaziland\", \"Sweden\", \"Switzerland\", \"Syria\", \"Taiwan\", \"Tajikistan\", \"Tanzania\", \"Thailand\", \"Timor Leste\", \"Togo\", \"Tonga\", \"Trinidad And Tobago\", \"Tunisia\", \"Turkey\", \"Turkmenistan\", \"Turks And Caicas Islands\", \"Uganda\", \"Ukraine\", \"United Arab Emirates\", \"United Kingdom\", \"United States\", \"Uruguay\", \"Uzbekistan\", \"Venezuela\", \"Vietnam\", \"Virgin Islands\", \"Western Sahara\", \"Yemen\", \"Zambia\", \"Zimbabwe\"], \"marker\": {\"line\": {\"color\": \"rgb(0,0,0)\", \"width\": 1}}, \"title\": \"# Average\\nTemperatur,\\n\\u00b0C\", \"type\": \"choropleth\", \"z\": [5.291383449147199, 14.045007194244608, 12.61064592545798, 22.985111769059955, 26.611965009208156, 11.201553063802905, 21.82454918981486, 26.610491850431465, 26.437924256951035, 14.621194210526305, 8.551647926634773, 27.92039022051774, 7.347892223161453, 21.624696891191693, 6.210731838281731, 11.175936074918587, 25.12822004008018, 25.93080933465739, 25.372350232798794, 24.82024278370897, 26.45854793863855, 5.819288060644335, 9.48337839545166, 25.052099776286326, 27.171999431818186, 11.811878969957082, 20.8772305263158, 27.173294822627003, 10.421283954516774, 21.879296691568843, 24.699255545286466, 26.336523239099186, 10.482968414403024, 28.083506760410998, 23.70619723953693, 20.070990127758442, 25.948536060279846, 26.65685403576609, 24.352585590778116, -5.216658945686897, 24.185563568376022, 26.722504150283953, 25.28040691642648, 27.12046628242079, 9.383473684210513, 6.612731031349375, 25.784654071314534, 24.716870967741926, 25.70220930232557, 23.77366493955099, 24.4629319884726, 25.615784434203807, 11.342399873657591, 25.407426387068544, 27.353414669223397, 18.78774568642161, 7.626019267214149, 7.832859444093484, 28.816602533172542, 26.1101514860978, 25.547511210762387, 21.869970347003168, 22.620693031209964, 24.906704545454577, 24.921677809798265, 26.80265311004786, 4.819805748578657, 23.012356759976136, 6.076773492667047, 6.619001579279848, 26.94435777126096, 25.038671779141108, 1.2447422615287405, 10.416045799115615, 25.718151106833467, 26.10709611829945, 4.983111111111109, 24.254725648414972, 27.538551816239316, 19.19263696098565, 8.106881895881907, 8.152496209728362, 26.71101355166567, 14.773012002526816, -18.58745804195801, 26.741952061361474, 26.32956088207096, 26.996834337349433, 23.111650494159935, 10.928408717624766, 26.761366648850885, 25.452353098290622, 25.93092011549566, 26.295837740923353, 2.562114942528734, 24.6955479945922, 22.659894913627642, 9.722423246999355, 1.4050650663297544, 23.87378947368426, 25.684483767961684, 17.60707645115617, 21.77562887931037, 9.419558433354414, 9.365805432722688, 19.626577302631585, 12.737121920404292, 26.0963395638629, 11.95190733590733, 10.928408717624766, 19.346512587701167, 5.202144758735441, 24.102428231089974, 27.133034438775535, 26.73686534779841, 25.09814023210831, 3.2204981651376148, 23.574696349064986, 5.320545167403669, 17.631617730784885, 13.726681793913507, 25.377737931034517, 22.26825393848455, 4.642939039797854, 5.907991787744772, 9.16519646241313, 22.4183747600768, 10.375550852811111, 22.749045944412938, 21.431086144578323, 25.80544200779728, 28.441976570819996, 18.494875319693055, 26.1101514860978, 27.620255504352293, 23.522653983353138, 26.34096142938175, 20.56755804195808, 8.931716677195217, 9.024701831964629, -0.8206709844559608, 10.21462950094757, 26.383128475551263, 17.62749740932639, 23.596194758785003, 20.48449519743865, 14.807390612244879, 9.11279911560327, 22.700108194965168, 10.371239107883817, 25.957508780036967, 27.458972540045757, 26.74470830912261, 25.094878453038664, 2.028373892022562, 6.748336832061071, 26.996834337349433, 0.09580385344283023, 21.45298911917101, 26.91686266589726, 20.615513304305733, 27.216379332477516, 23.125663223140542, 27.163455994897927, 26.29162063808573, 24.450801898734266, 23.23796755725191, 19.935974230044003, 26.440472486772517, 7.460205938092234, 14.688179987212278, 25.451961667465255, 26.78499601593621, 23.301403091557614, 8.760901768793424, -5.521881912681911, 19.24442218350756, 26.610491850431465, 25.852186001917556, 26.646838446788106, 26.610491850431465, 4.223059955113818, 26.789448705656774, 26.331862492326593, 13.83142229943148, 25.79438616714698, 25.54640783525872, 27.96737499999997, 9.986563171193945, 26.738423142370962, 26.022571277159468, 26.523102826510677, 26.610491850431465, 7.52721699305117, 9.659700568540737, 26.62503698979594, 26.877085169743943, 17.270982915109443, 1.4010251017639086, 11.849048745173734, 13.6128341756159, 26.9476870015949, 27.093359428571475, 26.171663137632375, -7.448027925531907, 18.839807261078484, 2.386331964624136, 6.992051484523055, 17.917548596990663, 21.937427536231866, 4.016035217794258, 22.347910971786856, 25.986800979519113, 25.96633271832718, 26.871782756664746, 23.23624785276075, 26.118751198466015, 19.97059047314578, 11.63156730091614, 14.781998181818167, 26.662733508082173, 23.0329687137891, 7.653507264687312, 27.693994700582884, 8.655788060644333, 8.603572522159553, 17.149306774809137, 12.27801593806923, 25.025685522531145, 23.688365504061206, 26.336523239099186, 22.319817823343875, 26.25359672528806, 21.282955621301788, 21.11754724637679]}],                        {\"geo\": {\"lataxis\": {\"gridcolor\": \"rgb(102,102,102)\", \"showgrid\": true}, \"lonaxis\": {\"gridcolor\": \"rgb(102,102,102)\", \"showgrid\": true}, \"oceancolor\": \"rgb(0,200,255)\", \"projection\": {\"rotation\": {\"lat\": 10, \"lon\": 60}, \"type\": \"orthographic\"}, \"showframe\": false, \"showocean\": true}, \"title\": \"Average land temperature in countries\"},                        {\"responsive\": true}                    ).then(function(){\n",
       "                            \n",
       "var gd = document.getElementById('20cd602a-112b-4cca-aaf7-999fd8790c45');\n",
       "var x = new MutationObserver(function (mutations, observer) {{\n",
       "        var display = window.getComputedStyle(gd).display;\n",
       "        if (!display || display === 'none') {{\n",
       "            console.log([gd, 'removed!']);\n",
       "            Plotly.purge(gd);\n",
       "            observer.disconnect();\n",
       "        }}\n",
       "}});\n",
       "\n",
       "// Listen for the removal of the full notebook cells\n",
       "var notebookContainer = gd.closest('#notebook-container');\n",
       "if (notebookContainer) {{\n",
       "    x.observe(notebookContainer, {childList: true});\n",
       "}}\n",
       "\n",
       "// Listen for the clearing of the current output cell\n",
       "var outputEl = gd.closest('.output');\n",
       "if (outputEl) {{\n",
       "    x.observe(outputEl, {childList: true});\n",
       "}}\n",
       "\n",
       "                        })                };                });            </script>        </div>"
      ]
     },
     "metadata": {},
     "output_type": "display_data"
    }
   ],
   "source": [
    "data = [dict(\n",
    "        type = 'choropleth',\n",
    "        locations = countries,\n",
    "        z = avg_temp,\n",
    "        locationmode = 'country names',\n",
    "        #text = countries,\n",
    "        marker = dict(\n",
    "                    line = dict(color = 'rgb(0,0,0)',width = 1)),\n",
    "        colorbar = dict(autotick = True, tickprefic = '',),\n",
    "        title = '# Average\\nTemperatur,\\n°C'\n",
    "    )\n",
    "]\n",
    "layout = dict(\n",
    "            title = 'Average land temperature in countries',\n",
    "            geo = dict(\n",
    "                showframe = False,\n",
    "                showocean = True,\n",
    "                oceancolor = 'rgb(0,200,255)',\n",
    "                projection = dict(\n",
    "                    type = 'orthographic',\n",
    "                    rotation = dict(\n",
    "                        lon = 60,\n",
    "                        lat = 10),\n",
    "                    ),\n",
    "                    lonaxis = dict(\n",
    "                        showgrid = True,\n",
    "                        gridcolor = 'rgb(102,102,102)'\n",
    "                    ),\n",
    "                    lataxis = dict(\n",
    "                        showgrid = True,\n",
    "                        gridcolor = 'rgb(102,102,102)'\n",
    "                    )\n",
    "                \n",
    "            )\n",
    "    )\n",
    "\n",
    "fig = dict (data = data, layout = layout)\n",
    "py.iplot(fig,validate = False, filename = 'worldmap')"
   ]
  },
  {
   "cell_type": "code",
   "execution_count": 101,
   "metadata": {},
   "outputs": [
    {
     "data": {
      "image/png": "[encoded data removed]",
      "text/plain": [
       "<Figure size 324x3600 with 1 Axes>"
      ]
     },
     "metadata": {},
     "output_type": "display_data"
    }
   ],
   "source": [
    "avg_bar_reverse,country_bar_reverse = (list(x) for x in zip(*sorted(zip(avg_temp, countries), reverse = True)))\n",
    "sns.set(font_scale = 0.9)\n",
    "f,ax = plt.subplots(figsize=(4.5,50))\n",
    "colors_cw = sns.color_palette('coolwarm',len(countries))\n",
    "sns.barplot(avg_bar_reverse,country_bar_reverse,palette = colors_cw[::-1]) #reverse the list\n",
    "Text = ax.set(xlabel = 'Average temperatue', title = 'Average land temperature in countries')\n"
   ]
  },
  {
   "cell_type": "code",
   "execution_count": 102,
   "metadata": {},
   "outputs": [],
   "source": [
    "#is there a global warming?\n",
    "#this dataset has data descriping the Earth's temperature\n",
    "global_temp = pd.read_csv(\"GlobalTemperatures.csv\")"
   ]
  },
  {
   "cell_type": "code",
   "execution_count": 104,
   "metadata": {},
   "outputs": [
    {
     "data": {
      "text/html": [
       "<div>\n",
       "<style scoped>\n",
       "    .dataframe tbody tr th:only-of-type {\n",
       "        vertical-align: middle;\n",
       "    }\n",
       "\n",
       "    .dataframe tbody tr th {\n",
       "        vertical-align: top;\n",
       "    }\n",
       "\n",
       "    .dataframe thead th {\n",
       "        text-align: right;\n",
       "    }\n",
       "</style>\n",
       "<table border=\"1\" class=\"dataframe\">\n",
       "  <thead>\n",
       "    <tr style=\"text-align: right;\">\n",
       "      <th></th>\n",
       "      <th>dt</th>\n",
       "      <th>LandAverageTemperature</th>\n",
       "      <th>LandAverageTemperatureUncertainty</th>\n",
       "      <th>LandMaxTemperature</th>\n",
       "      <th>LandMaxTemperatureUncertainty</th>\n",
       "      <th>LandMinTemperature</th>\n",
       "      <th>LandMinTemperatureUncertainty</th>\n",
       "      <th>LandAndOceanAverageTemperature</th>\n",
       "      <th>LandAndOceanAverageTemperatureUncertainty</th>\n",
       "    </tr>\n",
       "  </thead>\n",
       "  <tbody>\n",
       "    <tr>\n",
       "      <th>0</th>\n",
       "      <td>1750-01-01</td>\n",
       "      <td>3.034</td>\n",
       "      <td>3.574</td>\n",
       "      <td>NaN</td>\n",
       "      <td>NaN</td>\n",
       "      <td>NaN</td>\n",
       "      <td>NaN</td>\n",
       "      <td>NaN</td>\n",
       "      <td>NaN</td>\n",
       "    </tr>\n",
       "    <tr>\n",
       "      <th>1</th>\n",
       "      <td>1750-02-01</td>\n",
       "      <td>3.083</td>\n",
       "      <td>3.702</td>\n",
       "      <td>NaN</td>\n",
       "      <td>NaN</td>\n",
       "      <td>NaN</td>\n",
       "      <td>NaN</td>\n",
       "      <td>NaN</td>\n",
       "      <td>NaN</td>\n",
       "    </tr>\n",
       "    <tr>\n",
       "      <th>2</th>\n",
       "      <td>1750-03-01</td>\n",
       "      <td>5.626</td>\n",
       "      <td>3.076</td>\n",
       "      <td>NaN</td>\n",
       "      <td>NaN</td>\n",
       "      <td>NaN</td>\n",
       "      <td>NaN</td>\n",
       "      <td>NaN</td>\n",
       "      <td>NaN</td>\n",
       "    </tr>\n",
       "    <tr>\n",
       "      <th>3</th>\n",
       "      <td>1750-04-01</td>\n",
       "      <td>8.490</td>\n",
       "      <td>2.451</td>\n",
       "      <td>NaN</td>\n",
       "      <td>NaN</td>\n",
       "      <td>NaN</td>\n",
       "      <td>NaN</td>\n",
       "      <td>NaN</td>\n",
       "      <td>NaN</td>\n",
       "    </tr>\n",
       "    <tr>\n",
       "      <th>4</th>\n",
       "      <td>1750-05-01</td>\n",
       "      <td>11.573</td>\n",
       "      <td>2.072</td>\n",
       "      <td>NaN</td>\n",
       "      <td>NaN</td>\n",
       "      <td>NaN</td>\n",
       "      <td>NaN</td>\n",
       "      <td>NaN</td>\n",
       "      <td>NaN</td>\n",
       "    </tr>\n",
       "    <tr>\n",
       "      <th>...</th>\n",
       "      <td>...</td>\n",
       "      <td>...</td>\n",
       "      <td>...</td>\n",
       "      <td>...</td>\n",
       "      <td>...</td>\n",
       "      <td>...</td>\n",
       "      <td>...</td>\n",
       "      <td>...</td>\n",
       "      <td>...</td>\n",
       "    </tr>\n",
       "    <tr>\n",
       "      <th>3187</th>\n",
       "      <td>2015-08-01</td>\n",
       "      <td>14.755</td>\n",
       "      <td>0.072</td>\n",
       "      <td>20.699</td>\n",
       "      <td>0.110</td>\n",
       "      <td>9.005</td>\n",
       "      <td>0.170</td>\n",
       "      <td>17.589</td>\n",
       "      <td>0.057</td>\n",
       "    </tr>\n",
       "    <tr>\n",
       "      <th>3188</th>\n",
       "      <td>2015-09-01</td>\n",
       "      <td>12.999</td>\n",
       "      <td>0.079</td>\n",
       "      <td>18.845</td>\n",
       "      <td>0.088</td>\n",
       "      <td>7.199</td>\n",
       "      <td>0.229</td>\n",
       "      <td>17.049</td>\n",
       "      <td>0.058</td>\n",
       "    </tr>\n",
       "    <tr>\n",
       "      <th>3189</th>\n",
       "      <td>2015-10-01</td>\n",
       "      <td>10.801</td>\n",
       "      <td>0.102</td>\n",
       "      <td>16.450</td>\n",
       "      <td>0.059</td>\n",
       "      <td>5.232</td>\n",
       "      <td>0.115</td>\n",
       "      <td>16.290</td>\n",
       "      <td>0.062</td>\n",
       "    </tr>\n",
       "    <tr>\n",
       "      <th>3190</th>\n",
       "      <td>2015-11-01</td>\n",
       "      <td>7.433</td>\n",
       "      <td>0.119</td>\n",
       "      <td>12.892</td>\n",
       "      <td>0.093</td>\n",
       "      <td>2.157</td>\n",
       "      <td>0.106</td>\n",
       "      <td>15.252</td>\n",
       "      <td>0.063</td>\n",
       "    </tr>\n",
       "    <tr>\n",
       "      <th>3191</th>\n",
       "      <td>2015-12-01</td>\n",
       "      <td>5.518</td>\n",
       "      <td>0.100</td>\n",
       "      <td>10.725</td>\n",
       "      <td>0.154</td>\n",
       "      <td>0.287</td>\n",
       "      <td>0.099</td>\n",
       "      <td>14.774</td>\n",
       "      <td>0.062</td>\n",
       "    </tr>\n",
       "  </tbody>\n",
       "</table>\n",
       "<p>3192 rows × 9 columns</p>\n",
       "</div>"
      ],
      "text/plain": [
       "              dt  LandAverageTemperature  LandAverageTemperatureUncertainty  \\\n",
       "0     1750-01-01                   3.034                              3.574   \n",
       "1     1750-02-01                   3.083                              3.702   \n",
       "2     1750-03-01                   5.626                              3.076   \n",
       "3     1750-04-01                   8.490                              2.451   \n",
       "4     1750-05-01                  11.573                              2.072   \n",
       "...          ...                     ...                                ...   \n",
       "3187  2015-08-01                  14.755                              0.072   \n",
       "3188  2015-09-01                  12.999                              0.079   \n",
       "3189  2015-10-01                  10.801                              0.102   \n",
       "3190  2015-11-01                   7.433                              0.119   \n",
       "3191  2015-12-01                   5.518                              0.100   \n",
       "\n",
       "      LandMaxTemperature  LandMaxTemperatureUncertainty  LandMinTemperature  \\\n",
       "0                    NaN                            NaN                 NaN   \n",
       "1                    NaN                            NaN                 NaN   \n",
       "2                    NaN                            NaN                 NaN   \n",
       "3                    NaN                            NaN                 NaN   \n",
       "4                    NaN                            NaN                 NaN   \n",
       "...                  ...                            ...                 ...   \n",
       "3187              20.699                          0.110               9.005   \n",
       "3188              18.845                          0.088               7.199   \n",
       "3189              16.450                          0.059               5.232   \n",
       "3190              12.892                          0.093               2.157   \n",
       "3191              10.725                          0.154               0.287   \n",
       "\n",
       "      LandMinTemperatureUncertainty  LandAndOceanAverageTemperature  \\\n",
       "0                               NaN                             NaN   \n",
       "1                               NaN                             NaN   \n",
       "2                               NaN                             NaN   \n",
       "3                               NaN                             NaN   \n",
       "4                               NaN                             NaN   \n",
       "...                             ...                             ...   \n",
       "3187                          0.170                          17.589   \n",
       "3188                          0.229                          17.049   \n",
       "3189                          0.115                          16.290   \n",
       "3190                          0.106                          15.252   \n",
       "3191                          0.099                          14.774   \n",
       "\n",
       "      LandAndOceanAverageTemperatureUncertainty  \n",
       "0                                           NaN  \n",
       "1                                           NaN  \n",
       "2                                           NaN  \n",
       "3                                           NaN  \n",
       "4                                           NaN  \n",
       "...                                         ...  \n",
       "3187                                      0.057  \n",
       "3188                                      0.058  \n",
       "3189                                      0.062  \n",
       "3190                                      0.063  \n",
       "3191                                      0.062  \n",
       "\n",
       "[3192 rows x 9 columns]"
      ]
     },
     "execution_count": 104,
     "metadata": {},
     "output_type": "execute_result"
    }
   ],
   "source": [
    "global_temp"
   ]
  },
  {
   "cell_type": "code",
   "execution_count": 121,
   "metadata": {},
   "outputs": [],
   "source": [
    "import datetime\n",
    "global_temp['years'] = global_temp['dt'].apply(lambda x:datetime.datetime.strptime(x, '%Y-%m-%d').year)\n"
   ]
  },
  {
   "cell_type": "code",
   "execution_count": 126,
   "metadata": {},
   "outputs": [],
   "source": [
    "temp_mean_year = global_temp.groupby('years').mean()"
   ]
  },
  {
   "cell_type": "code",
   "execution_count": 136,
   "metadata": {},
   "outputs": [],
   "source": [
    "a = np.array(temp_mean_year['LandAverageTemperature'])\n",
    "b = np.array(temp_mean_year['LandAverageTemperatureUncertainty'])"
   ]
  },
  {
   "cell_type": "code",
   "execution_count": 152,
   "metadata": {},
   "outputs": [
    {
     "data": {
      "application/vnd.plotly.v1+json": {
       "config": {
        "linkText": "Export to plot.ly",
        "plotlyServerURL": "https://plot.ly",
        "showLink": false
       },
       "data": [
        {
         "line": {
          "color": "rgb(0,255,255)"
         },
         "mode": "lines",
         "name": "Unvertainty top",
         "type": "scatter",
         "x": [
          1750,
          1751,
          1752,
          1753,
          1754,
          1755,
          1756,
          1757,
          1758,
          1759,
          1760,
          1761,
          1762,
          1763,
          1764,
          1765,
          1766,
          1767,
          1768,
          1769,
          1770,
          1771,
          1772,
          1773,
          1774,
          1775,
          1776,
          1777,
          1778,
          1779,
          1780,
          1781,
          1782,
          1783,
          1784,
          1785,
          1786,
          1787,
          1788,
          1789,
          1790,
          1791,
          1792,
          1793,
          1794,
          1795,
          1796,
          1797,
          1798,
          1799,
          1800,
          1801,
          1802,
          1803,
          1804,
          1805,
          1806,
          1807,
          1808,
          1809,
          1810,
          1811,
          1812,
          1813,
          1814,
          1815,
          1816,
          1817,
          1818,
          1819,
          1820,
          1821,
          1822,
          1823,
          1824,
          1825,
          1826,
          1827,
          1828,
          1829,
          1830,
          1831,
          1832,
          1833,
          1834,
          1835,
          1836,
          1837,
          1838,
          1839,
          1840,
          1841,
          1842,
          1843,
          1844,
          1845,
          1846,
          1847,
          1848,
          1849,
          1850,
          1851,
          1852,
          1853,
          1854,
          1855,
          1856,
          1857,
          1858,
          1859,
          1860,
          1861,
          1862,
          1863,
          1864,
          1865,
          1866,
          1867,
          1868,
          1869,
          1870,
          1871,
          1872,
          1873,
          1874,
          1875,
          1876,
          1877,
          1878,
          1879,
          1880,
          1881,
          1882,
          1883,
          1884,
          1885,
          1886,
          1887,
          1888,
          1889,
          1890,
          1891,
          1892,
          1893,
          1894,
          1895,
          1896,
          1897,
          1898,
          1899,
          1900,
          1901,
          1902,
          1903,
          1904,
          1905,
          1906,
          1907,
          1908,
          1909,
          1910,
          1911,
          1912,
          1913,
          1914,
          1915,
          1916,
          1917,
          1918,
          1919,
          1920,
          1921,
          1922,
          1923,
          1924,
          1925,
          1926,
          1927,
          1928,
          1929,
          1930,
          1931,
          1932,
          1933,
          1934,
          1935,
          1936,
          1937,
          1938,
          1939,
          1940,
          1941,
          1942,
          1943,
          1944,
          1945,
          1946,
          1947,
          1948,
          1949,
          1950,
          1951,
          1952,
          1953,
          1954,
          1955,
          1956,
          1957,
          1958,
          1959,
          1960,
          1961,
          1962,
          1963,
          1964,
          1965,
          1966,
          1967,
          1968,
          1969,
          1970,
          1971,
          1972,
          1973,
          1974,
          1975,
          1976,
          1977,
          1978,
          1979,
          1980,
          1981,
          1982,
          1983,
          1984,
          1985,
          1986,
          1987,
          1988,
          1989,
          1990,
          1991,
          1992,
          1993,
          1994,
          1995,
          1996,
          1997,
          1998,
          1999,
          2000,
          2001,
          2002,
          2003,
          2004,
          2005,
          2006,
          2007,
          2008,
          2009,
          2010,
          2011,
          2012,
          2013,
          2014,
          2015
         ],
         "y": [
          11.357181818181818,
          10.757285714285715,
          8.756833333333333,
          11.564083333333333,
          11.963583333333336,
          12.205916666666667,
          12.111916666666668,
          13.048000000000002,
          10.1065,
          11.664,
          10.274083333333333,
          11.917333333333332,
          12.13075,
          10.648333333333332,
          11.175583333333332,
          10.679666666666666,
          11.2415,
          11.184166666666666,
          9.047333333333334,
          10.104666666666667,
          10.472583333333333,
          10.45775,
          10.657333333333334,
          10.58225,
          12.187333333333331,
          11.503666666666668,
          11.168166666666668,
          10.699083333333334,
          11.41475,
          11.489083333333333,
          12.017750000000001,
          10.606416666666664,
          10.451833333333331,
          10.17525,
          10.117666666666668,
          9.6025,
          10.783583333333333,
          10.393583333333334,
          11.004999999999999,
          10.202833333333333,
          9.754,
          10.018,
          9.789416666666668,
          10.503583333333331,
          10.505,
          10.393666666666666,
          10.191666666666666,
          10.556250000000002,
          10.573583333333332,
          10.244166666666665,
          10.202916666666669,
          10.171333333333335,
          10.427166666666666,
          10.136166666666666,
          10.686666666666667,
          10.251666666666665,
          10.004166666666665,
          9.873666666666665,
          9.623666666666665,
          9.211833333333333,
          9.233666666666664,
          8.955250000000001,
          9.181833333333334,
          9.448750000000002,
          9.760250000000001,
          9.205833333333334,
          9.130416666666667,
          8.684000000000001,
          9.658000000000001,
          8.951083333333333,
          9.235,
          9.465916666666665,
          9.563583333333334,
          9.080916666666667,
          9.995000000000001,
          9.897166666666667,
          9.916166666666669,
          10.25233333333333,
          9.81375,
          9.261583333333332,
          9.948166666666667,
          9.170666666666667,
          8.990583333333333,
          9.2465,
          9.299000000000001,
          8.667833333333332,
          8.86525,
          8.666583333333332,
          8.677249999999999,
          8.811666666666666,
          8.787416666666667,
          8.640166666666666,
          8.92025,
          8.923499999999999,
          8.572333333333333,
          8.732666666666667,
          9.6045,
          8.986666666666666,
          8.850833333333334,
          8.898,
          8.777083333333334,
          9.0605,
          9.018416666666665,
          8.876833333333334,
          9.036166666666666,
          8.997916666666665,
          8.756666666666666,
          8.509250000000002,
          8.8,
          8.926666666666668,
          8.586833333333333,
          8.499916666666667,
          8.2475,
          8.859833333333333,
          8.660000000000002,
          8.84,
          8.898166666666665,
          9.071166666666667,
          8.79425,
          9.02775,
          8.7515,
          8.685333333333332,
          8.782916666666665,
          8.901583333333333,
          8.951416666666667,
          8.311083333333334,
          8.513583333333333,
          8.9955,
          9.254666666666665,
          8.62925,
          8.533666666666665,
          8.69025,
          8.508833333333333,
          8.347583333333333,
          8.169916666666667,
          8.344666666666669,
          8.340499999999999,
          8.307,
          8.472916666666666,
          8.688833333333333,
          8.314666666666668,
          8.354666666666667,
          8.404666666666666,
          8.402,
          8.47825,
          8.446250000000001,
          8.52375,
          8.607166666666668,
          8.503666666666666,
          8.721083333333333,
          8.816333333333333,
          8.848166666666666,
          8.597166666666666,
          8.510166666666667,
          8.377333333333333,
          8.503916666666665,
          8.653999999999998,
          8.204333333333334,
          8.460833333333333,
          8.441,
          8.483083333333335,
          8.424833333333336,
          8.423833333333334,
          8.559999999999999,
          8.842416666666667,
          8.839333333333332,
          8.485666666666667,
          8.283999999999999,
          8.399083333333332,
          8.649000000000001,
          8.621416666666667,
          8.827833333333333,
          8.666583333333334,
          8.675249999999998,
          8.763666666666667,
          8.775166666666667,
          8.971499999999999,
          8.770999999999999,
          8.88075,
          8.494166666666665,
          8.873249999999999,
          8.957,
          8.954166666666667,
          8.580916666666667,
          8.868416666666668,
          8.751666666666667,
          8.797083333333333,
          8.938416666666665,
          9.104166666666666,
          8.997666666666667,
          8.995750000000001,
          8.996500000000001,
          8.957916666666666,
          8.981666666666667,
          9.070166666666667,
          8.805166666666665,
          8.899333333333335,
          9.014166666666666,
          8.956333333333333,
          8.794999999999998,
          8.551583333333335,
          8.809833333333332,
          8.847000000000001,
          9.085833333333335,
          8.747833333333332,
          8.779833333333334,
          8.400416666666667,
          8.8905,
          8.878083333333333,
          8.839833333333331,
          8.67725,
          8.894666666666666,
          8.878833333333333,
          8.948333333333332,
          8.502166666666666,
          8.63625,
          8.691583333333332,
          8.78375,
          8.628,
          8.68025,
          8.776499999999999,
          8.697166666666666,
          8.594916666666666,
          9.048999999999998,
          8.572,
          8.841916666666668,
          8.447833333333332,
          8.934916666666666,
          8.796583333333333,
          8.819833333333332,
          9.087,
          9.253083333333333,
          8.721833333333333,
          9.122166666666665,
          8.794416666666669,
          8.751249999999999,
          8.918583333333332,
          9.079583333333334,
          9.281666666666666,
          9.009999999999998,
          9.320500000000001,
          9.2415,
          8.919916666666666,
          8.947916666666666,
          9.109666666666666,
          9.423499999999999,
          9.123666666666667,
          9.291166666666667,
          9.596583333333333,
          9.364333333333333,
          9.284666666666668,
          9.502,
          9.642833333333334,
          9.61625,
          9.408,
          9.776083333333332,
          9.622499999999999,
          9.821666666666664,
          9.510666666666667,
          9.591166666666668,
          9.786499999999998,
          9.598,
          9.59075,
          9.704166666666666,
          9.660833333333333,
          9.923166666666665
         ]
        },
        {
         "fill": "tonexty",
         "line": {
          "color": "rgb(0,255,255)"
         },
         "mode": "lines",
         "name": "Unvertainty bot",
         "type": "scatter",
         "x": [
          1750,
          1751,
          1752,
          1753,
          1754,
          1755,
          1756,
          1757,
          1758,
          1759,
          1760,
          1761,
          1762,
          1763,
          1764,
          1765,
          1766,
          1767,
          1768,
          1769,
          1770,
          1771,
          1772,
          1773,
          1774,
          1775,
          1776,
          1777,
          1778,
          1779,
          1780,
          1781,
          1782,
          1783,
          1784,
          1785,
          1786,
          1787,
          1788,
          1789,
          1790,
          1791,
          1792,
          1793,
          1794,
          1795,
          1796,
          1797,
          1798,
          1799,
          1800,
          1801,
          1802,
          1803,
          1804,
          1805,
          1806,
          1807,
          1808,
          1809,
          1810,
          1811,
          1812,
          1813,
          1814,
          1815,
          1816,
          1817,
          1818,
          1819,
          1820,
          1821,
          1822,
          1823,
          1824,
          1825,
          1826,
          1827,
          1828,
          1829,
          1830,
          1831,
          1832,
          1833,
          1834,
          1835,
          1836,
          1837,
          1838,
          1839,
          1840,
          1841,
          1842,
          1843,
          1844,
          1845,
          1846,
          1847,
          1848,
          1849,
          1850,
          1851,
          1852,
          1853,
          1854,
          1855,
          1856,
          1857,
          1858,
          1859,
          1860,
          1861,
          1862,
          1863,
          1864,
          1865,
          1866,
          1867,
          1868,
          1869,
          1870,
          1871,
          1872,
          1873,
          1874,
          1875,
          1876,
          1877,
          1878,
          1879,
          1880,
          1881,
          1882,
          1883,
          1884,
          1885,
          1886,
          1887,
          1888,
          1889,
          1890,
          1891,
          1892,
          1893,
          1894,
          1895,
          1896,
          1897,
          1898,
          1899,
          1900,
          1901,
          1902,
          1903,
          1904,
          1905,
          1906,
          1907,
          1908,
          1909,
          1910,
          1911,
          1912,
          1913,
          1914,
          1915,
          1916,
          1917,
          1918,
          1919,
          1920,
          1921,
          1922,
          1923,
          1924,
          1925,
          1926,
          1927,
          1928,
          1929,
          1930,
          1931,
          1932,
          1933,
          1934,
          1935,
          1936,
          1937,
          1938,
          1939,
          1940,
          1941,
          1942,
          1943,
          1944,
          1945,
          1946,
          1947,
          1948,
          1949,
          1950,
          1951,
          1952,
          1953,
          1954,
          1955,
          1956,
          1957,
          1958,
          1959,
          1960,
          1961,
          1962,
          1963,
          1964,
          1965,
          1966,
          1967,
          1968,
          1969,
          1970,
          1971,
          1972,
          1973,
          1974,
          1975,
          1976,
          1977,
          1978,
          1979,
          1980,
          1981,
          1982,
          1983,
          1984,
          1985,
          1986,
          1987,
          1988,
          1989,
          1990,
          1991,
          1992,
          1993,
          1994,
          1995,
          1996,
          1997,
          1998,
          1999,
          2000,
          2001,
          2002,
          2003,
          2004,
          2005,
          2006,
          2007,
          2008,
          2009,
          2010,
          2011,
          2012,
          2013,
          2014,
          2015
         ],
         "y": [
          6.081545454545456,
          5.194999999999999,
          2.8028333333333326,
          5.212083333333332,
          4.975083333333334,
          4.50525,
          5.587249999999999,
          4.9959999999999996,
          3.3806666666666656,
          4.306166666666666,
          4.096250000000001,
          5.627666666666666,
          5.08225,
          4.345166666666666,
          5.6250833333333325,
          5.824166666666666,
          5.569833333333333,
          5.258833333333332,
          4.515333333333333,
          5.284500000000001,
          4.91125,
          5.248583333333334,
          5.729666666666667,
          5.860750000000001,
          5.356999999999999,
          6.862500000000001,
          5.439833333333333,
          5.813416666666669,
          5.669749999999999,
          6.477416666666667,
          6.848083333333333,
          5.598749999999998,
          5.350666666666665,
          5.186416666666666,
          5.606333333333334,
          5.1235,
          5.732749999999999,
          5.6700833333333325,
          5.889333333333333,
          6.4655,
          6.210666666666667,
          6.450499999999999,
          6.388583333333334,
          5.95475,
          6.5470000000000015,
          6.307,
          6.3503333333333325,
          6.464916666666667,
          6.766916666666666,
          6.767333333333332,
          6.765583333333335,
          7.008000000000001,
          6.729166666666666,
          6.869833333333333,
          7.003,
          6.873833333333333,
          6.863999999999998,
          6.689166666666665,
          5.63,
          4.941000000000001,
          4.611666666666666,
          4.76375,
          4.910666666666668,
          6.031083333333335,
          5.4232499999999995,
          5.272833333333334,
          4.744583333333333,
          5.267333333333335,
          5.999833333333334,
          5.787250000000001,
          5.997499999999998,
          6.714249999999999,
          6.813083333333334,
          6.356416666666667,
          7.099333333333334,
          6.8815,
          6.7970000000000015,
          7.365166666666664,
          6.516916666666668,
          6.622083333333332,
          7.085333333333334,
          6.107666666666667,
          5.909750000000001,
          6.7795,
          6.994500000000001,
          6.117166666666666,
          6.526416666666667,
          6.084749999999998,
          6.352583333333332,
          6.4528333333333325,
          6.805083333333334,
          6.736166666666667,
          7.12525,
          7.423833333333333,
          6.7203333333333335,
          6.969666666666668,
          7.5009999999999994,
          7.185333333333333,
          7.108166666666667,
          7.070833333333334,
          7.024249999999999,
          7.296666666666665,
          7.181916666666664,
          7.206833333333333,
          7.384833333333333,
          7.223583333333331,
          7.235166666666666,
          7.007083333333334,
          7.400500000000001,
          7.577333333333334,
          7.334833333333333,
          7.193083333333335,
          6.869666666666667,
          7.363833333333333,
          7.307166666666668,
          7.515666666666667,
          7.686166666666665,
          7.801500000000001,
          7.701583333333334,
          7.836416666666667,
          7.651166666666666,
          7.544833333333333,
          7.604749999999998,
          7.800583333333334,
          7.915583333333334,
          7.408083333333334,
          7.646583333333333,
          8.083666666666666,
          8.404833333333332,
          7.702416666666667,
          7.703833333333332,
          7.851583333333333,
          7.7490000000000006,
          7.606249999999998,
          7.377416666666667,
          7.494666666666668,
          7.5684999999999985,
          7.522833333333333,
          7.708083333333334,
          7.949166666666666,
          7.628666666666667,
          7.684,
          7.7269999999999985,
          7.711499999999999,
          7.84375,
          7.8477500000000004,
          7.906083333333332,
          7.979500000000002,
          7.852333333333332,
          8.071583333333333,
          8.186833333333333,
          8.235666666666665,
          8.011666666666667,
          7.9301666666666675,
          7.8045,
          7.946416666666665,
          8.104166666666666,
          7.69,
          7.911333333333334,
          7.915500000000001,
          7.9629166666666675,
          7.929166666666668,
          7.907000000000001,
          8.035499999999999,
          8.338583333333334,
          8.346999999999998,
          7.964833333333334,
          7.762666666666665,
          7.8625833333333315,
          8.1155,
          8.096083333333334,
          8.314166666666667,
          8.149416666666665,
          8.169083333333333,
          8.250000000000002,
          8.293666666666667,
          8.486166666666666,
          8.273166666666667,
          8.383583333333336,
          7.990666666666665,
          8.393916666666666,
          8.4815,
          8.456333333333335,
          8.095583333333334,
          8.388250000000003,
          8.279833333333334,
          8.310916666666667,
          8.45825,
          8.623166666666664,
          8.523,
          8.533583333333333,
          8.540833333333335,
          8.498916666666666,
          8.5285,
          8.619833333333334,
          8.3645,
          8.454500000000003,
          8.58,
          8.537166666666668,
          8.378499999999999,
          8.178916666666668,
          8.4415,
          8.4295,
          8.661666666666667,
          8.3735,
          8.472666666666667,
          8.15875,
          8.5745,
          8.669416666666667,
          8.625499999999999,
          8.49025,
          8.700666666666667,
          8.613,
          8.763666666666667,
          8.317166666666667,
          8.418583333333334,
          8.507083333333332,
          8.616416666666668,
          8.404666666666667,
          8.509916666666667,
          8.625333333333334,
          8.501333333333333,
          8.404250000000001,
          8.847499999999998,
          8.363,
          8.64775,
          8.246666666666666,
          8.765583333333332,
          8.588916666666664,
          8.646999999999998,
          8.873666666666665,
          9.078583333333334,
          8.5565,
          8.934166666666666,
          8.589250000000002,
          8.56475,
          8.74858333333333,
          8.909250000000002,
          9.121500000000001,
          8.834,
          9.147833333333333,
          9.117333333333333,
          8.753249999999998,
          8.78525,
          8.967833333333331,
          9.270666666666665,
          8.954166666666667,
          9.113999999999999,
          9.448749999999999,
          9.205833333333333,
          9.117666666666667,
          9.327166666666669,
          9.498,
          9.434916666666666,
          9.241166666666667,
          9.62575,
          9.442499999999999,
          9.642666666666665,
          9.352833333333335,
          9.419333333333336,
          9.619666666666665,
          9.434,
          9.423916666666667,
          9.508833333333332,
          9.4805,
          9.73883333333333
         ]
        },
        {
         "line": {
          "color": "rgb(199,121,093)"
         },
         "name": "Average Temperature",
         "type": "scatter",
         "x": [
          1750,
          1751,
          1752,
          1753,
          1754,
          1755,
          1756,
          1757,
          1758,
          1759,
          1760,
          1761,
          1762,
          1763,
          1764,
          1765,
          1766,
          1767,
          1768,
          1769,
          1770,
          1771,
          1772,
          1773,
          1774,
          1775,
          1776,
          1777,
          1778,
          1779,
          1780,
          1781,
          1782,
          1783,
          1784,
          1785,
          1786,
          1787,
          1788,
          1789,
          1790,
          1791,
          1792,
          1793,
          1794,
          1795,
          1796,
          1797,
          1798,
          1799,
          1800,
          1801,
          1802,
          1803,
          1804,
          1805,
          1806,
          1807,
          1808,
          1809,
          1810,
          1811,
          1812,
          1813,
          1814,
          1815,
          1816,
          1817,
          1818,
          1819,
          1820,
          1821,
          1822,
          1823,
          1824,
          1825,
          1826,
          1827,
          1828,
          1829,
          1830,
          1831,
          1832,
          1833,
          1834,
          1835,
          1836,
          1837,
          1838,
          1839,
          1840,
          1841,
          1842,
          1843,
          1844,
          1845,
          1846,
          1847,
          1848,
          1849,
          1850,
          1851,
          1852,
          1853,
          1854,
          1855,
          1856,
          1857,
          1858,
          1859,
          1860,
          1861,
          1862,
          1863,
          1864,
          1865,
          1866,
          1867,
          1868,
          1869,
          1870,
          1871,
          1872,
          1873,
          1874,
          1875,
          1876,
          1877,
          1878,
          1879,
          1880,
          1881,
          1882,
          1883,
          1884,
          1885,
          1886,
          1887,
          1888,
          1889,
          1890,
          1891,
          1892,
          1893,
          1894,
          1895,
          1896,
          1897,
          1898,
          1899,
          1900,
          1901,
          1902,
          1903,
          1904,
          1905,
          1906,
          1907,
          1908,
          1909,
          1910,
          1911,
          1912,
          1913,
          1914,
          1915,
          1916,
          1917,
          1918,
          1919,
          1920,
          1921,
          1922,
          1923,
          1924,
          1925,
          1926,
          1927,
          1928,
          1929,
          1930,
          1931,
          1932,
          1933,
          1934,
          1935,
          1936,
          1937,
          1938,
          1939,
          1940,
          1941,
          1942,
          1943,
          1944,
          1945,
          1946,
          1947,
          1948,
          1949,
          1950,
          1951,
          1952,
          1953,
          1954,
          1955,
          1956,
          1957,
          1958,
          1959,
          1960,
          1961,
          1962,
          1963,
          1964,
          1965,
          1966,
          1967,
          1968,
          1969,
          1970,
          1971,
          1972,
          1973,
          1974,
          1975,
          1976,
          1977,
          1978,
          1979,
          1980,
          1981,
          1982,
          1983,
          1984,
          1985,
          1986,
          1987,
          1988,
          1989,
          1990,
          1991,
          1992,
          1993,
          1994,
          1995,
          1996,
          1997,
          1998,
          1999,
          2000,
          2001,
          2002,
          2003,
          2004,
          2005,
          2006,
          2007,
          2008,
          2009,
          2010,
          2011,
          2012,
          2013,
          2014,
          2015
         ],
         "y": [
          8.719363636363637,
          7.9761428571428565,
          5.7798333333333325,
          8.388083333333332,
          8.469333333333335,
          8.355583333333334,
          8.849583333333333,
          9.022,
          6.743583333333333,
          7.985083333333333,
          7.185166666666667,
          8.772499999999999,
          8.6065,
          7.496749999999999,
          8.400333333333332,
          8.251916666666666,
          8.405666666666667,
          8.221499999999999,
          6.781333333333333,
          7.694583333333334,
          7.691916666666667,
          7.8531666666666675,
          8.1935,
          8.2215,
          8.772166666666665,
          9.183083333333334,
          8.304,
          8.256250000000001,
          8.54225,
          8.98325,
          9.432916666666667,
          8.102583333333332,
          7.901249999999998,
          7.680833333333333,
          7.862000000000001,
          7.3629999999999995,
          8.258166666666666,
          8.031833333333333,
          8.447166666666666,
          8.334166666666667,
          7.982333333333333,
          8.23425,
          8.089,
          8.229166666666666,
          8.526000000000002,
          8.350333333333333,
          8.270999999999999,
          8.510583333333335,
          8.67025,
          8.505749999999999,
          8.484250000000001,
          8.589666666666668,
          8.578166666666666,
          8.503,
          8.844833333333334,
          8.56275,
          8.434083333333332,
          8.281416666666665,
          7.626833333333333,
          7.076416666666667,
          6.922666666666665,
          6.859500000000001,
          7.046250000000001,
          7.7399166666666686,
          7.59175,
          7.239333333333334,
          6.9375,
          6.975666666666668,
          7.828916666666667,
          7.3691666666666675,
          7.616249999999998,
          8.090083333333332,
          8.188333333333334,
          7.7186666666666675,
          8.547166666666667,
          8.389333333333333,
          8.356583333333335,
          8.808749999999998,
          8.165333333333335,
          7.941833333333332,
          8.51675,
          7.639166666666667,
          7.450166666666667,
          8.013,
          8.14675,
          7.392499999999999,
          7.695833333333334,
          7.375666666666665,
          7.514916666666665,
          7.632249999999999,
          7.796250000000001,
          7.688166666666667,
          8.02275,
          8.173666666666666,
          7.646333333333334,
          7.851166666666668,
          8.55275,
          8.086,
          7.979500000000001,
          7.984416666666667,
          7.900666666666666,
          8.178583333333332,
          8.100166666666665,
          8.041833333333333,
          8.2105,
          8.110749999999998,
          7.995916666666666,
          7.758166666666668,
          8.10025,
          8.252,
          7.960833333333333,
          7.846500000000002,
          7.558583333333334,
          8.111833333333333,
          7.983583333333335,
          8.177833333333334,
          8.292166666666665,
          8.436333333333334,
          8.247916666666667,
          8.432083333333333,
          8.201333333333332,
          8.115083333333333,
          8.193833333333332,
          8.351083333333333,
          8.4335,
          7.859583333333334,
          8.080083333333333,
          8.539583333333333,
          8.829749999999999,
          8.165833333333333,
          8.118749999999999,
          8.270916666666666,
          8.128916666666667,
          7.976916666666665,
          7.773666666666667,
          7.919666666666668,
          7.954499999999999,
          7.914916666666667,
          8.0905,
          8.318999999999999,
          7.971666666666667,
          8.019333333333334,
          8.065833333333332,
          8.05675,
          8.161,
          8.147,
          8.214916666666666,
          8.293333333333335,
          8.177999999999999,
          8.396333333333333,
          8.501583333333333,
          8.541916666666665,
          8.304416666666667,
          8.220166666666668,
          8.090916666666667,
          8.225166666666665,
          8.379083333333332,
          7.947166666666667,
          8.186083333333334,
          8.17825,
          8.223,
          8.177000000000001,
          8.165416666666667,
          8.297749999999999,
          8.5905,
          8.593166666666665,
          8.22525,
          8.023333333333332,
          8.130833333333332,
          8.38225,
          8.35875,
          8.571,
          8.408,
          8.422166666666666,
          8.506833333333335,
          8.534416666666667,
          8.728833333333332,
          8.522083333333333,
          8.632166666666668,
          8.242416666666665,
          8.633583333333332,
          8.71925,
          8.705250000000001,
          8.33825,
          8.628333333333336,
          8.51575,
          8.554,
          8.698333333333332,
          8.863666666666665,
          8.760333333333334,
          8.764666666666667,
          8.768666666666668,
          8.728416666666666,
          8.755083333333333,
          8.845,
          8.584833333333332,
          8.676916666666669,
          8.797083333333333,
          8.74675,
          8.586749999999999,
          8.365250000000001,
          8.625666666666666,
          8.638250000000001,
          8.873750000000001,
          8.560666666666666,
          8.62625,
          8.279583333333333,
          8.7325,
          8.77375,
          8.732666666666665,
          8.58375,
          8.797666666666666,
          8.745916666666666,
          8.856,
          8.409666666666666,
          8.527416666666667,
          8.599333333333332,
          8.700083333333334,
          8.516333333333334,
          8.595083333333333,
          8.700916666666666,
          8.59925,
          8.499583333333334,
          8.948249999999998,
          8.4675,
          8.744833333333334,
          8.347249999999999,
          8.850249999999999,
          8.692749999999998,
          8.733416666666665,
          8.980333333333332,
          9.165833333333333,
          8.639166666666666,
          9.028166666666666,
          8.691833333333335,
          8.658,
          8.833583333333332,
          8.994416666666668,
          9.201583333333334,
          8.921999999999999,
          9.234166666666667,
          9.179416666666667,
          8.836583333333332,
          8.866583333333333,
          9.038749999999999,
          9.347083333333332,
          9.038916666666667,
          9.202583333333333,
          9.522666666666666,
          9.285083333333333,
          9.201166666666667,
          9.414583333333335,
          9.570416666666667,
          9.525583333333334,
          9.324583333333333,
          9.700916666666666,
          9.532499999999999,
          9.732166666666664,
          9.431750000000001,
          9.505250000000002,
          9.703083333333332,
          9.516,
          9.507333333333333,
          9.606499999999999,
          9.570666666666666,
          9.830999999999998
         ]
        }
       ],
       "layout": {
        "showlegend": false,
        "template": {
         "data": {
          "bar": [
           {
            "error_x": {
             "color": "#2a3f5f"
            },
            "error_y": {
             "color": "#2a3f5f"
            },
            "marker": {
             "line": {
              "color": "#E5ECF6",
              "width": 0.5
             }
            },
            "type": "bar"
           }
          ],
          "barpolar": [
           {
            "marker": {
             "line": {
              "color": "#E5ECF6",
              "width": 0.5
             }
            },
            "type": "barpolar"
           }
          ],
          "carpet": [
           {
            "aaxis": {
             "endlinecolor": "#2a3f5f",
             "gridcolor": "white",
             "linecolor": "white",
             "minorgridcolor": "white",
             "startlinecolor": "#2a3f5f"
            },
            "baxis": {
             "endlinecolor": "#2a3f5f",
             "gridcolor": "white",
             "linecolor": "white",
             "minorgridcolor": "white",
             "startlinecolor": "#2a3f5f"
            },
            "type": "carpet"
           }
          ],
          "choropleth": [
           {
            "colorbar": {
             "outlinewidth": 0,
             "ticks": ""
            },
            "type": "choropleth"
           }
          ],
          "contour": [
           {
            "colorbar": {
             "outlinewidth": 0,
             "ticks": ""
            },
            "colorscale": [
             [
              0,
              "#0d0887"
             ],
             [
              0.1111111111111111,
              "#46039f"
             ],
             [
              0.2222222222222222,
              "#7201a8"
             ],
             [
              0.3333333333333333,
              "#9c179e"
             ],
             [
              0.4444444444444444,
              "#bd3786"
             ],
             [
              0.5555555555555556,
              "#d8576b"
             ],
             [
              0.6666666666666666,
              "#ed7953"
             ],
             [
              0.7777777777777778,
              "#fb9f3a"
             ],
             [
              0.8888888888888888,
              "#fdca26"
             ],
             [
              1,
              "#f0f921"
             ]
            ],
            "type": "contour"
           }
          ],
          "contourcarpet": [
           {
            "colorbar": {
             "outlinewidth": 0,
             "ticks": ""
            },
            "type": "contourcarpet"
           }
          ],
          "heatmap": [
           {
            "colorbar": {
             "outlinewidth": 0,
             "ticks": ""
            },
            "colorscale": [
             [
              0,
              "#0d0887"
             ],
             [
              0.1111111111111111,
              "#46039f"
             ],
             [
              0.2222222222222222,
              "#7201a8"
             ],
             [
              0.3333333333333333,
              "#9c179e"
             ],
             [
              0.4444444444444444,
              "#bd3786"
             ],
             [
              0.5555555555555556,
              "#d8576b"
             ],
             [
              0.6666666666666666,
              "#ed7953"
             ],
             [
              0.7777777777777778,
              "#fb9f3a"
             ],
             [
              0.8888888888888888,
              "#fdca26"
             ],
             [
              1,
              "#f0f921"
             ]
            ],
            "type": "heatmap"
           }
          ],
          "heatmapgl": [
           {
            "colorbar": {
             "outlinewidth": 0,
             "ticks": ""
            },
            "colorscale": [
             [
              0,
              "#0d0887"
             ],
             [
              0.1111111111111111,
              "#46039f"
             ],
             [
              0.2222222222222222,
              "#7201a8"
             ],
             [
              0.3333333333333333,
              "#9c179e"
             ],
             [
              0.4444444444444444,
              "#bd3786"
             ],
             [
              0.5555555555555556,
              "#d8576b"
             ],
             [
              0.6666666666666666,
              "#ed7953"
             ],
             [
              0.7777777777777778,
              "#fb9f3a"
             ],
             [
              0.8888888888888888,
              "#fdca26"
             ],
             [
              1,
              "#f0f921"
             ]
            ],
            "type": "heatmapgl"
           }
          ],
          "histogram": [
           {
            "marker": {
             "colorbar": {
              "outlinewidth": 0,
              "ticks": ""
             }
            },
            "type": "histogram"
           }
          ],
          "histogram2d": [
           {
            "colorbar": {
             "outlinewidth": 0,
             "ticks": ""
            },
            "colorscale": [
             [
              0,
              "#0d0887"
             ],
             [
              0.1111111111111111,
              "#46039f"
             ],
             [
              0.2222222222222222,
              "#7201a8"
             ],
             [
              0.3333333333333333,
              "#9c179e"
             ],
             [
              0.4444444444444444,
              "#bd3786"
             ],
             [
              0.5555555555555556,
              "#d8576b"
             ],
             [
              0.6666666666666666,
              "#ed7953"
             ],
             [
              0.7777777777777778,
              "#fb9f3a"
             ],
             [
              0.8888888888888888,
              "#fdca26"
             ],
             [
              1,
              "#f0f921"
             ]
            ],
            "type": "histogram2d"
           }
          ],
          "histogram2dcontour": [
           {
            "colorbar": {
             "outlinewidth": 0,
             "ticks": ""
            },
            "colorscale": [
             [
              0,
              "#0d0887"
             ],
             [
              0.1111111111111111,
              "#46039f"
             ],
             [
              0.2222222222222222,
              "#7201a8"
             ],
             [
              0.3333333333333333,
              "#9c179e"
             ],
             [
              0.4444444444444444,
              "#bd3786"
             ],
             [
              0.5555555555555556,
              "#d8576b"
             ],
             [
              0.6666666666666666,
              "#ed7953"
             ],
             [
              0.7777777777777778,
              "#fb9f3a"
             ],
             [
              0.8888888888888888,
              "#fdca26"
             ],
             [
              1,
              "#f0f921"
             ]
            ],
            "type": "histogram2dcontour"
           }
          ],
          "mesh3d": [
           {
            "colorbar": {
             "outlinewidth": 0,
             "ticks": ""
            },
            "type": "mesh3d"
           }
          ],
          "parcoords": [
           {
            "line": {
             "colorbar": {
              "outlinewidth": 0,
              "ticks": ""
             }
            },
            "type": "parcoords"
           }
          ],
          "pie": [
           {
            "automargin": true,
            "type": "pie"
           }
          ],
          "scatter": [
           {
            "marker": {
             "colorbar": {
              "outlinewidth": 0,
              "ticks": ""
             }
            },
            "type": "scatter"
           }
          ],
          "scatter3d": [
           {
            "line": {
             "colorbar": {
              "outlinewidth": 0,
              "ticks": ""
             }
            },
            "marker": {
             "colorbar": {
              "outlinewidth": 0,
              "ticks": ""
             }
            },
            "type": "scatter3d"
           }
          ],
          "scattercarpet": [
           {
            "marker": {
             "colorbar": {
              "outlinewidth": 0,
              "ticks": ""
             }
            },
            "type": "scattercarpet"
           }
          ],
          "scattergeo": [
           {
            "marker": {
             "colorbar": {
              "outlinewidth": 0,
              "ticks": ""
             }
            },
            "type": "scattergeo"
           }
          ],
          "scattergl": [
           {
            "marker": {
             "colorbar": {
              "outlinewidth": 0,
              "ticks": ""
             }
            },
            "type": "scattergl"
           }
          ],
          "scattermapbox": [
           {
            "marker": {
             "colorbar": {
              "outlinewidth": 0,
              "ticks": ""
             }
            },
            "type": "scattermapbox"
           }
          ],
          "scatterpolar": [
           {
            "marker": {
             "colorbar": {
              "outlinewidth": 0,
              "ticks": ""
             }
            },
            "type": "scatterpolar"
           }
          ],
          "scatterpolargl": [
           {
            "marker": {
             "colorbar": {
              "outlinewidth": 0,
              "ticks": ""
             }
            },
            "type": "scatterpolargl"
           }
          ],
          "scatterternary": [
           {
            "marker": {
             "colorbar": {
              "outlinewidth": 0,
              "ticks": ""
             }
            },
            "type": "scatterternary"
           }
          ],
          "surface": [
           {
            "colorbar": {
             "outlinewidth": 0,
             "ticks": ""
            },
            "colorscale": [
             [
              0,
              "#0d0887"
             ],
             [
              0.1111111111111111,
              "#46039f"
             ],
             [
              0.2222222222222222,
              "#7201a8"
             ],
             [
              0.3333333333333333,
              "#9c179e"
             ],
             [
              0.4444444444444444,
              "#bd3786"
             ],
             [
              0.5555555555555556,
              "#d8576b"
             ],
             [
              0.6666666666666666,
              "#ed7953"
             ],
             [
              0.7777777777777778,
              "#fb9f3a"
             ],
             [
              0.8888888888888888,
              "#fdca26"
             ],
             [
              1,
              "#f0f921"
             ]
            ],
            "type": "surface"
           }
          ],
          "table": [
           {
            "cells": {
             "fill": {
              "color": "#EBF0F8"
             },
             "line": {
              "color": "white"
             }
            },
            "header": {
             "fill": {
              "color": "#C8D4E3"
             },
             "line": {
              "color": "white"
             }
            },
            "type": "table"
           }
          ]
         },
         "layout": {
          "annotationdefaults": {
           "arrowcolor": "#2a3f5f",
           "arrowhead": 0,
           "arrowwidth": 1
          },
          "autotypenumbers": "strict",
          "coloraxis": {
           "colorbar": {
            "outlinewidth": 0,
            "ticks": ""
           }
          },
          "colorscale": {
           "diverging": [
            [
             0,
             "#8e0152"
            ],
            [
             0.1,
             "#c51b7d"
            ],
            [
             0.2,
             "#de77ae"
            ],
            [
             0.3,
             "#f1b6da"
            ],
            [
             0.4,
             "#fde0ef"
            ],
            [
             0.5,
             "#f7f7f7"
            ],
            [
             0.6,
             "#e6f5d0"
            ],
            [
             0.7,
             "#b8e186"
            ],
            [
             0.8,
             "#7fbc41"
            ],
            [
             0.9,
             "#4d9221"
            ],
            [
             1,
             "#276419"
            ]
           ],
           "sequential": [
            [
             0,
             "#0d0887"
            ],
            [
             0.1111111111111111,
             "#46039f"
            ],
            [
             0.2222222222222222,
             "#7201a8"
            ],
            [
             0.3333333333333333,
             "#9c179e"
            ],
            [
             0.4444444444444444,
             "#bd3786"
            ],
            [
             0.5555555555555556,
             "#d8576b"
            ],
            [
             0.6666666666666666,
             "#ed7953"
            ],
            [
             0.7777777777777778,
             "#fb9f3a"
            ],
            [
             0.8888888888888888,
             "#fdca26"
            ],
            [
             1,
             "#f0f921"
            ]
           ],
           "sequentialminus": [
            [
             0,
             "#0d0887"
            ],
            [
             0.1111111111111111,
             "#46039f"
            ],
            [
             0.2222222222222222,
             "#7201a8"
            ],
            [
             0.3333333333333333,
             "#9c179e"
            ],
            [
             0.4444444444444444,
             "#bd3786"
            ],
            [
             0.5555555555555556,
             "#d8576b"
            ],
            [
             0.6666666666666666,
             "#ed7953"
            ],
            [
             0.7777777777777778,
             "#fb9f3a"
            ],
            [
             0.8888888888888888,
             "#fdca26"
            ],
            [
             1,
             "#f0f921"
            ]
           ]
          },
          "colorway": [
           "#636efa",
           "#EF553B",
           "#00cc96",
           "#ab63fa",
           "#FFA15A",
           "#19d3f3",
           "#FF6692",
           "#B6E880",
           "#FF97FF",
           "#FECB52"
          ],
          "font": {
           "color": "#2a3f5f"
          },
          "geo": {
           "bgcolor": "white",
           "lakecolor": "white",
           "landcolor": "#E5ECF6",
           "showlakes": true,
           "showland": true,
           "subunitcolor": "white"
          },
          "hoverlabel": {
           "align": "left"
          },
          "hovermode": "closest",
          "mapbox": {
           "style": "light"
          },
          "paper_bgcolor": "white",
          "plot_bgcolor": "#E5ECF6",
          "polar": {
           "angularaxis": {
            "gridcolor": "white",
            "linecolor": "white",
            "ticks": ""
           },
           "bgcolor": "#E5ECF6",
           "radialaxis": {
            "gridcolor": "white",
            "linecolor": "white",
            "ticks": ""
           }
          },
          "scene": {
           "xaxis": {
            "backgroundcolor": "#E5ECF6",
            "gridcolor": "white",
            "gridwidth": 2,
            "linecolor": "white",
            "showbackground": true,
            "ticks": "",
            "zerolinecolor": "white"
           },
           "yaxis": {
            "backgroundcolor": "#E5ECF6",
            "gridcolor": "white",
            "gridwidth": 2,
            "linecolor": "white",
            "showbackground": true,
            "ticks": "",
            "zerolinecolor": "white"
           },
           "zaxis": {
            "backgroundcolor": "#E5ECF6",
            "gridcolor": "white",
            "gridwidth": 2,
            "linecolor": "white",
            "showbackground": true,
            "ticks": "",
            "zerolinecolor": "white"
           }
          },
          "shapedefaults": {
           "line": {
            "color": "#2a3f5f"
           }
          },
          "ternary": {
           "aaxis": {
            "gridcolor": "white",
            "linecolor": "white",
            "ticks": ""
           },
           "baxis": {
            "gridcolor": "white",
            "linecolor": "white",
            "ticks": ""
           },
           "bgcolor": "#E5ECF6",
           "caxis": {
            "gridcolor": "white",
            "linecolor": "white",
            "ticks": ""
           }
          },
          "title": {
           "x": 0.05
          },
          "xaxis": {
           "automargin": true,
           "gridcolor": "white",
           "linecolor": "white",
           "ticks": "",
           "title": {
            "standoff": 15
           },
           "zerolinecolor": "white",
           "zerolinewidth": 2
          },
          "yaxis": {
           "automargin": true,
           "gridcolor": "white",
           "linecolor": "white",
           "ticks": "",
           "title": {
            "standoff": 15
           },
           "zerolinecolor": "white",
           "zerolinewidth": 2
          }
         }
        },
        "title": {
         "text": "Average land temperature in world"
        },
        "xaxis": {
         "title": {
          "text": "year"
         }
        },
        "yaxis": {
         "title": {
          "text": "Average Temperature, °C"
         }
        }
       }
      },
      "text/html": [
       "<div>                            <div id=\"55983041-bbb0-47aa-905f-d3820666e214\" class=\"plotly-graph-div\" style=\"height:525px; width:100%;\"></div>            <script type=\"text/javascript\">                require([\"plotly\"], function(Plotly) {                    window.PLOTLYENV=window.PLOTLYENV || {};                                    if (document.getElementById(\"55983041-bbb0-47aa-905f-d3820666e214\")) {                    Plotly.newPlot(                        \"55983041-bbb0-47aa-905f-d3820666e214\",                        [{\"line\": {\"color\": \"rgb(0,255,255)\"}, \"mode\": \"lines\", \"name\": \"Unvertainty top\", \"type\": \"scatter\", \"x\": [1750, 1751, 1752, 1753, 1754, 1755, 1756, 1757, 1758, 1759, 1760, 1761, 1762, 1763, 1764, 1765, 1766, 1767, 1768, 1769, 1770, 1771, 1772, 1773, 1774, 1775, 1776, 1777, 1778, 1779, 1780, 1781, 1782, 1783, 1784, 1785, 1786, 1787, 1788, 1789, 1790, 1791, 1792, 1793, 1794, 1795, 1796, 1797, 1798, 1799, 1800, 1801, 1802, 1803, 1804, 1805, 1806, 1807, 1808, 1809, 1810, 1811, 1812, 1813, 1814, 1815, 1816, 1817, 1818, 1819, 1820, 1821, 1822, 1823, 1824, 1825, 1826, 1827, 1828, 1829, 1830, 1831, 1832, 1833, 1834, 1835, 1836, 1837, 1838, 1839, 1840, 1841, 1842, 1843, 1844, 1845, 1846, 1847, 1848, 1849, 1850, 1851, 1852, 1853, 1854, 1855, 1856, 1857, 1858, 1859, 1860, 1861, 1862, 1863, 1864, 1865, 1866, 1867, 1868, 1869, 1870, 1871, 1872, 1873, 1874, 1875, 1876, 1877, 1878, 1879, 1880, 1881, 1882, 1883, 1884, 1885, 1886, 1887, 1888, 1889, 1890, 1891, 1892, 1893, 1894, 1895, 1896, 1897, 1898, 1899, 1900, 1901, 1902, 1903, 1904, 1905, 1906, 1907, 1908, 1909, 1910, 1911, 1912, 1913, 1914, 1915, 1916, 1917, 1918, 1919, 1920, 1921, 1922, 1923, 1924, 1925, 1926, 1927, 1928, 1929, 1930, 1931, 1932, 1933, 1934, 1935, 1936, 1937, 1938, 1939, 1940, 1941, 1942, 1943, 1944, 1945, 1946, 1947, 1948, 1949, 1950, 1951, 1952, 1953, 1954, 1955, 1956, 1957, 1958, 1959, 1960, 1961, 1962, 1963, 1964, 1965, 1966, 1967, 1968, 1969, 1970, 1971, 1972, 1973, 1974, 1975, 1976, 1977, 1978, 1979, 1980, 1981, 1982, 1983, 1984, 1985, 1986, 1987, 1988, 1989, 1990, 1991, 1992, 1993, 1994, 1995, 1996, 1997, 1998, 1999, 2000, 2001, 2002, 2003, 2004, 2005, 2006, 2007, 2008, 2009, 2010, 2011, 2012, 2013, 2014, 2015], \"y\": [11.357181818181818, 10.757285714285715, 8.756833333333333, 11.564083333333333, 11.963583333333336, 12.205916666666667, 12.111916666666668, 13.048000000000002, 10.1065, 11.664, 10.274083333333333, 11.917333333333332, 12.13075, 10.648333333333332, 11.175583333333332, 10.679666666666666, 11.2415, 11.184166666666666, 9.047333333333334, 10.104666666666667, 10.472583333333333, 10.45775, 10.657333333333334, 10.58225, 12.187333333333331, 11.503666666666668, 11.168166666666668, 10.699083333333334, 11.41475, 11.489083333333333, 12.017750000000001, 10.606416666666664, 10.451833333333331, 10.17525, 10.117666666666668, 9.6025, 10.783583333333333, 10.393583333333334, 11.004999999999999, 10.202833333333333, 9.754, 10.018, 9.789416666666668, 10.503583333333331, 10.505, 10.393666666666666, 10.191666666666666, 10.556250000000002, 10.573583333333332, 10.244166666666665, 10.202916666666669, 10.171333333333335, 10.427166666666666, 10.136166666666666, 10.686666666666667, 10.251666666666665, 10.004166666666665, 9.873666666666665, 9.623666666666665, 9.211833333333333, 9.233666666666664, 8.955250000000001, 9.181833333333334, 9.448750000000002, 9.760250000000001, 9.205833333333334, 9.130416666666667, 8.684000000000001, 9.658000000000001, 8.951083333333333, 9.235, 9.465916666666665, 9.563583333333334, 9.080916666666667, 9.995000000000001, 9.897166666666667, 9.916166666666669, 10.25233333333333, 9.81375, 9.261583333333332, 9.948166666666667, 9.170666666666667, 8.990583333333333, 9.2465, 9.299000000000001, 8.667833333333332, 8.86525, 8.666583333333332, 8.677249999999999, 8.811666666666666, 8.787416666666667, 8.640166666666666, 8.92025, 8.923499999999999, 8.572333333333333, 8.732666666666667, 9.6045, 8.986666666666666, 8.850833333333334, 8.898, 8.777083333333334, 9.0605, 9.018416666666665, 8.876833333333334, 9.036166666666666, 8.997916666666665, 8.756666666666666, 8.509250000000002, 8.8, 8.926666666666668, 8.586833333333333, 8.499916666666667, 8.2475, 8.859833333333333, 8.660000000000002, 8.84, 8.898166666666665, 9.071166666666667, 8.79425, 9.02775, 8.7515, 8.685333333333332, 8.782916666666665, 8.901583333333333, 8.951416666666667, 8.311083333333334, 8.513583333333333, 8.9955, 9.254666666666665, 8.62925, 8.533666666666665, 8.69025, 8.508833333333333, 8.347583333333333, 8.169916666666667, 8.344666666666669, 8.340499999999999, 8.307, 8.472916666666666, 8.688833333333333, 8.314666666666668, 8.354666666666667, 8.404666666666666, 8.402, 8.47825, 8.446250000000001, 8.52375, 8.607166666666668, 8.503666666666666, 8.721083333333333, 8.816333333333333, 8.848166666666666, 8.597166666666666, 8.510166666666667, 8.377333333333333, 8.503916666666665, 8.653999999999998, 8.204333333333334, 8.460833333333333, 8.441, 8.483083333333335, 8.424833333333336, 8.423833333333334, 8.559999999999999, 8.842416666666667, 8.839333333333332, 8.485666666666667, 8.283999999999999, 8.399083333333332, 8.649000000000001, 8.621416666666667, 8.827833333333333, 8.666583333333334, 8.675249999999998, 8.763666666666667, 8.775166666666667, 8.971499999999999, 8.770999999999999, 8.88075, 8.494166666666665, 8.873249999999999, 8.957, 8.954166666666667, 8.580916666666667, 8.868416666666668, 8.751666666666667, 8.797083333333333, 8.938416666666665, 9.104166666666666, 8.997666666666667, 8.995750000000001, 8.996500000000001, 8.957916666666666, 8.981666666666667, 9.070166666666667, 8.805166666666665, 8.899333333333335, 9.014166666666666, 8.956333333333333, 8.794999999999998, 8.551583333333335, 8.809833333333332, 8.847000000000001, 9.085833333333335, 8.747833333333332, 8.779833333333334, 8.400416666666667, 8.8905, 8.878083333333333, 8.839833333333331, 8.67725, 8.894666666666666, 8.878833333333333, 8.948333333333332, 8.502166666666666, 8.63625, 8.691583333333332, 8.78375, 8.628, 8.68025, 8.776499999999999, 8.697166666666666, 8.594916666666666, 9.048999999999998, 8.572, 8.841916666666668, 8.447833333333332, 8.934916666666666, 8.796583333333333, 8.819833333333332, 9.087, 9.253083333333333, 8.721833333333333, 9.122166666666665, 8.794416666666669, 8.751249999999999, 8.918583333333332, 9.079583333333334, 9.281666666666666, 9.009999999999998, 9.320500000000001, 9.2415, 8.919916666666666, 8.947916666666666, 9.109666666666666, 9.423499999999999, 9.123666666666667, 9.291166666666667, 9.596583333333333, 9.364333333333333, 9.284666666666668, 9.502, 9.642833333333334, 9.61625, 9.408, 9.776083333333332, 9.622499999999999, 9.821666666666664, 9.510666666666667, 9.591166666666668, 9.786499999999998, 9.598, 9.59075, 9.704166666666666, 9.660833333333333, 9.923166666666665]}, {\"fill\": \"tonexty\", \"line\": {\"color\": \"rgb(0,255,255)\"}, \"mode\": \"lines\", \"name\": \"Unvertainty bot\", \"type\": \"scatter\", \"x\": [1750, 1751, 1752, 1753, 1754, 1755, 1756, 1757, 1758, 1759, 1760, 1761, 1762, 1763, 1764, 1765, 1766, 1767, 1768, 1769, 1770, 1771, 1772, 1773, 1774, 1775, 1776, 1777, 1778, 1779, 1780, 1781, 1782, 1783, 1784, 1785, 1786, 1787, 1788, 1789, 1790, 1791, 1792, 1793, 1794, 1795, 1796, 1797, 1798, 1799, 1800, 1801, 1802, 1803, 1804, 1805, 1806, 1807, 1808, 1809, 1810, 1811, 1812, 1813, 1814, 1815, 1816, 1817, 1818, 1819, 1820, 1821, 1822, 1823, 1824, 1825, 1826, 1827, 1828, 1829, 1830, 1831, 1832, 1833, 1834, 1835, 1836, 1837, 1838, 1839, 1840, 1841, 1842, 1843, 1844, 1845, 1846, 1847, 1848, 1849, 1850, 1851, 1852, 1853, 1854, 1855, 1856, 1857, 1858, 1859, 1860, 1861, 1862, 1863, 1864, 1865, 1866, 1867, 1868, 1869, 1870, 1871, 1872, 1873, 1874, 1875, 1876, 1877, 1878, 1879, 1880, 1881, 1882, 1883, 1884, 1885, 1886, 1887, 1888, 1889, 1890, 1891, 1892, 1893, 1894, 1895, 1896, 1897, 1898, 1899, 1900, 1901, 1902, 1903, 1904, 1905, 1906, 1907, 1908, 1909, 1910, 1911, 1912, 1913, 1914, 1915, 1916, 1917, 1918, 1919, 1920, 1921, 1922, 1923, 1924, 1925, 1926, 1927, 1928, 1929, 1930, 1931, 1932, 1933, 1934, 1935, 1936, 1937, 1938, 1939, 1940, 1941, 1942, 1943, 1944, 1945, 1946, 1947, 1948, 1949, 1950, 1951, 1952, 1953, 1954, 1955, 1956, 1957, 1958, 1959, 1960, 1961, 1962, 1963, 1964, 1965, 1966, 1967, 1968, 1969, 1970, 1971, 1972, 1973, 1974, 1975, 1976, 1977, 1978, 1979, 1980, 1981, 1982, 1983, 1984, 1985, 1986, 1987, 1988, 1989, 1990, 1991, 1992, 1993, 1994, 1995, 1996, 1997, 1998, 1999, 2000, 2001, 2002, 2003, 2004, 2005, 2006, 2007, 2008, 2009, 2010, 2011, 2012, 2013, 2014, 2015], \"y\": [6.081545454545456, 5.194999999999999, 2.8028333333333326, 5.212083333333332, 4.975083333333334, 4.50525, 5.587249999999999, 4.9959999999999996, 3.3806666666666656, 4.306166666666666, 4.096250000000001, 5.627666666666666, 5.08225, 4.345166666666666, 5.6250833333333325, 5.824166666666666, 5.569833333333333, 5.258833333333332, 4.515333333333333, 5.284500000000001, 4.91125, 5.248583333333334, 5.729666666666667, 5.860750000000001, 5.356999999999999, 6.862500000000001, 5.439833333333333, 5.813416666666669, 5.669749999999999, 6.477416666666667, 6.848083333333333, 5.598749999999998, 5.350666666666665, 5.186416666666666, 5.606333333333334, 5.1235, 5.732749999999999, 5.6700833333333325, 5.889333333333333, 6.4655, 6.210666666666667, 6.450499999999999, 6.388583333333334, 5.95475, 6.5470000000000015, 6.307, 6.3503333333333325, 6.464916666666667, 6.766916666666666, 6.767333333333332, 6.765583333333335, 7.008000000000001, 6.729166666666666, 6.869833333333333, 7.003, 6.873833333333333, 6.863999999999998, 6.689166666666665, 5.63, 4.941000000000001, 4.611666666666666, 4.76375, 4.910666666666668, 6.031083333333335, 5.4232499999999995, 5.272833333333334, 4.744583333333333, 5.267333333333335, 5.999833333333334, 5.787250000000001, 5.997499999999998, 6.714249999999999, 6.813083333333334, 6.356416666666667, 7.099333333333334, 6.8815, 6.7970000000000015, 7.365166666666664, 6.516916666666668, 6.622083333333332, 7.085333333333334, 6.107666666666667, 5.909750000000001, 6.7795, 6.994500000000001, 6.117166666666666, 6.526416666666667, 6.084749999999998, 6.352583333333332, 6.4528333333333325, 6.805083333333334, 6.736166666666667, 7.12525, 7.423833333333333, 6.7203333333333335, 6.969666666666668, 7.5009999999999994, 7.185333333333333, 7.108166666666667, 7.070833333333334, 7.024249999999999, 7.296666666666665, 7.181916666666664, 7.206833333333333, 7.384833333333333, 7.223583333333331, 7.235166666666666, 7.007083333333334, 7.400500000000001, 7.577333333333334, 7.334833333333333, 7.193083333333335, 6.869666666666667, 7.363833333333333, 7.307166666666668, 7.515666666666667, 7.686166666666665, 7.801500000000001, 7.701583333333334, 7.836416666666667, 7.651166666666666, 7.544833333333333, 7.604749999999998, 7.800583333333334, 7.915583333333334, 7.408083333333334, 7.646583333333333, 8.083666666666666, 8.404833333333332, 7.702416666666667, 7.703833333333332, 7.851583333333333, 7.7490000000000006, 7.606249999999998, 7.377416666666667, 7.494666666666668, 7.5684999999999985, 7.522833333333333, 7.708083333333334, 7.949166666666666, 7.628666666666667, 7.684, 7.7269999999999985, 7.711499999999999, 7.84375, 7.8477500000000004, 7.906083333333332, 7.979500000000002, 7.852333333333332, 8.071583333333333, 8.186833333333333, 8.235666666666665, 8.011666666666667, 7.9301666666666675, 7.8045, 7.946416666666665, 8.104166666666666, 7.69, 7.911333333333334, 7.915500000000001, 7.9629166666666675, 7.929166666666668, 7.907000000000001, 8.035499999999999, 8.338583333333334, 8.346999999999998, 7.964833333333334, 7.762666666666665, 7.8625833333333315, 8.1155, 8.096083333333334, 8.314166666666667, 8.149416666666665, 8.169083333333333, 8.250000000000002, 8.293666666666667, 8.486166666666666, 8.273166666666667, 8.383583333333336, 7.990666666666665, 8.393916666666666, 8.4815, 8.456333333333335, 8.095583333333334, 8.388250000000003, 8.279833333333334, 8.310916666666667, 8.45825, 8.623166666666664, 8.523, 8.533583333333333, 8.540833333333335, 8.498916666666666, 8.5285, 8.619833333333334, 8.3645, 8.454500000000003, 8.58, 8.537166666666668, 8.378499999999999, 8.178916666666668, 8.4415, 8.4295, 8.661666666666667, 8.3735, 8.472666666666667, 8.15875, 8.5745, 8.669416666666667, 8.625499999999999, 8.49025, 8.700666666666667, 8.613, 8.763666666666667, 8.317166666666667, 8.418583333333334, 8.507083333333332, 8.616416666666668, 8.404666666666667, 8.509916666666667, 8.625333333333334, 8.501333333333333, 8.404250000000001, 8.847499999999998, 8.363, 8.64775, 8.246666666666666, 8.765583333333332, 8.588916666666664, 8.646999999999998, 8.873666666666665, 9.078583333333334, 8.5565, 8.934166666666666, 8.589250000000002, 8.56475, 8.74858333333333, 8.909250000000002, 9.121500000000001, 8.834, 9.147833333333333, 9.117333333333333, 8.753249999999998, 8.78525, 8.967833333333331, 9.270666666666665, 8.954166666666667, 9.113999999999999, 9.448749999999999, 9.205833333333333, 9.117666666666667, 9.327166666666669, 9.498, 9.434916666666666, 9.241166666666667, 9.62575, 9.442499999999999, 9.642666666666665, 9.352833333333335, 9.419333333333336, 9.619666666666665, 9.434, 9.423916666666667, 9.508833333333332, 9.4805, 9.73883333333333]}, {\"line\": {\"color\": \"rgb(199,121,093)\"}, \"name\": \"Average Temperature\", \"type\": \"scatter\", \"x\": [1750, 1751, 1752, 1753, 1754, 1755, 1756, 1757, 1758, 1759, 1760, 1761, 1762, 1763, 1764, 1765, 1766, 1767, 1768, 1769, 1770, 1771, 1772, 1773, 1774, 1775, 1776, 1777, 1778, 1779, 1780, 1781, 1782, 1783, 1784, 1785, 1786, 1787, 1788, 1789, 1790, 1791, 1792, 1793, 1794, 1795, 1796, 1797, 1798, 1799, 1800, 1801, 1802, 1803, 1804, 1805, 1806, 1807, 1808, 1809, 1810, 1811, 1812, 1813, 1814, 1815, 1816, 1817, 1818, 1819, 1820, 1821, 1822, 1823, 1824, 1825, 1826, 1827, 1828, 1829, 1830, 1831, 1832, 1833, 1834, 1835, 1836, 1837, 1838, 1839, 1840, 1841, 1842, 1843, 1844, 1845, 1846, 1847, 1848, 1849, 1850, 1851, 1852, 1853, 1854, 1855, 1856, 1857, 1858, 1859, 1860, 1861, 1862, 1863, 1864, 1865, 1866, 1867, 1868, 1869, 1870, 1871, 1872, 1873, 1874, 1875, 1876, 1877, 1878, 1879, 1880, 1881, 1882, 1883, 1884, 1885, 1886, 1887, 1888, 1889, 1890, 1891, 1892, 1893, 1894, 1895, 1896, 1897, 1898, 1899, 1900, 1901, 1902, 1903, 1904, 1905, 1906, 1907, 1908, 1909, 1910, 1911, 1912, 1913, 1914, 1915, 1916, 1917, 1918, 1919, 1920, 1921, 1922, 1923, 1924, 1925, 1926, 1927, 1928, 1929, 1930, 1931, 1932, 1933, 1934, 1935, 1936, 1937, 1938, 1939, 1940, 1941, 1942, 1943, 1944, 1945, 1946, 1947, 1948, 1949, 1950, 1951, 1952, 1953, 1954, 1955, 1956, 1957, 1958, 1959, 1960, 1961, 1962, 1963, 1964, 1965, 1966, 1967, 1968, 1969, 1970, 1971, 1972, 1973, 1974, 1975, 1976, 1977, 1978, 1979, 1980, 1981, 1982, 1983, 1984, 1985, 1986, 1987, 1988, 1989, 1990, 1991, 1992, 1993, 1994, 1995, 1996, 1997, 1998, 1999, 2000, 2001, 2002, 2003, 2004, 2005, 2006, 2007, 2008, 2009, 2010, 2011, 2012, 2013, 2014, 2015], \"y\": [8.719363636363637, 7.9761428571428565, 5.7798333333333325, 8.388083333333332, 8.469333333333335, 8.355583333333334, 8.849583333333333, 9.022, 6.743583333333333, 7.985083333333333, 7.185166666666667, 8.772499999999999, 8.6065, 7.496749999999999, 8.400333333333332, 8.251916666666666, 8.405666666666667, 8.221499999999999, 6.781333333333333, 7.694583333333334, 7.691916666666667, 7.8531666666666675, 8.1935, 8.2215, 8.772166666666665, 9.183083333333334, 8.304, 8.256250000000001, 8.54225, 8.98325, 9.432916666666667, 8.102583333333332, 7.901249999999998, 7.680833333333333, 7.862000000000001, 7.3629999999999995, 8.258166666666666, 8.031833333333333, 8.447166666666666, 8.334166666666667, 7.982333333333333, 8.23425, 8.089, 8.229166666666666, 8.526000000000002, 8.350333333333333, 8.270999999999999, 8.510583333333335, 8.67025, 8.505749999999999, 8.484250000000001, 8.589666666666668, 8.578166666666666, 8.503, 8.844833333333334, 8.56275, 8.434083333333332, 8.281416666666665, 7.626833333333333, 7.076416666666667, 6.922666666666665, 6.859500000000001, 7.046250000000001, 7.7399166666666686, 7.59175, 7.239333333333334, 6.9375, 6.975666666666668, 7.828916666666667, 7.3691666666666675, 7.616249999999998, 8.090083333333332, 8.188333333333334, 7.7186666666666675, 8.547166666666667, 8.389333333333333, 8.356583333333335, 8.808749999999998, 8.165333333333335, 7.941833333333332, 8.51675, 7.639166666666667, 7.450166666666667, 8.013, 8.14675, 7.392499999999999, 7.695833333333334, 7.375666666666665, 7.514916666666665, 7.632249999999999, 7.796250000000001, 7.688166666666667, 8.02275, 8.173666666666666, 7.646333333333334, 7.851166666666668, 8.55275, 8.086, 7.979500000000001, 7.984416666666667, 7.900666666666666, 8.178583333333332, 8.100166666666665, 8.041833333333333, 8.2105, 8.110749999999998, 7.995916666666666, 7.758166666666668, 8.10025, 8.252, 7.960833333333333, 7.846500000000002, 7.558583333333334, 8.111833333333333, 7.983583333333335, 8.177833333333334, 8.292166666666665, 8.436333333333334, 8.247916666666667, 8.432083333333333, 8.201333333333332, 8.115083333333333, 8.193833333333332, 8.351083333333333, 8.4335, 7.859583333333334, 8.080083333333333, 8.539583333333333, 8.829749999999999, 8.165833333333333, 8.118749999999999, 8.270916666666666, 8.128916666666667, 7.976916666666665, 7.773666666666667, 7.919666666666668, 7.954499999999999, 7.914916666666667, 8.0905, 8.318999999999999, 7.971666666666667, 8.019333333333334, 8.065833333333332, 8.05675, 8.161, 8.147, 8.214916666666666, 8.293333333333335, 8.177999999999999, 8.396333333333333, 8.501583333333333, 8.541916666666665, 8.304416666666667, 8.220166666666668, 8.090916666666667, 8.225166666666665, 8.379083333333332, 7.947166666666667, 8.186083333333334, 8.17825, 8.223, 8.177000000000001, 8.165416666666667, 8.297749999999999, 8.5905, 8.593166666666665, 8.22525, 8.023333333333332, 8.130833333333332, 8.38225, 8.35875, 8.571, 8.408, 8.422166666666666, 8.506833333333335, 8.534416666666667, 8.728833333333332, 8.522083333333333, 8.632166666666668, 8.242416666666665, 8.633583333333332, 8.71925, 8.705250000000001, 8.33825, 8.628333333333336, 8.51575, 8.554, 8.698333333333332, 8.863666666666665, 8.760333333333334, 8.764666666666667, 8.768666666666668, 8.728416666666666, 8.755083333333333, 8.845, 8.584833333333332, 8.676916666666669, 8.797083333333333, 8.74675, 8.586749999999999, 8.365250000000001, 8.625666666666666, 8.638250000000001, 8.873750000000001, 8.560666666666666, 8.62625, 8.279583333333333, 8.7325, 8.77375, 8.732666666666665, 8.58375, 8.797666666666666, 8.745916666666666, 8.856, 8.409666666666666, 8.527416666666667, 8.599333333333332, 8.700083333333334, 8.516333333333334, 8.595083333333333, 8.700916666666666, 8.59925, 8.499583333333334, 8.948249999999998, 8.4675, 8.744833333333334, 8.347249999999999, 8.850249999999999, 8.692749999999998, 8.733416666666665, 8.980333333333332, 9.165833333333333, 8.639166666666666, 9.028166666666666, 8.691833333333335, 8.658, 8.833583333333332, 8.994416666666668, 9.201583333333334, 8.921999999999999, 9.234166666666667, 9.179416666666667, 8.836583333333332, 8.866583333333333, 9.038749999999999, 9.347083333333332, 9.038916666666667, 9.202583333333333, 9.522666666666666, 9.285083333333333, 9.201166666666667, 9.414583333333335, 9.570416666666667, 9.525583333333334, 9.324583333333333, 9.700916666666666, 9.532499999999999, 9.732166666666664, 9.431750000000001, 9.505250000000002, 9.703083333333332, 9.516, 9.507333333333333, 9.606499999999999, 9.570666666666666, 9.830999999999998]}],                        {\"showlegend\": false, \"template\": {\"data\": {\"bar\": [{\"error_x\": {\"color\": \"#2a3f5f\"}, \"error_y\": {\"color\": \"#2a3f5f\"}, \"marker\": {\"line\": {\"color\": \"#E5ECF6\", \"width\": 0.5}}, \"type\": \"bar\"}], \"barpolar\": [{\"marker\": {\"line\": {\"color\": \"#E5ECF6\", \"width\": 0.5}}, \"type\": \"barpolar\"}], \"carpet\": [{\"aaxis\": {\"endlinecolor\": \"#2a3f5f\", \"gridcolor\": \"white\", \"linecolor\": \"white\", \"minorgridcolor\": \"white\", \"startlinecolor\": \"#2a3f5f\"}, \"baxis\": {\"endlinecolor\": \"#2a3f5f\", \"gridcolor\": \"white\", \"linecolor\": \"white\", \"minorgridcolor\": \"white\", \"startlinecolor\": \"#2a3f5f\"}, \"type\": \"carpet\"}], \"choropleth\": [{\"colorbar\": {\"outlinewidth\": 0, \"ticks\": \"\"}, \"type\": \"choropleth\"}], \"contour\": [{\"colorbar\": {\"outlinewidth\": 0, \"ticks\": \"\"}, \"colorscale\": [[0.0, \"#0d0887\"], [0.1111111111111111, \"#46039f\"], [0.2222222222222222, \"#7201a8\"], [0.3333333333333333, \"#9c179e\"], [0.4444444444444444, \"#bd3786\"], [0.5555555555555556, \"#d8576b\"], [0.6666666666666666, \"#ed7953\"], [0.7777777777777778, \"#fb9f3a\"], [0.8888888888888888, \"#fdca26\"], [1.0, \"#f0f921\"]], \"type\": \"contour\"}], \"contourcarpet\": [{\"colorbar\": {\"outlinewidth\": 0, \"ticks\": \"\"}, \"type\": \"contourcarpet\"}], \"heatmap\": [{\"colorbar\": {\"outlinewidth\": 0, \"ticks\": \"\"}, \"colorscale\": [[0.0, \"#0d0887\"], [0.1111111111111111, \"#46039f\"], [0.2222222222222222, \"#7201a8\"], [0.3333333333333333, \"#9c179e\"], [0.4444444444444444, \"#bd3786\"], [0.5555555555555556, \"#d8576b\"], [0.6666666666666666, \"#ed7953\"], [0.7777777777777778, \"#fb9f3a\"], [0.8888888888888888, \"#fdca26\"], [1.0, \"#f0f921\"]], \"type\": \"heatmap\"}], \"heatmapgl\": [{\"colorbar\": {\"outlinewidth\": 0, \"ticks\": \"\"}, \"colorscale\": [[0.0, \"#0d0887\"], [0.1111111111111111, \"#46039f\"], [0.2222222222222222, \"#7201a8\"], [0.3333333333333333, \"#9c179e\"], [0.4444444444444444, \"#bd3786\"], [0.5555555555555556, \"#d8576b\"], [0.6666666666666666, \"#ed7953\"], [0.7777777777777778, \"#fb9f3a\"], [0.8888888888888888, \"#fdca26\"], [1.0, \"#f0f921\"]], \"type\": \"heatmapgl\"}], \"histogram\": [{\"marker\": {\"colorbar\": {\"outlinewidth\": 0, \"ticks\": \"\"}}, \"type\": \"histogram\"}], \"histogram2d\": [{\"colorbar\": {\"outlinewidth\": 0, \"ticks\": \"\"}, \"colorscale\": [[0.0, \"#0d0887\"], [0.1111111111111111, \"#46039f\"], [0.2222222222222222, \"#7201a8\"], [0.3333333333333333, \"#9c179e\"], [0.4444444444444444, \"#bd3786\"], [0.5555555555555556, \"#d8576b\"], [0.6666666666666666, \"#ed7953\"], [0.7777777777777778, \"#fb9f3a\"], [0.8888888888888888, \"#fdca26\"], [1.0, \"#f0f921\"]], \"type\": \"histogram2d\"}], \"histogram2dcontour\": [{\"colorbar\": {\"outlinewidth\": 0, \"ticks\": \"\"}, \"colorscale\": [[0.0, \"#0d0887\"], [0.1111111111111111, \"#46039f\"], [0.2222222222222222, \"#7201a8\"], [0.3333333333333333, \"#9c179e\"], [0.4444444444444444, \"#bd3786\"], [0.5555555555555556, \"#d8576b\"], [0.6666666666666666, \"#ed7953\"], [0.7777777777777778, \"#fb9f3a\"], [0.8888888888888888, \"#fdca26\"], [1.0, \"#f0f921\"]], \"type\": \"histogram2dcontour\"}], \"mesh3d\": [{\"colorbar\": {\"outlinewidth\": 0, \"ticks\": \"\"}, \"type\": \"mesh3d\"}], \"parcoords\": [{\"line\": {\"colorbar\": {\"outlinewidth\": 0, \"ticks\": \"\"}}, \"type\": \"parcoords\"}], \"pie\": [{\"automargin\": true, \"type\": \"pie\"}], \"scatter\": [{\"marker\": {\"colorbar\": {\"outlinewidth\": 0, \"ticks\": \"\"}}, \"type\": \"scatter\"}], \"scatter3d\": [{\"line\": {\"colorbar\": {\"outlinewidth\": 0, \"ticks\": \"\"}}, \"marker\": {\"colorbar\": {\"outlinewidth\": 0, \"ticks\": \"\"}}, \"type\": \"scatter3d\"}], \"scattercarpet\": [{\"marker\": {\"colorbar\": {\"outlinewidth\": 0, \"ticks\": \"\"}}, \"type\": \"scattercarpet\"}], \"scattergeo\": [{\"marker\": {\"colorbar\": {\"outlinewidth\": 0, \"ticks\": \"\"}}, \"type\": \"scattergeo\"}], \"scattergl\": [{\"marker\": {\"colorbar\": {\"outlinewidth\": 0, \"ticks\": \"\"}}, \"type\": \"scattergl\"}], \"scattermapbox\": [{\"marker\": {\"colorbar\": {\"outlinewidth\": 0, \"ticks\": \"\"}}, \"type\": \"scattermapbox\"}], \"scatterpolar\": [{\"marker\": {\"colorbar\": {\"outlinewidth\": 0, \"ticks\": \"\"}}, \"type\": \"scatterpolar\"}], \"scatterpolargl\": [{\"marker\": {\"colorbar\": {\"outlinewidth\": 0, \"ticks\": \"\"}}, \"type\": \"scatterpolargl\"}], \"scatterternary\": [{\"marker\": {\"colorbar\": {\"outlinewidth\": 0, \"ticks\": \"\"}}, \"type\": \"scatterternary\"}], \"surface\": [{\"colorbar\": {\"outlinewidth\": 0, \"ticks\": \"\"}, \"colorscale\": [[0.0, \"#0d0887\"], [0.1111111111111111, \"#46039f\"], [0.2222222222222222, \"#7201a8\"], [0.3333333333333333, \"#9c179e\"], [0.4444444444444444, \"#bd3786\"], [0.5555555555555556, \"#d8576b\"], [0.6666666666666666, \"#ed7953\"], [0.7777777777777778, \"#fb9f3a\"], [0.8888888888888888, \"#fdca26\"], [1.0, \"#f0f921\"]], \"type\": \"surface\"}], \"table\": [{\"cells\": {\"fill\": {\"color\": \"#EBF0F8\"}, \"line\": {\"color\": \"white\"}}, \"header\": {\"fill\": {\"color\": \"#C8D4E3\"}, \"line\": {\"color\": \"white\"}}, \"type\": \"table\"}]}, \"layout\": {\"annotationdefaults\": {\"arrowcolor\": \"#2a3f5f\", \"arrowhead\": 0, \"arrowwidth\": 1}, \"autotypenumbers\": \"strict\", \"coloraxis\": {\"colorbar\": {\"outlinewidth\": 0, \"ticks\": \"\"}}, \"colorscale\": {\"diverging\": [[0, \"#8e0152\"], [0.1, \"#c51b7d\"], [0.2, \"#de77ae\"], [0.3, \"#f1b6da\"], [0.4, \"#fde0ef\"], [0.5, \"#f7f7f7\"], [0.6, \"#e6f5d0\"], [0.7, \"#b8e186\"], [0.8, \"#7fbc41\"], [0.9, \"#4d9221\"], [1, \"#276419\"]], \"sequential\": [[0.0, \"#0d0887\"], [0.1111111111111111, \"#46039f\"], [0.2222222222222222, \"#7201a8\"], [0.3333333333333333, \"#9c179e\"], [0.4444444444444444, \"#bd3786\"], [0.5555555555555556, \"#d8576b\"], [0.6666666666666666, \"#ed7953\"], [0.7777777777777778, \"#fb9f3a\"], [0.8888888888888888, \"#fdca26\"], [1.0, \"#f0f921\"]], \"sequentialminus\": [[0.0, \"#0d0887\"], [0.1111111111111111, \"#46039f\"], [0.2222222222222222, \"#7201a8\"], [0.3333333333333333, \"#9c179e\"], [0.4444444444444444, \"#bd3786\"], [0.5555555555555556, \"#d8576b\"], [0.6666666666666666, \"#ed7953\"], [0.7777777777777778, \"#fb9f3a\"], [0.8888888888888888, \"#fdca26\"], [1.0, \"#f0f921\"]]}, \"colorway\": [\"#636efa\", \"#EF553B\", \"#00cc96\", \"#ab63fa\", \"#FFA15A\", \"#19d3f3\", \"#FF6692\", \"#B6E880\", \"#FF97FF\", \"#FECB52\"], \"font\": {\"color\": \"#2a3f5f\"}, \"geo\": {\"bgcolor\": \"white\", \"lakecolor\": \"white\", \"landcolor\": \"#E5ECF6\", \"showlakes\": true, \"showland\": true, \"subunitcolor\": \"white\"}, \"hoverlabel\": {\"align\": \"left\"}, \"hovermode\": \"closest\", \"mapbox\": {\"style\": \"light\"}, \"paper_bgcolor\": \"white\", \"plot_bgcolor\": \"#E5ECF6\", \"polar\": {\"angularaxis\": {\"gridcolor\": \"white\", \"linecolor\": \"white\", \"ticks\": \"\"}, \"bgcolor\": \"#E5ECF6\", \"radialaxis\": {\"gridcolor\": \"white\", \"linecolor\": \"white\", \"ticks\": \"\"}}, \"scene\": {\"xaxis\": {\"backgroundcolor\": \"#E5ECF6\", \"gridcolor\": \"white\", \"gridwidth\": 2, \"linecolor\": \"white\", \"showbackground\": true, \"ticks\": \"\", \"zerolinecolor\": \"white\"}, \"yaxis\": {\"backgroundcolor\": \"#E5ECF6\", \"gridcolor\": \"white\", \"gridwidth\": 2, \"linecolor\": \"white\", \"showbackground\": true, \"ticks\": \"\", \"zerolinecolor\": \"white\"}, \"zaxis\": {\"backgroundcolor\": \"#E5ECF6\", \"gridcolor\": \"white\", \"gridwidth\": 2, \"linecolor\": \"white\", \"showbackground\": true, \"ticks\": \"\", \"zerolinecolor\": \"white\"}}, \"shapedefaults\": {\"line\": {\"color\": \"#2a3f5f\"}}, \"ternary\": {\"aaxis\": {\"gridcolor\": \"white\", \"linecolor\": \"white\", \"ticks\": \"\"}, \"baxis\": {\"gridcolor\": \"white\", \"linecolor\": \"white\", \"ticks\": \"\"}, \"bgcolor\": \"#E5ECF6\", \"caxis\": {\"gridcolor\": \"white\", \"linecolor\": \"white\", \"ticks\": \"\"}}, \"title\": {\"x\": 0.05}, \"xaxis\": {\"automargin\": true, \"gridcolor\": \"white\", \"linecolor\": \"white\", \"ticks\": \"\", \"title\": {\"standoff\": 15}, \"zerolinecolor\": \"white\", \"zerolinewidth\": 2}, \"yaxis\": {\"automargin\": true, \"gridcolor\": \"white\", \"linecolor\": \"white\", \"ticks\": \"\", \"title\": {\"standoff\": 15}, \"zerolinecolor\": \"white\", \"zerolinewidth\": 2}}}, \"title\": {\"text\": \"Average land temperature in world\"}, \"xaxis\": {\"title\": {\"text\": \"year\"}}, \"yaxis\": {\"title\": {\"text\": \"Average Temperature, \\u00b0C\"}}},                        {\"responsive\": true}                    ).then(function(){\n",
       "                            \n",
       "var gd = document.getElementById('55983041-bbb0-47aa-905f-d3820666e214');\n",
       "var x = new MutationObserver(function (mutations, observer) {{\n",
       "        var display = window.getComputedStyle(gd).display;\n",
       "        if (!display || display === 'none') {{\n",
       "            console.log([gd, 'removed!']);\n",
       "            Plotly.purge(gd);\n",
       "            observer.disconnect();\n",
       "        }}\n",
       "}});\n",
       "\n",
       "// Listen for the removal of the full notebook cells\n",
       "var notebookContainer = gd.closest('#notebook-container');\n",
       "if (notebookContainer) {{\n",
       "    x.observe(notebookContainer, {childList: true});\n",
       "}}\n",
       "\n",
       "// Listen for the clearing of the current output cell\n",
       "var outputEl = gd.closest('.output');\n",
       "if (outputEl) {{\n",
       "    x.observe(outputEl, {childList: true});\n",
       "}}\n",
       "\n",
       "                        })                };                });            </script>        </div>"
      ]
     },
     "metadata": {},
     "output_type": "display_data"
    }
   ],
   "source": [
    "trace0 = go.Scatter(\n",
    "    x = temp_mean_year.index,\n",
    "    y = a+b,\n",
    "    fill = None,\n",
    "    mode = 'lines',\n",
    "    name = 'Unvertainty top',\n",
    "    line = dict(\n",
    "        color = 'rgb(0,255,255)',\n",
    "    )\n",
    ")\n",
    "\n",
    "trace1 = go.Scatter(\n",
    "    x = temp_mean_year.index,\n",
    "    y = a-b,\n",
    "    fill = 'tonexty',\n",
    "    mode = 'lines',\n",
    "    name = 'Unvertainty bot',\n",
    "    line = dict(\n",
    "        color = 'rgb(0,255,255)',\n",
    "    )\n",
    ")\n",
    "\n",
    "trace2 = go.Scatter(\n",
    "    x = temp_mean_year.index,\n",
    "    y = a,\n",
    "    name = 'Average Temperature',\n",
    "    line = dict(\n",
    "        color = 'rgb(199,121,093)',\n",
    "    )\n",
    ")\n",
    "\n",
    "data = [trace0,trace1,trace2]\n",
    "\n",
    "layout = go.Layout(\n",
    "        xaxis = dict(title='year'),\n",
    "    yaxis = dict(title='Average Temperature, °C'),\n",
    "    title = 'Average land temperature in world',\n",
    "    showlegend = False\n",
    ")\n",
    "\n",
    "fig = go.Figure(data=data,layout = layout)\n",
    "py.iplot(fig)"
   ]
  },
  {
   "cell_type": "code",
   "execution_count": 198,
   "metadata": {},
   "outputs": [],
   "source": [
    "#take a look the temperature change in each continent\n",
    "continent = ['Russia','United States','Niger','Greenland','Australia','Bolivia']"
   ]
  },
  {
   "cell_type": "code",
   "execution_count": 161,
   "metadata": {
    "collapsed": true
   },
   "outputs": [
    {
     "ename": "ValueError",
     "evalue": "No axis named dt for object type <class 'pandas.core.frame.DataFrame'>",
     "output_type": "error",
     "traceback": [
      "\u001b[0;31m---------------------------------------------------------------------------\u001b[0m",
      "\u001b[0;31mValueError\u001b[0m                                Traceback (most recent call last)",
      "\u001b[0;32m<ipython-input-161-25086f76cb01>\u001b[0m in \u001b[0;36m<module>\u001b[0;34m\u001b[0m\n\u001b[0;32m----> 1\u001b[0;31m \u001b[0mtarget\u001b[0m \u001b[0;34m=\u001b[0m  \u001b[0mwarming_clear\u001b[0m\u001b[0;34m.\u001b[0m\u001b[0mgroupby\u001b[0m\u001b[0;34m(\u001b[0m\u001b[0;34m'Country'\u001b[0m\u001b[0;34m,\u001b[0m\u001b[0;34m'dt'\u001b[0m\u001b[0;34m[\u001b[0m\u001b[0;34m:\u001b[0m\u001b[0;36m4\u001b[0m\u001b[0;34m]\u001b[0m\u001b[0;34m)\u001b[0m\u001b[0;34m.\u001b[0m\u001b[0mmean\u001b[0m\u001b[0;34m(\u001b[0m\u001b[0;34m)\u001b[0m\u001b[0;34m\u001b[0m\u001b[0;34m\u001b[0m\u001b[0m\n\u001b[0m",
      "\u001b[0;32m~/opt/anaconda3/lib/python3.7/site-packages/pandas/core/frame.py\u001b[0m in \u001b[0;36mgroupby\u001b[0;34m(self, by, axis, level, as_index, sort, group_keys, squeeze, observed)\u001b[0m\n\u001b[1;32m   5797\u001b[0m         \u001b[0;32mif\u001b[0m \u001b[0mlevel\u001b[0m \u001b[0;32mis\u001b[0m \u001b[0;32mNone\u001b[0m \u001b[0;32mand\u001b[0m \u001b[0mby\u001b[0m \u001b[0;32mis\u001b[0m \u001b[0;32mNone\u001b[0m\u001b[0;34m:\u001b[0m\u001b[0;34m\u001b[0m\u001b[0;34m\u001b[0m\u001b[0m\n\u001b[1;32m   5798\u001b[0m             \u001b[0;32mraise\u001b[0m \u001b[0mTypeError\u001b[0m\u001b[0;34m(\u001b[0m\u001b[0;34m\"You have to supply one of 'by' and 'level'\"\u001b[0m\u001b[0;34m)\u001b[0m\u001b[0;34m\u001b[0m\u001b[0;34m\u001b[0m\u001b[0m\n\u001b[0;32m-> 5799\u001b[0;31m         \u001b[0maxis\u001b[0m \u001b[0;34m=\u001b[0m \u001b[0mself\u001b[0m\u001b[0;34m.\u001b[0m\u001b[0m_get_axis_number\u001b[0m\u001b[0;34m(\u001b[0m\u001b[0maxis\u001b[0m\u001b[0;34m)\u001b[0m\u001b[0;34m\u001b[0m\u001b[0;34m\u001b[0m\u001b[0m\n\u001b[0m\u001b[1;32m   5800\u001b[0m \u001b[0;34m\u001b[0m\u001b[0m\n\u001b[1;32m   5801\u001b[0m         return groupby_generic.DataFrameGroupBy(\n",
      "\u001b[0;32m~/opt/anaconda3/lib/python3.7/site-packages/pandas/core/generic.py\u001b[0m in \u001b[0;36m_get_axis_number\u001b[0;34m(cls, axis)\u001b[0m\n\u001b[1;32m    405\u001b[0m             \u001b[0;32mexcept\u001b[0m \u001b[0mKeyError\u001b[0m\u001b[0;34m:\u001b[0m\u001b[0;34m\u001b[0m\u001b[0;34m\u001b[0m\u001b[0m\n\u001b[1;32m    406\u001b[0m                 \u001b[0;32mpass\u001b[0m\u001b[0;34m\u001b[0m\u001b[0;34m\u001b[0m\u001b[0m\n\u001b[0;32m--> 407\u001b[0;31m         \u001b[0;32mraise\u001b[0m \u001b[0mValueError\u001b[0m\u001b[0;34m(\u001b[0m\u001b[0;34mf\"No axis named {axis} for object type {cls}\"\u001b[0m\u001b[0;34m)\u001b[0m\u001b[0;34m\u001b[0m\u001b[0;34m\u001b[0m\u001b[0m\n\u001b[0m\u001b[1;32m    408\u001b[0m \u001b[0;34m\u001b[0m\u001b[0m\n\u001b[1;32m    409\u001b[0m     \u001b[0;34m@\u001b[0m\u001b[0mclassmethod\u001b[0m\u001b[0;34m\u001b[0m\u001b[0;34m\u001b[0m\u001b[0m\n",
      "\u001b[0;31mValueError\u001b[0m: No axis named dt for object type <class 'pandas.core.frame.DataFrame'>"
     ]
    }
   ],
   "source": [
    "warming_clear['year'] = warming_clear['dt'].apply(lambda x:datetime.datetime.strptime(x, '%Y-%m-%d').year)"
   ]
  },
  {
   "cell_type": "code",
   "execution_count": 168,
   "metadata": {},
   "outputs": [
    {
     "data": {
      "text/html": [
       "<div>\n",
       "<style scoped>\n",
       "    .dataframe tbody tr th:only-of-type {\n",
       "        vertical-align: middle;\n",
       "    }\n",
       "\n",
       "    .dataframe tbody tr th {\n",
       "        vertical-align: top;\n",
       "    }\n",
       "\n",
       "    .dataframe thead th {\n",
       "        text-align: right;\n",
       "    }\n",
       "</style>\n",
       "<table border=\"1\" class=\"dataframe\">\n",
       "  <thead>\n",
       "    <tr style=\"text-align: right;\">\n",
       "      <th></th>\n",
       "      <th></th>\n",
       "      <th>AverageTemperature</th>\n",
       "      <th>AverageTemperatureUncertainty</th>\n",
       "    </tr>\n",
       "    <tr>\n",
       "      <th>Country</th>\n",
       "      <th>year</th>\n",
       "      <th></th>\n",
       "      <th></th>\n",
       "    </tr>\n",
       "  </thead>\n",
       "  <tbody>\n",
       "    <tr>\n",
       "      <th rowspan=\"5\" valign=\"top\">Afghanistan</th>\n",
       "      <th>1838</th>\n",
       "      <td>18.379571</td>\n",
       "      <td>2.756000</td>\n",
       "    </tr>\n",
       "    <tr>\n",
       "      <th>1839</th>\n",
       "      <td>NaN</td>\n",
       "      <td>NaN</td>\n",
       "    </tr>\n",
       "    <tr>\n",
       "      <th>1840</th>\n",
       "      <td>13.413455</td>\n",
       "      <td>2.502000</td>\n",
       "    </tr>\n",
       "    <tr>\n",
       "      <th>1841</th>\n",
       "      <td>13.997600</td>\n",
       "      <td>2.452100</td>\n",
       "    </tr>\n",
       "    <tr>\n",
       "      <th>1842</th>\n",
       "      <td>15.154667</td>\n",
       "      <td>2.381222</td>\n",
       "    </tr>\n",
       "    <tr>\n",
       "      <th>...</th>\n",
       "      <th>...</th>\n",
       "      <td>...</td>\n",
       "      <td>...</td>\n",
       "    </tr>\n",
       "    <tr>\n",
       "      <th rowspan=\"5\" valign=\"top\">Åland</th>\n",
       "      <th>2009</th>\n",
       "      <td>6.489083</td>\n",
       "      <td>0.366917</td>\n",
       "    </tr>\n",
       "    <tr>\n",
       "      <th>2010</th>\n",
       "      <td>4.861917</td>\n",
       "      <td>0.397833</td>\n",
       "    </tr>\n",
       "    <tr>\n",
       "      <th>2011</th>\n",
       "      <td>7.170750</td>\n",
       "      <td>0.419167</td>\n",
       "    </tr>\n",
       "    <tr>\n",
       "      <th>2012</th>\n",
       "      <td>6.063917</td>\n",
       "      <td>0.372417</td>\n",
       "    </tr>\n",
       "    <tr>\n",
       "      <th>2013</th>\n",
       "      <td>6.229750</td>\n",
       "      <td>0.536250</td>\n",
       "    </tr>\n",
       "  </tbody>\n",
       "</table>\n",
       "<p>46577 rows × 2 columns</p>\n",
       "</div>"
      ],
      "text/plain": [
       "                  AverageTemperature  AverageTemperatureUncertainty\n",
       "Country     year                                                   \n",
       "Afghanistan 1838           18.379571                       2.756000\n",
       "            1839                 NaN                            NaN\n",
       "            1840           13.413455                       2.502000\n",
       "            1841           13.997600                       2.452100\n",
       "            1842           15.154667                       2.381222\n",
       "...                              ...                            ...\n",
       "Åland       2009            6.489083                       0.366917\n",
       "            2010            4.861917                       0.397833\n",
       "            2011            7.170750                       0.419167\n",
       "            2012            6.063917                       0.372417\n",
       "            2013            6.229750                       0.536250\n",
       "\n",
       "[46577 rows x 2 columns]"
      ]
     },
     "execution_count": 168,
     "metadata": {},
     "output_type": "execute_result"
    }
   ],
   "source": [
    "avg_temp_continent = warming_clear.groupby(['Country','year']).mean()\n",
    "avg_temp_continent"
   ]
  },
  {
   "cell_type": "code",
   "execution_count": 205,
   "metadata": {},
   "outputs": [
    {
     "data": {
      "application/vnd.plotly.v1+json": {
       "config": {
        "linkText": "Export to plot.ly",
        "plotlyServerURL": "https://plot.ly",
        "showLink": false
       },
       "data": [
        {
         "line": {
          "color": "rgb(0, 255, 255)"
         },
         "mode": "lines",
         "name": "Russia",
         "type": "scatter",
         "x": [
          1768,
          1769,
          1770,
          1771,
          1772,
          1773,
          1774,
          1775,
          1776,
          1777,
          1778,
          1779,
          1780,
          1781,
          1782,
          1783,
          1784,
          1785,
          1786,
          1787,
          1788,
          1789,
          1790,
          1791,
          1792,
          1793,
          1794,
          1795,
          1796,
          1797,
          1798,
          1799,
          1800,
          1801,
          1802,
          1803,
          1804,
          1805,
          1806,
          1807,
          1808,
          1809,
          1810,
          1811,
          1812,
          1813,
          1814,
          1815,
          1816,
          1817,
          1818,
          1819,
          1820,
          1821,
          1822,
          1823,
          1824,
          1825,
          1826,
          1827,
          1828,
          1829,
          1830,
          1831,
          1832,
          1833,
          1834,
          1835,
          1836,
          1837,
          1838,
          1839,
          1840,
          1841,
          1842,
          1843,
          1844,
          1845,
          1846,
          1847,
          1848,
          1849,
          1850,
          1851,
          1852,
          1853,
          1854,
          1855,
          1856,
          1857,
          1858,
          1859,
          1860,
          1861,
          1862,
          1863,
          1864,
          1865,
          1866,
          1867,
          1868,
          1869,
          1870,
          1871,
          1872,
          1873,
          1874,
          1875,
          1876,
          1877,
          1878,
          1879,
          1880,
          1881,
          1882,
          1883,
          1884,
          1885,
          1886,
          1887,
          1888,
          1889,
          1890,
          1891,
          1892,
          1893,
          1894,
          1895,
          1896,
          1897,
          1898,
          1899,
          1900,
          1901,
          1902,
          1903,
          1904,
          1905,
          1906,
          1907,
          1908,
          1909,
          1910,
          1911,
          1912,
          1913,
          1914,
          1915,
          1916,
          1917,
          1918,
          1919,
          1920,
          1921,
          1922,
          1923,
          1924,
          1925,
          1926,
          1927,
          1928,
          1929,
          1930,
          1931,
          1932,
          1933,
          1934,
          1935,
          1936,
          1937,
          1938,
          1939,
          1940,
          1941,
          1942,
          1943,
          1944,
          1945,
          1946,
          1947,
          1948,
          1949,
          1950,
          1951,
          1952,
          1953,
          1954,
          1955,
          1956,
          1957,
          1958,
          1959,
          1960,
          1961,
          1962,
          1963,
          1964,
          1965,
          1966,
          1967,
          1968,
          1969,
          1970,
          1971,
          1972,
          1973,
          1974,
          1975,
          1976,
          1977,
          1978,
          1979,
          1980,
          1981,
          1982,
          1983,
          1984,
          1985,
          1986,
          1987,
          1988,
          1989,
          1990,
          1991,
          1992,
          1993,
          1994,
          1995,
          1996,
          1997,
          1998,
          1999,
          2000,
          2001,
          2002,
          2003,
          2004,
          2005,
          2006,
          2007,
          2008,
          2009,
          2010,
          2011,
          2012,
          2013
         ],
         "y": [
          [
           -7.046833333333335,
           3.9453333333333336
          ],
          [
           -7.084818181818182,
           3.975363636363636
          ],
          [
           -6.4359090909090915,
           4.063545454545455
          ],
          [
           -21.342,
           4.3454999999999995
          ],
          [
           -1.6283333333333339,
           4.036888888888889
          ],
          [
           -6.959916666666667,
           3.8987499999999997
          ],
          [
           -5.90925,
           4.054583333333334
          ],
          [
           -6.7655,
           3.81325
          ],
          [
           -6.4285,
           3.479249999999999
          ],
          [
           -5.717666666666667,
           2.72425
          ],
          [
           -5.482333333333334,
           2.673083333333333
          ],
          [
           -6.203499999999999,
           2.675416666666667
          ],
          [
           -5.300083333333334,
           2.8157499999999995
          ],
          [
           -5.4315,
           2.674416666666666
          ],
          [
           -5.317166666666666,
           2.6755833333333334
          ],
          [
           -5.038250000000001,
           2.700416666666667
          ],
          [
           -6.109750000000001,
           2.736416666666667
          ],
          [
           -6.1812499999999995,
           2.483916666666667
          ],
          [
           -5.660416666666667,
           2.161166666666667
          ],
          [
           -6.67325,
           2.25575
          ],
          [
           -6.681166666666667,
           2.1798333333333333
          ],
          [
           -6.164500000000001,
           2.0853333333333333
          ],
          [
           -5.7781666666666665,
           2.0533333333333332
          ],
          [
           -6.785500000000002,
           1.9925833333333332
          ],
          [
           -6.088916666666667,
           1.9979166666666666
          ],
          [
           -6.761666666666668,
           2.0349166666666663
          ],
          [
           -6.4182500000000005,
           1.8169166666666667
          ],
          [
           -6.437583333333333,
           1.7514166666666668
          ],
          [
           -6.4374166666666675,
           1.868083333333333
          ],
          [
           -6.433916666666666,
           1.7558333333333334
          ],
          [
           -5.994416666666667,
           1.6153333333333333
          ],
          [
           -5.097583333333334,
           1.6231666666666664
          ],
          [
           -6.2200000000000015,
           1.7492500000000002
          ],
          [
           -6.274750000000001,
           1.8494166666666667
          ],
          [
           -5.433916666666668,
           1.9029166666666668
          ],
          [
           -5.9303333333333335,
           1.8214166666666667
          ],
          [
           -5.708333333333335,
           1.8511666666666666
          ],
          [
           -5.560500000000001,
           1.884666666666667
          ],
          [
           -6.426500000000001,
           1.8936666666666666
          ],
          [
           -5.669583333333333,
           1.7481666666666664
          ],
          [
           -6.039666666666666,
           1.8067499999999999
          ],
          [
           -6.276000000000001,
           1.7949166666666667
          ],
          [
           -5.4902500000000005,
           1.8751666666666669
          ],
          [
           -5.556916666666666,
           2.0039166666666666
          ],
          [
           -6.088750000000001,
           1.9426666666666665
          ],
          [
           -6.487166666666667,
           1.8699166666666667
          ],
          [
           -5.592833333333332,
           1.8763333333333334
          ],
          [
           -5.2285,
           1.8956666666666664
          ],
          [
           -6.619,
           1.95325
          ],
          [
           -6.295333333333335,
           1.9746666666666666
          ],
          [
           -6.931416666666668,
           1.7454166666666666
          ],
          [
           -5.299166666666667,
           1.7075833333333332
          ],
          [
           -6.007583333333334,
           1.6519166666666665
          ],
          [
           -5.917083333333333,
           1.6596666666666666
          ],
          [
           -5.31975,
           1.6210833333333337
          ],
          [
           -5.542999999999999,
           1.7169166666666662
          ],
          [
           -5.7579166666666675,
           1.9663333333333333
          ],
          [
           -5.331916666666667,
           1.9576666666666667
          ],
          [
           -6.422833333333334,
           1.64675
          ],
          [
           -6.263333333333333,
           1.56125
          ],
          [
           -6.4214166666666666,
           1.8397499999999998
          ],
          [
           -5.687916666666666,
           1.5722500000000001
          ],
          [
           -4.888916666666667,
           1.94175
          ],
          [
           -6.085416666666667,
           1.7033333333333334
          ],
          [
           -6.0015833333333335,
           1.8044166666666666
          ],
          [
           -5.602999999999999,
           1.867916666666667
          ],
          [
           -5.238083333333334,
           1.7589166666666667
          ],
          [
           -5.84475,
           1.7948333333333333
          ],
          [
           -5.737166666666664,
           1.9005833333333333
          ],
          [
           -6.0352500000000004,
           1.6768333333333336
          ],
          [
           -5.762250000000002,
           1.4778333333333336
          ],
          [
           -5.847083333333334,
           1.3119166666666666
          ],
          [
           -6.1816666666666675,
           1.3316666666666668
          ],
          [
           -6.683916666666668,
           1.26
          ],
          [
           -6.129250000000002,
           1.3473333333333333
          ],
          [
           -5.886916666666668,
           1.30175
          ],
          [
           -6.412666666666669,
           1.21875
          ],
          [
           -6.1031666666666675,
           1.23325
          ],
          [
           -6.25675,
           1.2409166666666664
          ],
          [
           -6.183666666666666,
           1.0128333333333333
          ],
          [
           -6.362416666666667,
           1.0995833333333334
          ],
          [
           -5.554833333333334,
           1.0123333333333335
          ],
          [
           -5.366166666666668,
           1.0034166666666666
          ],
          [
           -6.280666666666666,
           0.8388333333333334
          ],
          [
           -5.686833333333335,
           0.9409999999999998
          ],
          [
           -5.554916666666666,
           1.0265833333333332
          ],
          [
           -5.950666666666667,
           1.0324166666666668
          ],
          [
           -5.375749999999999,
           0.93775
          ],
          [
           -5.8743333333333325,
           0.8658333333333333
          ],
          [
           -5.460083333333333,
           0.8811666666666668
          ],
          [
           -7.002750000000002,
           0.8442500000000001
          ],
          [
           -5.352583333333333,
           0.8070833333333334
          ],
          [
           -5.418499999999999,
           0.8238333333333331
          ],
          [
           -5.687083333333334,
           0.9266666666666667
          ],
          [
           -5.101749999999999,
           0.8738333333333334
          ],
          [
           -6.041416666666667,
           0.7325833333333334
          ],
          [
           -6.122583333333335,
           0.8226666666666667
          ],
          [
           -5.865083333333332,
           0.7795
          ],
          [
           -5.776583333333335,
           0.7915833333333332
          ],
          [
           -5.830333333333333,
           0.74625
          ],
          [
           -6.864416666666666,
           0.7656666666666666
          ],
          [
           -5.726416666666668,
           0.7393333333333333
          ],
          [
           -5.374166666666667,
           0.8035833333333334
          ],
          [
           -6.3629999999999995,
           0.7861666666666666
          ],
          [
           -6.190000000000002,
           0.70275
          ],
          [
           -5.528416666666668,
           0.7548333333333334
          ],
          [
           -5.747916666666666,
           0.7449166666666667
          ],
          [
           -6.186000000000003,
           0.7754166666666665
          ],
          [
           -5.155,
           0.7673333333333333
          ],
          [
           -4.90425,
           0.7319166666666667
          ],
          [
           -5.697833333333333,
           0.7278333333333333
          ],
          [
           -5.521166666666667,
           0.6214999999999999
          ],
          [
           -5.2754166666666675,
           0.71775
          ],
          [
           -5.128916666666666,
           0.7203333333333334
          ],
          [
           -5.3745,
           0.6714999999999999
          ],
          [
           -5.6569166666666675,
           0.6434166666666666
          ],
          [
           -5.77225,
           0.62725
          ],
          [
           -6.400083333333335,
           0.48475
          ],
          [
           -5.53075,
           0.4440833333333334
          ],
          [
           -5.762750000000001,
           0.4435833333333333
          ],
          [
           -4.758249999999999,
           0.4652500000000001
          ],
          [
           -6.252166666666668,
           0.43516666666666654
          ],
          [
           -4.643,
           0.3585833333333333
          ],
          [
           -5.214333333333333,
           0.3609166666666667
          ],
          [
           -5.030083333333333,
           0.30075
          ],
          [
           -5.148916666666666,
           0.27758333333333335
          ],
          [
           -4.552666666666666,
           0.2688333333333333
          ],
          [
           -4.716833333333333,
           0.22058333333333333
          ],
          [
           -5.628416666666666,
           0.24625
          ],
          [
           -6.476666666666666,
           0.26258333333333334
          ],
          [
           -5.604666666666667,
           0.24150000000000002
          ],
          [
           -4.1145000000000005,
           0.23883333333333334
          ],
          [
           -4.434,
           0.25175
          ],
          [
           -5.3944166666666655,
           0.25733333333333325
          ],
          [
           -5.855000000000001,
           0.26399999999999996
          ],
          [
           -5.368083333333335,
           0.22874999999999998
          ],
          [
           -4.337583333333333,
           0.20216666666666663
          ],
          [
           -4.9277500000000005,
           0.22008333333333333
          ],
          [
           -5.608916666666669,
           0.20733333333333334
          ],
          [
           -5.055916666666667,
           0.2609166666666667
          ],
          [
           -6.175250000000001,
           0.21191666666666667
          ],
          [
           -4.779416666666666,
           0.19575
          ],
          [
           -5.317333333333335,
           0.22983333333333333
          ],
          [
           -5.626666666666665,
           0.2333333333333333
          ],
          [
           -5.81375,
           0.24391666666666664
          ],
          [
           -5.358250000000001,
           0.377
          ],
          [
           -6.154083333333333,
           0.2900833333333333
          ],
          [
           -4.838916666666666,
           0.2545
          ],
          [
           -5.936,
           0.2695
          ],
          [
           -4.960333333333334,
           0.2301666666666667
          ],
          [
           -4.416250000000001,
           0.244
          ],
          [
           -5.008166666666667,
           0.20625000000000002
          ],
          [
           -5.785833333333333,
           0.23033333333333336
          ],
          [
           -5.907416666666665,
           0.27366666666666667
          ],
          [
           -6.309583333333333,
           0.22499999999999998
          ],
          [
           -4.36325,
           0.24616666666666673
          ],
          [
           -5.5895833333333345,
           0.2195
          ],
          [
           -6.766083333333334,
           0.19791666666666666
          ],
          [
           -5.5225833333333325,
           0.19949999999999993
          ],
          [
           -4.971166666666668,
           0.21683333333333335
          ],
          [
           -5.702000000000001,
           0.23758333333333329
          ],
          [
           -4.833583333333334,
           0.21825000000000003
          ],
          [
           -5.671749999999999,
           0.206
          ],
          [
           -4.1410833333333334,
           0.22958333333333333
          ],
          [
           -5.927,
           0.23583333333333334
          ],
          [
           -5.513000000000001,
           0.219
          ],
          [
           -5.255916666666668,
           0.21958333333333335
          ],
          [
           -5.904333333333333,
           0.19175
          ],
          [
           -5.420750000000001,
           0.1850833333333333
          ],
          [
           -4.166166666666667,
           0.20533333333333337
          ],
          [
           -5.097583333333334,
           0.21008333333333332
          ],
          [
           -3.951833333333333,
           0.19458333333333333
          ],
          [
           -5.294249999999999,
           0.19208333333333336
          ],
          [
           -5.521166666666666,
           0.22708333333333333
          ],
          [
           -4.8922500000000015,
           0.20725000000000005
          ],
          [
           -6.274,
           0.17233333333333334
          ],
          [
           -4.330416666666666,
           0.19349999999999998
          ],
          [
           -4.073250000000001,
           0.21283333333333335
          ],
          [
           -4.022916666666667,
           0.228
          ],
          [
           -4.236999999999999,
           0.18158333333333335
          ],
          [
           -4.903250000000001,
           0.24375000000000002
          ],
          [
           -4.62175,
           0.2045
          ],
          [
           -4.898416666666667,
           0.21408333333333338
          ],
          [
           -3.1301666666666663,
           0.20425000000000001
          ],
          [
           -4.810333333333333,
           0.21050000000000002
          ],
          [
           -4.2965,
           0.2459166666666667
          ],
          [
           -5.281083333333334,
           0.19458333333333333
          ],
          [
           -4.829750000000001,
           0.20383333333333334
          ],
          [
           -4.545666666666667,
           0.21841666666666668
          ],
          [
           -4.490666666666667,
           0.22041666666666668
          ],
          [
           -4.122916666666667,
           0.2081666666666667
          ],
          [
           -3.8328333333333338,
           0.2554166666666667
          ],
          [
           -4.493583333333333,
           0.22425000000000003
          ],
          [
           -3.4980833333333337,
           0.21324999999999997
          ],
          [
           -4.762999999999999,
           0.26199999999999996
          ],
          [
           -2.9750833333333353,
           0.229
          ],
          [
           -3.305416666666666,
           0.2126666666666667
          ],
          [
           -4.608500000000002,
           0.22983333333333336
          ],
          [
           -4.5205833333333345,
           0.2176666666666667
          ],
          [
           -3.401583333333333,
           0.22125000000000003
          ],
          [
           -3.90175,
           0.3415000000000001
          ],
          [
           -2.2631250000000014,
           0.4413749999999999
          ]
         ]
        },
        {
         "line": {
          "color": "rgb(255, 0, 255)"
         },
         "mode": "lines",
         "name": "United States",
         "type": "scatter",
         "x": [
          1768,
          1769,
          1770,
          1771,
          1772,
          1773,
          1774,
          1775,
          1776,
          1777,
          1778,
          1779,
          1780,
          1781,
          1782,
          1783,
          1784,
          1785,
          1786,
          1787,
          1788,
          1789,
          1790,
          1791,
          1792,
          1793,
          1794,
          1795,
          1796,
          1797,
          1798,
          1799,
          1800,
          1801,
          1802,
          1803,
          1804,
          1805,
          1806,
          1807,
          1808,
          1809,
          1810,
          1811,
          1812,
          1813,
          1814,
          1815,
          1816,
          1817,
          1818,
          1819,
          1820,
          1821,
          1822,
          1823,
          1824,
          1825,
          1826,
          1827,
          1828,
          1829,
          1830,
          1831,
          1832,
          1833,
          1834,
          1835,
          1836,
          1837,
          1838,
          1839,
          1840,
          1841,
          1842,
          1843,
          1844,
          1845,
          1846,
          1847,
          1848,
          1849,
          1850,
          1851,
          1852,
          1853,
          1854,
          1855,
          1856,
          1857,
          1858,
          1859,
          1860,
          1861,
          1862,
          1863,
          1864,
          1865,
          1866,
          1867,
          1868,
          1869,
          1870,
          1871,
          1872,
          1873,
          1874,
          1875,
          1876,
          1877,
          1878,
          1879,
          1880,
          1881,
          1882,
          1883,
          1884,
          1885,
          1886,
          1887,
          1888,
          1889,
          1890,
          1891,
          1892,
          1893,
          1894,
          1895,
          1896,
          1897,
          1898,
          1899,
          1900,
          1901,
          1902,
          1903,
          1904,
          1905,
          1906,
          1907,
          1908,
          1909,
          1910,
          1911,
          1912,
          1913,
          1914,
          1915,
          1916,
          1917,
          1918,
          1919,
          1920,
          1921,
          1922,
          1923,
          1924,
          1925,
          1926,
          1927,
          1928,
          1929,
          1930,
          1931,
          1932,
          1933,
          1934,
          1935,
          1936,
          1937,
          1938,
          1939,
          1940,
          1941,
          1942,
          1943,
          1944,
          1945,
          1946,
          1947,
          1948,
          1949,
          1950,
          1951,
          1952,
          1953,
          1954,
          1955,
          1956,
          1957,
          1958,
          1959,
          1960,
          1961,
          1962,
          1963,
          1964,
          1965,
          1966,
          1967,
          1968,
          1969,
          1970,
          1971,
          1972,
          1973,
          1974,
          1975,
          1976,
          1977,
          1978,
          1979,
          1980,
          1981,
          1982,
          1983,
          1984,
          1985,
          1986,
          1987,
          1988,
          1989,
          1990,
          1991,
          1992,
          1993,
          1994,
          1995,
          1996,
          1997,
          1998,
          1999,
          2000,
          2001,
          2002,
          2003,
          2004,
          2005,
          2006,
          2007,
          2008,
          2009,
          2010,
          2011,
          2012,
          2013
         ],
         "y": [
          [
           5.572750000000001,
           3.7569999999999997
          ],
          [
           10.4465,
           3.693375
          ],
          [
           null,
           null
          ],
          [
           null,
           null
          ],
          [
           null,
           null
          ],
          [
           null,
           null
          ],
          [
           1.603,
           3.6326666666666667
          ],
          [
           9.499166666666666,
           2.7550833333333333
          ],
          [
           8.11,
           2.9620909090909096
          ],
          [
           8.30475,
           2.670083333333333
          ],
          [
           5.362000000000001,
           3.173666666666667
          ],
          [
           -0.7136666666666663,
           3.6646666666666667
          ],
          [
           null,
           null
          ],
          [
           6.25325,
           3.0090000000000003
          ],
          [
           7.60642857142857,
           3.1832857142857143
          ],
          [
           null,
           null
          ],
          [
           null,
           null
          ],
          [
           null,
           null
          ],
          [
           null,
           null
          ],
          [
           null,
           null
          ],
          [
           null,
           null
          ],
          [
           null,
           null
          ],
          [
           null,
           null
          ],
          [
           null,
           null
          ],
          [
           null,
           null
          ],
          [
           null,
           null
          ],
          [
           null,
           null
          ],
          [
           null,
           null
          ],
          [
           12.231000000000003,
           2.974285714285714
          ],
          [
           6.356833333333333,
           3.0218333333333334
          ],
          [
           null,
           null
          ],
          [
           null,
           null
          ],
          [
           null,
           null
          ],
          [
           null,
           null
          ],
          [
           null,
           null
          ],
          [
           null,
           null
          ],
          [
           null,
           null
          ],
          [
           null,
           null
          ],
          [
           null,
           null
          ],
          [
           null,
           null
          ],
          [
           null,
           null
          ],
          [
           null,
           null
          ],
          [
           null,
           null
          ],
          [
           8.0434,
           3.0412
          ],
          [
           7.012666666666665,
           2.673166666666667
          ],
          [
           9.918888888888889,
           2.8855555555555554
          ],
          [
           3.784333333333334,
           3.639
          ],
          [
           7.501333333333335,
           2.6963333333333335
          ],
          [
           4.396625,
           3.1088750000000003
          ],
          [
           7.229916666666667,
           2.6125000000000003
          ],
          [
           6.2747,
           2.8672
          ],
          [
           -2.774666666666667,
           3.5429999999999997
          ],
          [
           7.563833333333332,
           2.291083333333334
          ],
          [
           8.004083333333334,
           2.53275
          ],
          [
           8.386833333333334,
           2.2399166666666672
          ],
          [
           7.9110000000000005,
           2.3275
          ],
          [
           8.50225,
           2.5085
          ],
          [
           8.966500000000002,
           2.3389166666666665
          ],
          [
           8.578999999999999,
           2.3249166666666663
          ],
          [
           9.102,
           2.4029166666666666
          ],
          [
           8.8485,
           2.05525
          ],
          [
           8.389249999999999,
           2.092416666666667
          ],
          [
           9.215083333333334,
           2.4045833333333335
          ],
          [
           7.720750000000002,
           2.81225
          ],
          [
           8.247416666666668,
           2.1999999999999997
          ],
          [
           8.811916666666667,
           1.7589166666666667
          ],
          [
           8.829583333333334,
           1.9560833333333336
          ],
          [
           7.53925,
           1.8380833333333333
          ],
          [
           7.5639166666666675,
           1.9199166666666665
          ],
          [
           7.984416666666667,
           1.9185
          ],
          [
           7.548666666666666,
           2.2747500000000005
          ],
          [
           8.522166666666665,
           1.7673333333333332
          ],
          [
           8.251500000000002,
           1.6546666666666667
          ],
          [
           8.14925,
           1.5540000000000003
          ],
          [
           8.358333333333333,
           1.5910833333333334
          ],
          [
           7.783666666666668,
           1.5405
          ],
          [
           8.082833333333332,
           1.482833333333333
          ],
          [
           8.408916666666666,
           1.6644166666666667
          ],
          [
           9.136333333333333,
           2.0308333333333333
          ],
          [
           7.907083333333333,
           2.0291666666666672
          ],
          [
           8.016833333333333,
           1.7605000000000004
          ],
          [
           8.129166666666666,
           1.4526666666666668
          ],
          [
           8.248333333333333,
           1.4921666666666669
          ],
          [
           8.6575,
           1.526
          ],
          [
           8.183083333333334,
           1.3937499999999998
          ],
          [
           8.459916666666667,
           1.2913333333333334
          ],
          [
           8.821250000000001,
           1.4840833333333334
          ],
          [
           8.459416666666668,
           1.5504166666666668
          ],
          [
           7.94325,
           1.376083333333333
          ],
          [
           8.140333333333333,
           1.1238333333333335
          ],
          [
           8.412833333333332,
           1.3576666666666666
          ],
          [
           8.016833333333334,
           1.2496666666666667
          ],
          [
           8.580916666666667,
           1.16325
          ],
          [
           8.6505,
           1.152583333333333
          ],
          [
           8.213999999999999,
           1.2953333333333332
          ],
          [
           8.446250000000001,
           1.301
          ],
          [
           8.381083333333335,
           1.2926666666666666
          ],
          [
           8.495666666666667,
           1.1275833333333336
          ],
          [
           8.334333333333333,
           1.1190833333333332
          ],
          [
           8.509000000000002,
           1.2898333333333334
          ],
          [
           8.207416666666667,
           1.1190833333333334
          ],
          [
           8.31125,
           1.0479999999999998
          ],
          [
           8.829500000000001,
           1.0102499999999999
          ],
          [
           8.706750000000001,
           0.9702499999999997
          ],
          [
           8.000749999999998,
           1.1925833333333336
          ],
          [
           8.063083333333331,
           0.9249999999999999
          ],
          [
           8.768,
           0.7525000000000001
          ],
          [
           7.849666666666668,
           0.7784166666666666
          ],
          [
           8.099,
           0.9295833333333333
          ],
          [
           8.696583333333335,
           1.0664166666666668
          ],
          [
           9.017166666666666,
           0.9401666666666667
          ],
          [
           8.683250000000001,
           0.9580000000000001
          ],
          [
           8.110333333333333,
           1.0570833333333332
          ],
          [
           8.643500000000001,
           0.8750833333333333
          ],
          [
           8.369916666666667,
           0.6304166666666667
          ],
          [
           7.942249999999999,
           0.6519166666666666
          ],
          [
           7.957999999999998,
           0.6278333333333334
          ],
          [
           8.158416666666666,
           0.5888333333333334
          ],
          [
           8.181833333333334,
           0.6887500000000001
          ],
          [
           8.143583333333332,
           0.7675
          ],
          [
           8.172833333333335,
           0.7289166666666667
          ],
          [
           8.798083333333333,
           0.6796666666666665
          ],
          [
           8.559166666666666,
           0.7344166666666666
          ],
          [
           8.31675,
           0.7915833333333332
          ],
          [
           8.177999999999999,
           0.82075
          ],
          [
           8.170999999999998,
           0.45399999999999996
          ],
          [
           8.46675,
           0.509
          ],
          [
           7.847333333333334,
           0.40258333333333335
          ],
          [
           8.483583333333334,
           0.40375
          ],
          [
           8.473166666666666,
           0.4572500000000001
          ],
          [
           8.427916666666667,
           0.47633333333333333
          ],
          [
           8.166833333333331,
           0.3981666666666667
          ],
          [
           9.021583333333334,
           0.40058333333333324
          ],
          [
           8.494916666666667,
           0.40316666666666673
          ],
          [
           8.453999999999999,
           0.41050000000000003
          ],
          [
           7.977249999999999,
           0.4190000000000001
          ],
          [
           8.200666666666665,
           0.4386666666666667
          ],
          [
           8.402333333333335,
           0.367
          ],
          [
           8.560083333333333,
           0.3453333333333333
          ],
          [
           8.394000000000002,
           0.3221666666666667
          ],
          [
           8.755583333333334,
           0.34475000000000006
          ],
          [
           8.221833333333334,
           0.2813333333333334
          ],
          [
           8.757916666666667,
           0.2794999999999999
          ],
          [
           8.737916666666665,
           0.3074166666666666
          ],
          [
           8.140916666666667,
           0.3335833333333334
          ],
          [
           8.552166666666666,
           0.3090833333333333
          ],
          [
           8.876499999999998,
           0.34833333333333333
          ],
          [
           8.648249999999999,
           0.33908333333333335
          ],
          [
           8.180083333333334,
           0.27091666666666664
          ],
          [
           7.669499999999999,
           0.341
          ],
          [
           8.50125,
           0.2535833333333334
          ],
          [
           8.537999999999998,
           0.29066666666666663
          ],
          [
           8.184499999999998,
           0.326
          ],
          [
           9.595666666666668,
           0.2793333333333333
          ],
          [
           8.768166666666668,
           0.2504166666666667
          ],
          [
           8.760333333333334,
           0.22550000000000003
          ],
          [
           8.052333333333332,
           0.23358333333333337
          ],
          [
           9.016416666666666,
           0.27899999999999997
          ],
          [
           9.14025,
           0.24941666666666662
          ],
          [
           8.719333333333333,
           0.20341666666666666
          ],
          [
           8.876,
           0.23558333333333337
          ],
          [
           8.4395,
           0.20308333333333337
          ],
          [
           8.737666666666666,
           0.18241666666666667
          ],
          [
           9.560750000000002,
           0.19725
          ],
          [
           8.5395,
           0.22866666666666666
          ],
          [
           9.030583333333334,
           0.20675000000000002
          ],
          [
           9.826583333333334,
           0.19058333333333333
          ],
          [
           8.742500000000001,
           0.1970833333333334
          ],
          [
           8.92225,
           0.19025000000000003
          ],
          [
           8.730749999999999,
           0.18441666666666667
          ],
          [
           9.471833333333334,
           0.15708333333333335
          ],
          [
           9.3075,
           0.18666666666666668
          ],
          [
           9.097166666666668,
           0.16191666666666668
          ],
          [
           9.266083333333333,
           0.17516666666666666
          ],
          [
           8.919333333333332,
           0.1636666666666667
          ],
          [
           9.0035,
           0.15924999999999997
          ],
          [
           8.898166666666667,
           0.16583333333333336
          ],
          [
           8.671249999999999,
           0.14683333333333334
          ],
          [
           9.179583333333332,
           0.14908333333333332
          ],
          [
           8.836083333333333,
           0.14733333333333334
          ],
          [
           8.481666666666667,
           0.1401666666666667
          ],
          [
           8.888083333333332,
           0.14041666666666666
          ],
          [
           8.656416666666667,
           0.14958333333333332
          ],
          [
           8.416583333333334,
           0.22258333333333336
          ],
          [
           8.979416666666667,
           0.11508333333333333
          ],
          [
           9.530416666666666,
           0.12241666666666669
          ],
          [
           9.410583333333333,
           0.16225
          ],
          [
           8.517166666666666,
           0.15025000000000002
          ],
          [
           8.699916666666665,
           0.1865
          ],
          [
           9.126333333333333,
           0.34625
          ],
          [
           8.97016666666667,
           0.23258333333333336
          ],
          [
           8.825333333333333,
           0.20908333333333332
          ],
          [
           8.69225,
           0.18025
          ],
          [
           8.642,
           0.18725000000000006
          ],
          [
           8.9565,
           0.23825
          ],
          [
           9.079999999999998,
           0.1859166666666667
          ],
          [
           8.491666666666667,
           0.17241666666666666
          ],
          [
           8.647666666666668,
           0.22675
          ],
          [
           8.483,
           0.19025
          ],
          [
           8.902000000000001,
           0.1951666666666667
          ],
          [
           8.553249999999998,
           0.1865
          ],
          [
           8.770833333333332,
           0.17258333333333334
          ],
          [
           8.673,
           0.17758333333333334
          ],
          [
           8.442499999999999,
           0.16825
          ],
          [
           8.428083333333335,
           0.18383333333333338
          ],
          [
           8.934666666666667,
           0.20191666666666666
          ],
          [
           8.815916666666666,
           0.18575
          ],
          [
           8.431,
           0.20599999999999996
          ],
          [
           8.65125,
           0.20558333333333334
          ],
          [
           9.269833333333334,
           0.16441666666666668
          ],
          [
           8.751416666666666,
           0.20433333333333334
          ],
          [
           8.571583333333331,
           0.17975000000000005
          ],
          [
           9.135499999999999,
           0.1449166666666667
          ],
          [
           9.7215,
           0.1765
          ],
          [
           8.539500000000002,
           0.1535
          ],
          [
           8.912333333333333,
           0.18241666666666667
          ],
          [
           8.811166666666667,
           0.16341666666666668
          ],
          [
           8.587000000000002,
           0.19808333333333336
          ],
          [
           9.559500000000002,
           0.19325
          ],
          [
           9.628166666666665,
           0.15233333333333335
          ],
          [
           9.275333333333334,
           0.15225000000000002
          ],
          [
           8.873083333333334,
           0.18491666666666665
          ],
          [
           9.521583333333334,
           0.18616666666666667
          ],
          [
           9.493666666666666,
           0.14291666666666666
          ],
          [
           9.056333333333333,
           0.20300000000000004
          ],
          [
           8.867250000000002,
           0.16583333333333333
          ],
          [
           9.270333333333335,
           0.1658333333333333
          ],
          [
           9.331000000000001,
           0.14816666666666667
          ],
          [
           8.754333333333333,
           0.13975
          ],
          [
           9.172916666666667,
           0.1675
          ],
          [
           10.141166666666667,
           0.12791666666666668
          ],
          [
           9.567,
           0.14550000000000005
          ],
          [
           9.649750000000001,
           0.16225
          ],
          [
           9.785583333333333,
           0.13875
          ],
          [
           9.816166666666666,
           0.14233333333333334
          ],
          [
           9.75508333333333,
           0.19625
          ],
          [
           9.667499999999999,
           0.17308333333333334
          ],
          [
           9.892666666666669,
           0.13675
          ],
          [
           9.9745,
           0.17933333333333334
          ],
          [
           9.837499999999999,
           0.14200000000000002
          ],
          [
           8.951416666666669,
           0.14325000000000002
          ],
          [
           9.137083333333335,
           0.1646666666666667
          ],
          [
           9.505583333333334,
           0.15508333333333332
          ],
          [
           9.549916666666665,
           0.17308333333333334
          ],
          [
           10.261083333333334,
           0.21550000000000002
          ],
          [
           11.297111111111112,
           0.31877777777777777
          ]
         ]
        },
        {
         "line": {
          "color": "rgb(0, 0, 0)"
         },
         "mode": "lines",
         "name": "Niger",
         "type": "scatter",
         "x": [
          1768,
          1769,
          1770,
          1771,
          1772,
          1773,
          1774,
          1775,
          1776,
          1777,
          1778,
          1779,
          1780,
          1781,
          1782,
          1783,
          1784,
          1785,
          1786,
          1787,
          1788,
          1789,
          1790,
          1791,
          1792,
          1793,
          1794,
          1795,
          1796,
          1797,
          1798,
          1799,
          1800,
          1801,
          1802,
          1803,
          1804,
          1805,
          1806,
          1807,
          1808,
          1809,
          1810,
          1811,
          1812,
          1813,
          1814,
          1815,
          1816,
          1817,
          1818,
          1819,
          1820,
          1821,
          1822,
          1823,
          1824,
          1825,
          1826,
          1827,
          1828,
          1829,
          1830,
          1831,
          1832,
          1833,
          1834,
          1835,
          1836,
          1837,
          1838,
          1839,
          1840,
          1841,
          1842,
          1843,
          1844,
          1845,
          1846,
          1847,
          1848,
          1849,
          1850,
          1851,
          1852,
          1853,
          1854,
          1855,
          1856,
          1857,
          1858,
          1859,
          1860,
          1861,
          1862,
          1863,
          1864,
          1865,
          1866,
          1867,
          1868,
          1869,
          1870,
          1871,
          1872,
          1873,
          1874,
          1875,
          1876,
          1877,
          1878,
          1879,
          1880,
          1881,
          1882,
          1883,
          1884,
          1885,
          1886,
          1887,
          1888,
          1889,
          1890,
          1891,
          1892,
          1893,
          1894,
          1895,
          1896,
          1897,
          1898,
          1899,
          1900,
          1901,
          1902,
          1903,
          1904,
          1905,
          1906,
          1907,
          1908,
          1909,
          1910,
          1911,
          1912,
          1913,
          1914,
          1915,
          1916,
          1917,
          1918,
          1919,
          1920,
          1921,
          1922,
          1923,
          1924,
          1925,
          1926,
          1927,
          1928,
          1929,
          1930,
          1931,
          1932,
          1933,
          1934,
          1935,
          1936,
          1937,
          1938,
          1939,
          1940,
          1941,
          1942,
          1943,
          1944,
          1945,
          1946,
          1947,
          1948,
          1949,
          1950,
          1951,
          1952,
          1953,
          1954,
          1955,
          1956,
          1957,
          1958,
          1959,
          1960,
          1961,
          1962,
          1963,
          1964,
          1965,
          1966,
          1967,
          1968,
          1969,
          1970,
          1971,
          1972,
          1973,
          1974,
          1975,
          1976,
          1977,
          1978,
          1979,
          1980,
          1981,
          1982,
          1983,
          1984,
          1985,
          1986,
          1987,
          1988,
          1989,
          1990,
          1991,
          1992,
          1993,
          1994,
          1995,
          1996,
          1997,
          1998,
          1999,
          2000,
          2001,
          2002,
          2003,
          2004,
          2005,
          2006,
          2007,
          2008,
          2009,
          2010,
          2011,
          2012,
          2013
         ],
         "y": [
          [
           28.35975,
           1.935
          ],
          [
           null,
           null
          ],
          [
           27.680600000000005,
           2.1645999999999996
          ],
          [
           null,
           null
          ],
          [
           null,
           null
          ],
          [
           null,
           null
          ],
          [
           null,
           null
          ],
          [
           null,
           null
          ],
          [
           null,
           null
          ],
          [
           null,
           null
          ],
          [
           null,
           null
          ],
          [
           null,
           null
          ],
          [
           null,
           null
          ],
          [
           null,
           null
          ],
          [
           null,
           null
          ],
          [
           null,
           null
          ],
          [
           null,
           null
          ],
          [
           null,
           null
          ],
          [
           null,
           null
          ],
          [
           null,
           null
          ],
          [
           null,
           null
          ],
          [
           null,
           null
          ],
          [
           null,
           null
          ],
          [
           null,
           null
          ],
          [
           null,
           null
          ],
          [
           null,
           null
          ],
          [
           null,
           null
          ],
          [
           null,
           null
          ],
          [
           null,
           null
          ],
          [
           null,
           null
          ],
          [
           null,
           null
          ],
          [
           null,
           null
          ],
          [
           null,
           null
          ],
          [
           null,
           null
          ],
          [
           null,
           null
          ],
          [
           null,
           null
          ],
          [
           null,
           null
          ],
          [
           25.774400000000004,
           1.6546000000000003
          ],
          [
           27.20185714285714,
           1.5651428571428574
          ],
          [
           27.134874999999997,
           1.5937500000000002
          ],
          [
           27.726599999999998,
           1.6173000000000002
          ],
          [
           26.82618181818182,
           1.5989090909090906
          ],
          [
           26.27,
           1.7154
          ],
          [
           24.00425,
           1.65075
          ],
          [
           null,
           null
          ],
          [
           null,
           null
          ],
          [
           null,
           null
          ],
          [
           null,
           null
          ],
          [
           null,
           null
          ],
          [
           null,
           null
          ],
          [
           null,
           null
          ],
          [
           null,
           null
          ],
          [
           null,
           null
          ],
          [
           null,
           null
          ],
          [
           28.403333333333332,
           1.6451111111111112
          ],
          [
           26.514363636363637,
           1.6255454545454546
          ],
          [
           26.76825,
           1.5836666666666668
          ],
          [
           26.863749999999996,
           1.6582499999999998
          ],
          [
           27.236833333333333,
           1.6621666666666666
          ],
          [
           27.70566666666667,
           1.5829166666666665
          ],
          [
           26.972916666666674,
           1.610916666666667
          ],
          [
           26.965249999999997,
           1.6689166666666668
          ],
          [
           27.534499999999998,
           1.659
          ],
          [
           26.765833333333337,
           1.6381666666666665
          ],
          [
           26.963083333333334,
           1.6747499999999997
          ],
          [
           26.464666666666663,
           1.7269166666666667
          ],
          [
           26.58408333333333,
           1.7581666666666667
          ],
          [
           26.483333333333334,
           1.4648333333333332
          ],
          [
           26.58441666666667,
           1.4825833333333334
          ],
          [
           26.795833333333338,
           1.385
          ],
          [
           26.795916666666667,
           1.4024166666666666
          ],
          [
           26.082666666666665,
           1.4665
          ],
          [
           26.507583333333333,
           1.262
          ],
          [
           26.93375,
           1.2561666666666667
          ],
          [
           26.878249999999998,
           1.2371666666666667
          ],
          [
           26.87591666666667,
           1.2025833333333333
          ],
          [
           27.33983333333333,
           1.2723333333333333
          ],
          [
           26.8205,
           1.3016666666666665
          ],
          [
           27.262500000000003,
           1.40575
          ],
          [
           26.90625,
           1.2248333333333334
          ],
          [
           27.192666666666668,
           1.2955833333333333
          ],
          [
           27.216333333333335,
           1.2075833333333335
          ],
          [
           27.238333333333333,
           1.3125833333333334
          ],
          [
           27.148583333333338,
           1.5086666666666666
          ],
          [
           26.69966666666667,
           1.4215
          ],
          [
           26.483666666666668,
           1.2166666666666666
          ],
          [
           26.6575,
           1.0586666666666664
          ],
          [
           26.974999999999998,
           1.1300833333333333
          ],
          [
           26.477666666666668,
           0.9583333333333335
          ],
          [
           26.894083333333338,
           0.9634166666666667
          ],
          [
           27.1095,
           1.0198333333333334
          ],
          [
           26.744083333333332,
           0.9716666666666666
          ],
          [
           26.807916666666667,
           0.8854166666666666
          ],
          [
           26.8935,
           0.8295833333333332
          ],
          [
           27.53175,
           0.8114166666666667
          ],
          [
           28.08416666666666,
           0.8096666666666668
          ],
          [
           27.663916666666665,
           0.7738333333333335
          ],
          [
           27.047,
           0.8479166666666665
          ],
          [
           27.50975,
           1.0065
          ],
          [
           27.30858333333333,
           0.9617499999999999
          ],
          [
           27.623166666666673,
           1.0463333333333333
          ],
          [
           26.863583333333334,
           1.0134166666666666
          ],
          [
           27.24166666666667,
           1.0010000000000001
          ],
          [
           27.47475,
           1.1039166666666667
          ],
          [
           27.11766666666667,
           0.7988333333333334
          ],
          [
           27.74008333333333,
           0.8395
          ],
          [
           27.57208333333334,
           1.0782500000000002
          ],
          [
           27.833250000000003,
           1.1475
          ],
          [
           27.555666666666664,
           0.8906666666666666
          ],
          [
           27.783666666666665,
           0.9513333333333334
          ],
          [
           27.224833333333333,
           1.0601666666666667
          ],
          [
           27.983333333333338,
           1.0295833333333335
          ],
          [
           28.727416666666667,
           0.6805833333333334
          ],
          [
           27.915500000000005,
           0.89475
          ],
          [
           27.893,
           0.9744166666666666
          ],
          [
           27.40275,
           1.2170833333333333
          ],
          [
           27.514000000000006,
           0.8970833333333333
          ],
          [
           27.336916666666664,
           1.2663333333333333
          ],
          [
           27.4735,
           1.2368333333333332
          ],
          [
           27.531499999999998,
           1.0053333333333334
          ],
          [
           27.635250000000003,
           0.8180000000000002
          ],
          [
           27.84908333333333,
           0.8283333333333331
          ],
          [
           28.548333333333332,
           0.7305833333333335
          ],
          [
           28.267833333333332,
           0.78825
          ],
          [
           27.432000000000002,
           0.5826666666666666
          ],
          [
           27.410583333333335,
           0.8126666666666665
          ],
          [
           27.140500000000003,
           0.5495
          ],
          [
           27.464833333333335,
           0.5875
          ],
          [
           27.82341666666667,
           0.49475
          ],
          [
           27.066083333333335,
           0.5556666666666668
          ],
          [
           27.466750000000005,
           0.5461666666666666
          ],
          [
           26.735333333333333,
           0.51425
          ],
          [
           27.639083333333332,
           0.4670833333333333
          ],
          [
           27.337833333333336,
           0.5235833333333333
          ],
          [
           27.33808333333334,
           0.48691666666666666
          ],
          [
           27.360500000000002,
           0.47733333333333333
          ],
          [
           27.399083333333337,
           0.3638333333333334
          ],
          [
           27.309916666666666,
           0.43475
          ],
          [
           27.40991666666667,
           0.48783333333333334
          ],
          [
           27.749083333333335,
           0.5438333333333334
          ],
          [
           27.396250000000006,
           0.4701666666666666
          ],
          [
           27.611499999999996,
           0.38641666666666663
          ],
          [
           26.54133333333334,
           0.5697500000000001
          ],
          [
           27.513833333333334,
           0.7699166666666665
          ],
          [
           27.955083333333334,
           0.60925
          ],
          [
           27.4075,
           0.4874166666666666
          ],
          [
           27.16733333333333,
           0.5101666666666667
          ],
          [
           27.41125,
           0.5135833333333334
          ],
          [
           27.296166666666668,
           0.47500000000000003
          ],
          [
           27.50108333333333,
           0.36633333333333323
          ],
          [
           28.49875,
           0.3789166666666666
          ],
          [
           27.444083333333328,
           0.36033333333333334
          ],
          [
           27.46333333333334,
           0.42175000000000007
          ],
          [
           27.81691666666667,
           0.3755833333333333
          ],
          [
           27.85591666666667,
           0.37600000000000006
          ],
          [
           27.111916666666662,
           0.3443333333333334
          ],
          [
           27.195833333333336,
           0.34016666666666656
          ],
          [
           27.62216666666667,
           0.4269166666666668
          ],
          [
           27.093833333333333,
           0.40425
          ],
          [
           27.686416666666663,
           0.371
          ],
          [
           27.88625,
           0.4119166666666667
          ],
          [
           27.805166666666665,
           0.4240833333333334
          ],
          [
           27.554333333333332,
           0.4375833333333334
          ],
          [
           27.588666666666665,
           0.41100000000000003
          ],
          [
           27.539333333333342,
           0.45991666666666653
          ],
          [
           27.926999999999996,
           0.4175
          ],
          [
           27.66033333333334,
           0.4172500000000001
          ],
          [
           27.920666666666666,
           0.3891666666666667
          ],
          [
           28.23108333333334,
           0.41016666666666673
          ],
          [
           27.786749999999998,
           0.4018333333333333
          ],
          [
           27.166083333333336,
           0.37341666666666656
          ],
          [
           28.048083333333334,
           0.5415833333333334
          ],
          [
           27.859166666666667,
           0.46391666666666675
          ],
          [
           27.18508333333334,
           0.4603333333333333
          ],
          [
           27.75333333333333,
           0.5495
          ],
          [
           27.40058333333333,
           0.6273333333333334
          ],
          [
           27.895416666666666,
           0.38258333333333333
          ],
          [
           28.128,
           0.6048333333333332
          ],
          [
           28.131,
           0.43191666666666667
          ],
          [
           28.327666666666673,
           0.4971666666666667
          ],
          [
           28.26875,
           0.5734166666666666
          ],
          [
           27.975833333333338,
           0.5318333333333334
          ],
          [
           28.118000000000006,
           0.6997499999999999
          ],
          [
           28.149666666666665,
           0.5071666666666667
          ],
          [
           28.30225,
           0.5412499999999999
          ],
          [
           28.371583333333337,
           0.5291666666666668
          ],
          [
           28.636416666666673,
           0.5837499999999999
          ],
          [
           28.291083333333333,
           0.5501666666666666
          ],
          [
           28.411916666666666,
           0.5158333333333333
          ],
          [
           27.901416666666666,
           0.46808333333333324
          ],
          [
           28.850416666666664,
           0.4719166666666667
          ],
          [
           29.29991666666667,
           0.49599999999999994
          ],
          [
           28.487416666666665,
           0.40316666666666673
          ],
          [
           28.07275,
           0.6663333333333333
          ],
          [
           29.231374999999996,
           0.588875
          ]
         ]
        },
        {
         "line": {
          "color": "rgb(255, 0, 0)"
         },
         "mode": "lines",
         "name": "Greenland",
         "type": "scatter",
         "x": [
          1768,
          1769,
          1770,
          1771,
          1772,
          1773,
          1774,
          1775,
          1776,
          1777,
          1778,
          1779,
          1780,
          1781,
          1782,
          1783,
          1784,
          1785,
          1786,
          1787,
          1788,
          1789,
          1790,
          1791,
          1792,
          1793,
          1794,
          1795,
          1796,
          1797,
          1798,
          1799,
          1800,
          1801,
          1802,
          1803,
          1804,
          1805,
          1806,
          1807,
          1808,
          1809,
          1810,
          1811,
          1812,
          1813,
          1814,
          1815,
          1816,
          1817,
          1818,
          1819,
          1820,
          1821,
          1822,
          1823,
          1824,
          1825,
          1826,
          1827,
          1828,
          1829,
          1830,
          1831,
          1832,
          1833,
          1834,
          1835,
          1836,
          1837,
          1838,
          1839,
          1840,
          1841,
          1842,
          1843,
          1844,
          1845,
          1846,
          1847,
          1848,
          1849,
          1850,
          1851,
          1852,
          1853,
          1854,
          1855,
          1856,
          1857,
          1858,
          1859,
          1860,
          1861,
          1862,
          1863,
          1864,
          1865,
          1866,
          1867,
          1868,
          1869,
          1870,
          1871,
          1872,
          1873,
          1874,
          1875,
          1876,
          1877,
          1878,
          1879,
          1880,
          1881,
          1882,
          1883,
          1884,
          1885,
          1886,
          1887,
          1888,
          1889,
          1890,
          1891,
          1892,
          1893,
          1894,
          1895,
          1896,
          1897,
          1898,
          1899,
          1900,
          1901,
          1902,
          1903,
          1904,
          1905,
          1906,
          1907,
          1908,
          1909,
          1910,
          1911,
          1912,
          1913,
          1914,
          1915,
          1916,
          1917,
          1918,
          1919,
          1920,
          1921,
          1922,
          1923,
          1924,
          1925,
          1926,
          1927,
          1928,
          1929,
          1930,
          1931,
          1932,
          1933,
          1934,
          1935,
          1936,
          1937,
          1938,
          1939,
          1940,
          1941,
          1942,
          1943,
          1944,
          1945,
          1946,
          1947,
          1948,
          1949,
          1950,
          1951,
          1952,
          1953,
          1954,
          1955,
          1956,
          1957,
          1958,
          1959,
          1960,
          1961,
          1962,
          1963,
          1964,
          1965,
          1966,
          1967,
          1968,
          1969,
          1970,
          1971,
          1972,
          1973,
          1974,
          1975,
          1976,
          1977,
          1978,
          1979,
          1980,
          1981,
          1982,
          1983,
          1984,
          1985,
          1986,
          1987,
          1988,
          1989,
          1990,
          1991,
          1992,
          1993,
          1994,
          1995,
          1996,
          1997,
          1998,
          1999,
          2000,
          2001,
          2002,
          2003,
          2004,
          2005,
          2006,
          2007,
          2008,
          2009,
          2010,
          2011,
          2012,
          2013
         ],
         "y": [
          [
           -19.177666666666667,
           3.2074166666666666
          ],
          [
           -18.692416666666666,
           3.3601666666666667
          ],
          [
           -18.730999999999998,
           3.288916666666666
          ],
          [
           -18.649333333333335,
           3.2688333333333333
          ],
          [
           -18.428333333333335,
           3.2889999999999997
          ],
          [
           -18.222416666666664,
           3.4126666666666665
          ],
          [
           -18.611500000000003,
           3.5197500000000006
          ],
          [
           -18.41325,
           3.2964999999999995
          ],
          [
           -19.174249999999997,
           3.5131666666666668
          ],
          [
           -19.470083333333335,
           3.4639166666666665
          ],
          [
           -19.016250000000003,
           3.192250000000001
          ],
          [
           -19.142916666666668,
           3.163416666666667
          ],
          [
           -19.837833333333332,
           3.2968333333333333
          ],
          [
           -19.927999999999997,
           3.279416666666666
          ],
          [
           -19.479333333333333,
           3.2546666666666666
          ],
          [
           -19.368166666666667,
           3.328583333333333
          ],
          [
           -19.46741666666666,
           3.1074999999999995
          ],
          [
           -18.9235,
           3.1331666666666673
          ],
          [
           -19.356833333333338,
           3.021583333333334
          ],
          [
           -18.638166666666667,
           2.916166666666666
          ],
          [
           -19.097583333333336,
           2.9629999999999996
          ],
          [
           -19.203083333333336,
           3.0080000000000005
          ],
          [
           -19.056166666666666,
           2.955833333333333
          ],
          [
           -18.35166666666667,
           2.9296666666666664
          ],
          [
           -18.64875,
           3.2945833333333336
          ],
          [
           -19.489833333333333,
           2.9784166666666665
          ],
          [
           -19.093333333333334,
           2.9473333333333334
          ],
          [
           -19.177666666666664,
           3.0089166666666665
          ],
          [
           -18.679666666666662,
           3.031166666666667
          ],
          [
           -18.869333333333334,
           3.0180000000000002
          ],
          [
           -18.992166666666662,
           2.9434166666666663
          ],
          [
           -19.003333333333334,
           2.9599999999999995
          ],
          [
           -19.121249999999996,
           3.0361666666666665
          ],
          [
           -18.920166666666667,
           3.2000833333333336
          ],
          [
           -19.173166666666663,
           3.0585
          ],
          [
           -18.927333333333337,
           3.00175
          ],
          [
           -19.427583333333335,
           3.1084166666666664
          ],
          [
           -19.150666666666666,
           3.0084999999999997
          ],
          [
           -18.807750000000002,
           3.1319166666666667
          ],
          [
           -19.333916666666667,
           3.1644166666666673
          ],
          [
           -19.42175,
           3.0504166666666666
          ],
          [
           -18.67075,
           3.0590000000000006
          ],
          [
           -19.343833333333333,
           2.9535
          ],
          [
           -20.419583333333335,
           2.544333333333334
          ],
          [
           -18.77208333333333,
           2.465666666666667
          ],
          [
           -20.1555,
           2.6507500000000004
          ],
          [
           -19.510083333333334,
           2.4688333333333334
          ],
          [
           -18.822916666666668,
           2.7315
          ],
          [
           -18.466916666666663,
           2.5505833333333334
          ],
          [
           -17.74275,
           2.8333333333333335
          ],
          [
           -18.957083333333333,
           2.2280833333333336
          ],
          [
           -18.963333333333335,
           2.3680833333333333
          ],
          [
           -18.58791666666667,
           2.2834166666666667
          ],
          [
           -19.00883333333333,
           2.3115
          ],
          [
           -18.992583333333332,
           2.2915833333333335
          ],
          [
           -18.326249999999998,
           2.2861666666666665
          ],
          [
           -18.609666666666666,
           1.8571666666666664
          ],
          [
           -19.21558333333333,
           1.9334999999999998
          ],
          [
           -18.873,
           2.0068333333333332
          ],
          [
           -20.541333333333334,
           1.9870833333333333
          ],
          [
           -18.703416666666666,
           1.881916666666667
          ],
          [
           -20.433916666666665,
           1.9850833333333335
          ],
          [
           -19.21408333333334,
           2.0860833333333333
          ],
          [
           -20.260833333333338,
           2.075416666666667
          ],
          [
           -20.834166666666665,
           2.461583333333334
          ],
          [
           -19.212833333333332,
           2.1780000000000004
          ],
          [
           -19.396333333333335,
           2.549
          ],
          [
           -19.390083333333333,
           2.0220833333333332
          ],
          [
           -19.971833333333333,
           2.206166666666667
          ],
          [
           -19.273500000000002,
           1.9329999999999998
          ],
          [
           -18.889333333333337,
           1.8032500000000002
          ],
          [
           -20.417833333333338,
           2.094
          ],
          [
           -18.513333333333332,
           1.8420833333333333
          ],
          [
           -20.247833333333332,
           2.3990000000000005
          ],
          [
           -19.5715,
           1.9425833333333333
          ],
          [
           -20.407749999999997,
           2.3609166666666668
          ],
          [
           -19.508750000000003,
           1.8639166666666664
          ],
          [
           -18.292333333333332,
           2.07025
          ],
          [
           -18.53441666666667,
           1.8351666666666666
          ],
          [
           -18.915666666666663,
           1.781666666666667
          ],
          [
           -19.146916666666666,
           1.8547500000000001
          ],
          [
           -19.419416666666667,
           2.1595
          ],
          [
           -18.69975,
           1.9366666666666665
          ],
          [
           -19.81808333333333,
           1.9042499999999996
          ],
          [
           -19.638,
           2.0937500000000004
          ],
          [
           -18.30225,
           1.7227499999999998
          ],
          [
           -18.938416666666665,
           1.9097499999999996
          ],
          [
           -20.071249999999996,
           2.003416666666667
          ],
          [
           -19.191416666666665,
           1.7174166666666666
          ],
          [
           -18.11041666666667,
           1.7075833333333337
          ],
          [
           -19.029083333333336,
           1.9594166666666666
          ],
          [
           -20.32675,
           2.116166666666667
          ],
          [
           -18.94991666666667,
           1.72475
          ],
          [
           -18.276166666666665,
           2.2489999999999997
          ],
          [
           -19.079833333333337,
           3.1063333333333336
          ],
          [
           -20.097916666666666,
           2.185333333333333
          ],
          [
           -19.035750000000004,
           1.8547500000000001
          ],
          [
           -19.683749999999996,
           1.5515833333333333
          ],
          [
           -19.664250000000003,
           1.610166666666667
          ],
          [
           -19.101833333333335,
           1.5820833333333335
          ],
          [
           -17.978583333333336,
           1.5094166666666666
          ],
          [
           -18.438,
           1.595
          ],
          [
           -18.298333333333332,
           1.4044999999999999
          ],
          [
           -17.852666666666664,
           1.2525833333333334
          ],
          [
           -17.892666666666667,
           1.5571666666666666
          ],
          [
           -16.851166666666668,
           1.759083333333333
          ],
          [
           -16.698666666666664,
           1.7917499999999995
          ],
          [
           -17.014250000000004,
           1.5701666666666665
          ],
          [
           -17.748083333333334,
           1.6340000000000001
          ],
          [
           -16.874333333333336,
           1.3883333333333334
          ],
          [
           -16.684416666666667,
           1.3666666666666665
          ],
          [
           -17.582666666666665,
           1.3765833333333335
          ],
          [
           -17.465666666666667,
           1.24625
          ],
          [
           -17.206833333333332,
           1.7735833333333335
          ],
          [
           -17.464499999999997,
           1.8829166666666666
          ],
          [
           -17.819750000000003,
           1.7703333333333333
          ],
          [
           -16.734916666666667,
           1.8245833333333337
          ],
          [
           -16.990750000000002,
           1.7815
          ],
          [
           -17.107750000000003,
           1.6313333333333333
          ],
          [
           -17.60075,
           1.3188333333333333
          ],
          [
           -18.846333333333334,
           1.5235000000000003
          ],
          [
           -18.619333333333334,
           1.3266666666666667
          ],
          [
           -17.583000000000002,
           1.2354999999999998
          ],
          [
           -17.309083333333337,
           1.070833333333333
          ],
          [
           -16.34583333333333,
           1.0727499999999999
          ],
          [
           -18.91758333333333,
           1.02125
          ],
          [
           -19.159833333333328,
           0.9635833333333332
          ],
          [
           -18.12675,
           0.8712499999999999
          ],
          [
           -18.963916666666673,
           0.8781666666666667
          ],
          [
           -17.87475,
           0.7798333333333333
          ],
          [
           -18.38475,
           0.9056666666666668
          ],
          [
           -17.915916666666668,
           1.0622500000000001
          ],
          [
           -18.3405,
           0.9143333333333333
          ],
          [
           -18.463000000000005,
           0.9915000000000002
          ],
          [
           -17.766333333333332,
           0.9239999999999999
          ],
          [
           -17.955666666666666,
           0.7755
          ],
          [
           -18.41566666666667,
           0.8796666666666667
          ],
          [
           -17.464250000000003,
           0.7945000000000002
          ],
          [
           -18.990333333333336,
           0.7251666666666668
          ],
          [
           -17.427833333333336,
           0.7701666666666668
          ],
          [
           -17.72575,
           0.8505833333333334
          ],
          [
           -18.574416666666668,
           1.02425
          ],
          [
           -17.530583333333333,
           1.1491666666666667
          ],
          [
           -18.84241666666667,
           1.0660833333333335
          ],
          [
           -18.5835,
           1.0168333333333335
          ],
          [
           -18.818916666666667,
           1.0058333333333334
          ],
          [
           -18.392083333333336,
           0.8950833333333333
          ],
          [
           -18.738166666666668,
           0.8258333333333335
          ],
          [
           -19.7105,
           0.9960833333333333
          ],
          [
           -18.818,
           0.815
          ],
          [
           -19.27358333333333,
           0.7369166666666666
          ],
          [
           -18.205666666666666,
           0.8161666666666666
          ],
          [
           -19.524916666666666,
           0.7529166666666667
          ],
          [
           -18.025333333333332,
           0.9032499999999999
          ],
          [
           -18.150250000000003,
           1.0135
          ],
          [
           -18.448083333333333,
           0.9211666666666668
          ],
          [
           -18.584999999999997,
           0.9224166666666668
          ],
          [
           -17.515416666666667,
           0.961
          ],
          [
           -18.341083333333334,
           0.8917500000000002
          ],
          [
           -18.990666666666666,
           0.7446666666666667
          ],
          [
           -20.44683333333333,
           1.0037500000000001
          ],
          [
           -19.326,
           0.8195
          ],
          [
           -17.56983333333333,
           0.9318333333333332
          ],
          [
           -18.13166666666667,
           0.8717500000000001
          ],
          [
           -18.71925,
           0.8644166666666667
          ],
          [
           -17.8635,
           0.96
          ],
          [
           -19.368,
           0.6458333333333334
          ],
          [
           -18.43791666666667,
           0.6046666666666666
          ],
          [
           -18.371333333333336,
           0.5665833333333333
          ],
          [
           -19.5845,
           0.6026666666666667
          ],
          [
           -19.267166666666668,
           0.5625
          ],
          [
           -18.641916666666663,
           0.61525
          ],
          [
           -18.239500000000003,
           0.7789999999999999
          ],
          [
           -17.300333333333334,
           0.6960833333333333
          ],
          [
           -17.997833333333332,
           0.6304166666666667
          ],
          [
           -17.139,
           0.8029166666666666
          ],
          [
           -18.25425,
           0.6932499999999999
          ],
          [
           -17.367916666666666,
           0.9313333333333332
          ],
          [
           -17.596416666666666,
           0.6911666666666666
          ],
          [
           -16.820416666666663,
           0.7840833333333334
          ],
          [
           -16.256249999999998,
           0.7317499999999999
          ],
          [
           -17.301166666666663,
           0.7210833333333334
          ],
          [
           -16.15125,
           0.6195833333333334
          ],
          [
           -17.114333333333335,
           0.7870833333333335
          ],
          [
           -17.074166666666667,
           0.8138333333333333
          ],
          [
           -17.389916666666668,
           0.6441666666666667
          ],
          [
           -17.316416666666672,
           0.6974166666666667
          ],
          [
           -15.546333333333335,
           0.73225
          ],
          [
           -17.174333333333333,
           0.6319166666666668
          ],
          [
           -16.77225,
           0.9730833333333333
          ],
          [
           -15.40975,
           1.0093750000000001
          ]
         ]
        },
        {
         "line": {
          "color": "rgb(0, 255, 0)"
         },
         "mode": "lines",
         "name": "Australia",
         "type": "scatter",
         "x": [
          1768,
          1769,
          1770,
          1771,
          1772,
          1773,
          1774,
          1775,
          1776,
          1777,
          1778,
          1779,
          1780,
          1781,
          1782,
          1783,
          1784,
          1785,
          1786,
          1787,
          1788,
          1789,
          1790,
          1791,
          1792,
          1793,
          1794,
          1795,
          1796,
          1797,
          1798,
          1799,
          1800,
          1801,
          1802,
          1803,
          1804,
          1805,
          1806,
          1807,
          1808,
          1809,
          1810,
          1811,
          1812,
          1813,
          1814,
          1815,
          1816,
          1817,
          1818,
          1819,
          1820,
          1821,
          1822,
          1823,
          1824,
          1825,
          1826,
          1827,
          1828,
          1829,
          1830,
          1831,
          1832,
          1833,
          1834,
          1835,
          1836,
          1837,
          1838,
          1839,
          1840,
          1841,
          1842,
          1843,
          1844,
          1845,
          1846,
          1847,
          1848,
          1849,
          1850,
          1851,
          1852,
          1853,
          1854,
          1855,
          1856,
          1857,
          1858,
          1859,
          1860,
          1861,
          1862,
          1863,
          1864,
          1865,
          1866,
          1867,
          1868,
          1869,
          1870,
          1871,
          1872,
          1873,
          1874,
          1875,
          1876,
          1877,
          1878,
          1879,
          1880,
          1881,
          1882,
          1883,
          1884,
          1885,
          1886,
          1887,
          1888,
          1889,
          1890,
          1891,
          1892,
          1893,
          1894,
          1895,
          1896,
          1897,
          1898,
          1899,
          1900,
          1901,
          1902,
          1903,
          1904,
          1905,
          1906,
          1907,
          1908,
          1909,
          1910,
          1911,
          1912,
          1913,
          1914,
          1915,
          1916,
          1917,
          1918,
          1919,
          1920,
          1921,
          1922,
          1923,
          1924,
          1925,
          1926,
          1927,
          1928,
          1929,
          1930,
          1931,
          1932,
          1933,
          1934,
          1935,
          1936,
          1937,
          1938,
          1939,
          1940,
          1941,
          1942,
          1943,
          1944,
          1945,
          1946,
          1947,
          1948,
          1949,
          1950,
          1951,
          1952,
          1953,
          1954,
          1955,
          1956,
          1957,
          1958,
          1959,
          1960,
          1961,
          1962,
          1963,
          1964,
          1965,
          1966,
          1967,
          1968,
          1969,
          1970,
          1971,
          1972,
          1973,
          1974,
          1975,
          1976,
          1977,
          1978,
          1979,
          1980,
          1981,
          1982,
          1983,
          1984,
          1985,
          1986,
          1987,
          1988,
          1989,
          1990,
          1991,
          1992,
          1993,
          1994,
          1995,
          1996,
          1997,
          1998,
          1999,
          2000,
          2001,
          2002,
          2003,
          2004,
          2005,
          2006,
          2007,
          2008,
          2009,
          2010,
          2011,
          2012,
          2013
         ],
         "y": [
          [
           20.1885,
           1.5291666666666668
          ],
          [
           20.958250000000003,
           1.459666666666667
          ],
          [
           20.28477777777778,
           1.491
          ],
          [
           20.798636363636366,
           1.5265454545454546
          ],
          [
           21.148333333333333,
           1.6939166666666665
          ],
          [
           20.966416666666667,
           1.4621666666666666
          ],
          [
           21.329833333333333,
           1.4648333333333332
          ],
          [
           21.188916666666664,
           1.4005833333333333
          ],
          [
           21.245500000000003,
           1.4774166666666666
          ],
          [
           21.1975,
           1.4299999999999997
          ],
          [
           21.155416666666667,
           1.4758333333333333
          ],
          [
           21.309,
           1.5008333333333332
          ],
          [
           21.04425,
           1.41775
          ],
          [
           21.217833333333335,
           1.3780000000000001
          ],
          [
           21.417,
           1.3195
          ],
          [
           21.643833333333333,
           1.3687499999999997
          ],
          [
           21.447583333333338,
           1.3149166666666667
          ],
          [
           21.52158333333333,
           1.3353333333333335
          ],
          [
           21.42833333333333,
           1.3210833333333334
          ],
          [
           21.459666666666664,
           1.2708333333333333
          ],
          [
           21.206916666666668,
           1.4070833333333335
          ],
          [
           21.15758333333333,
           1.3036666666666665
          ],
          [
           21.126166666666666,
           1.2998333333333332
          ],
          [
           21.054416666666665,
           1.2145
          ],
          [
           21.087333333333337,
           1.1060833333333333
          ],
          [
           21.641083333333338,
           1.2146666666666663
          ],
          [
           22.380666666666666,
           1.3256666666666668
          ],
          [
           21.184666666666665,
           0.9562499999999999
          ],
          [
           21.66125,
           1.0668333333333333
          ],
          [
           21.7925,
           0.882
          ],
          [
           21.64741666666667,
           0.7275833333333331
          ],
          [
           21.520666666666667,
           0.7186666666666667
          ],
          [
           21.549833333333336,
           0.7567500000000001
          ],
          [
           21.421916666666664,
           0.6939166666666666
          ],
          [
           21.45016666666667,
           0.7247499999999999
          ],
          [
           21.154999999999998,
           0.73
          ],
          [
           21.954916666666666,
           0.7059166666666666
          ],
          [
           22.17408333333334,
           0.6835
          ],
          [
           21.479916666666668,
           0.6710833333333334
          ],
          [
           20.833999999999996,
           0.5664166666666667
          ],
          [
           21.541749999999997,
           0.6286666666666667
          ],
          [
           21.646416666666667,
           0.5191666666666667
          ],
          [
           20.917416666666668,
           0.4493333333333333
          ],
          [
           21.23308333333333,
           0.4936666666666667
          ],
          [
           21.3965,
           0.47983333333333333
          ],
          [
           21.817499999999995,
           0.5232500000000001
          ],
          [
           21.570916666666665,
           0.46274999999999994
          ],
          [
           21.18691666666667,
           0.4232499999999999
          ],
          [
           21.766583333333333,
           0.43241666666666667
          ],
          [
           21.582583333333332,
           0.4458333333333333
          ],
          [
           21.597916666666666,
           0.431
          ],
          [
           21.17675,
           0.4266666666666666
          ],
          [
           20.97083333333333,
           0.3830833333333334
          ],
          [
           21.177500000000002,
           0.41841666666666666
          ],
          [
           21.885,
           0.38316666666666666
          ],
          [
           21.294500000000003,
           0.32266666666666666
          ],
          [
           20.8645,
           0.37908333333333327
          ],
          [
           21.05275,
           0.32966666666666666
          ],
          [
           21.569083333333335,
           0.30925
          ],
          [
           21.347916666666666,
           0.3199166666666667
          ],
          [
           21.82616666666667,
           0.32033333333333336
          ],
          [
           21.187833333333337,
           0.3105833333333334
          ],
          [
           22.186333333333334,
           0.3365833333333333
          ],
          [
           22.144833333333334,
           0.3135833333333333
          ],
          [
           21.504416666666668,
           0.3621666666666667
          ],
          [
           20.771500000000003,
           0.36474999999999996
          ],
          [
           21.369333333333334,
           0.281
          ],
          [
           21.82858333333333,
           0.31558333333333327
          ],
          [
           21.324416666666664,
           0.3649166666666666
          ],
          [
           21.680083333333332,
           0.32275
          ],
          [
           21.449749999999998,
           0.27858333333333335
          ],
          [
           21.536833333333334,
           0.28500000000000003
          ],
          [
           21.212583333333335,
           0.30341666666666667
          ],
          [
           21.09783333333333,
           0.2956666666666667
          ],
          [
           21.702583333333337,
           0.308
          ],
          [
           21.397833333333335,
           0.24483333333333335
          ],
          [
           22.01908333333333,
           0.28424999999999995
          ],
          [
           21.101249999999997,
           0.2344166666666667
          ],
          [
           21.640833333333333,
           0.22391666666666668
          ],
          [
           21.239083333333337,
           0.2419166666666667
          ],
          [
           21.459666666666667,
           0.25333333333333335
          ],
          [
           21.386499999999998,
           0.25183333333333335
          ],
          [
           21.507083333333338,
           0.2386666666666667
          ],
          [
           21.39741666666666,
           0.21066666666666667
          ],
          [
           21.716333333333335,
           0.24049999999999996
          ],
          [
           21.52733333333333,
           0.2265
          ],
          [
           22.088749999999994,
           0.23608333333333334
          ],
          [
           21.34,
           0.21833333333333335
          ],
          [
           21.681583333333332,
           0.19316666666666668
          ],
          [
           21.36283333333333,
           0.20025
          ],
          [
           21.926416666666668,
           0.20225
          ],
          [
           21.31716666666667,
           0.246
          ],
          [
           21.530166666666663,
           0.19641666666666668
          ],
          [
           21.604083333333335,
           0.19316666666666668
          ],
          [
           21.241249999999997,
           0.20158333333333334
          ],
          [
           21.59025,
           0.17716666666666667
          ],
          [
           21.459500000000002,
           0.1870833333333333
          ],
          [
           20.984916666666667,
           0.17433333333333334
          ],
          [
           21.322916666666668,
           0.18358333333333335
          ],
          [
           21.557000000000002,
           0.25133333333333335
          ],
          [
           21.487,
           0.1568333333333333
          ],
          [
           21.47458333333333,
           0.18616666666666667
          ],
          [
           21.558666666666667,
           0.20966666666666667
          ],
          [
           21.563083333333335,
           0.22125000000000003
          ],
          [
           21.005999999999997,
           0.2193333333333333
          ],
          [
           21.90266666666666,
           0.36883333333333335
          ],
          [
           21.997249999999998,
           0.2554166666666667
          ],
          [
           22.098166666666668,
           0.22574999999999998
          ],
          [
           21.210500000000003,
           0.22199999999999998
          ],
          [
           21.964249999999996,
           0.2186666666666667
          ],
          [
           21.802916666666665,
           0.26599999999999996
          ],
          [
           21.697833333333335,
           0.20174999999999998
          ],
          [
           21.650750000000002,
           0.20958333333333334
          ],
          [
           22.092083333333335,
           0.24799999999999997
          ],
          [
           21.361000000000004,
           0.18616666666666667
          ],
          [
           21.625416666666666,
           0.19941666666666666
          ],
          [
           21.462166666666672,
           0.18449999999999997
          ],
          [
           21.847583333333333,
           0.18266666666666664
          ],
          [
           21.775750000000002,
           0.18433333333333335
          ],
          [
           21.65433333333333,
           0.17800000000000002
          ],
          [
           22.012083333333333,
           0.19575
          ],
          [
           22.41275,
           0.20541666666666666
          ],
          [
           21.238083333333332,
           0.2125
          ],
          [
           21.692666666666668,
           0.22191666666666668
          ],
          [
           21.193416666666668,
           0.21691666666666665
          ],
          [
           21.892500000000002,
           0.1811666666666667
          ],
          [
           21.605166666666666,
           0.18183333333333337
          ],
          [
           22.252333333333336,
           0.19175
          ],
          [
           22.586166666666667,
           0.17183333333333337
          ],
          [
           22.164083333333334,
           0.19533333333333333
          ],
          [
           21.910500000000003,
           0.16483333333333336
          ],
          [
           22.261083333333332,
           0.19774999999999998
          ],
          [
           21.516916666666663,
           0.18216666666666667
          ],
          [
           22.043416666666662,
           0.21158333333333335
          ],
          [
           22.09325,
           0.18208333333333337
          ],
          [
           22.07241666666667,
           0.15758333333333333
          ],
          [
           22.63008333333333,
           0.16433333333333333
          ],
          [
           21.862833333333338,
           0.21291666666666664
          ],
          [
           22.35575,
           0.18575
          ],
          [
           22.48741666666667,
           0.14941666666666667
          ],
          [
           21.932583333333337,
           0.22791666666666666
          ],
          [
           22.160166666666665,
           0.17575
          ],
          [
           22.03025,
           0.2130833333333333
          ],
          [
           21.955166666666667,
           0.15375000000000003
          ],
          [
           22.325333333333333,
           0.16083333333333333
          ],
          [
           22.086000000000002,
           0.18875
          ],
          [
           22.664833333333334,
           0.17074999999999999
          ],
          [
           22.0645,
           0.17700000000000002
          ],
          [
           21.709666666666667,
           0.17600000000000002
          ],
          [
           21.79275,
           0.16141666666666668
          ],
          [
           22.46083333333333,
           0.17008333333333334
          ],
          [
           22.44033333333333,
           0.22516666666666663
          ],
          [
           22.286916666666666,
           0.164
          ],
          [
           22.896833333333333,
           0.15566666666666665
          ],
          [
           22.264416666666666,
           0.20824999999999996
          ],
          [
           22.48675,
           0.15783333333333335
          ],
          [
           22.225916666666667,
           0.16624999999999998
          ],
          [
           22.690583333333333,
           0.18433333333333332
          ],
          [
           22.078166666666664,
           0.18141666666666664
          ],
          [
           21.767,
           0.1869166666666667
          ],
          [
           22.0245,
           0.23700000000000002
          ],
          [
           22.142874999999997,
           0.22362500000000002
          ]
         ]
        },
        {
         "line": {
          "color": "rgb(0, 0, 255)"
         },
         "mode": "lines",
         "name": "Bolivia",
         "type": "scatter",
         "x": [
          1768,
          1769,
          1770,
          1771,
          1772,
          1773,
          1774,
          1775,
          1776,
          1777,
          1778,
          1779,
          1780,
          1781,
          1782,
          1783,
          1784,
          1785,
          1786,
          1787,
          1788,
          1789,
          1790,
          1791,
          1792,
          1793,
          1794,
          1795,
          1796,
          1797,
          1798,
          1799,
          1800,
          1801,
          1802,
          1803,
          1804,
          1805,
          1806,
          1807,
          1808,
          1809,
          1810,
          1811,
          1812,
          1813,
          1814,
          1815,
          1816,
          1817,
          1818,
          1819,
          1820,
          1821,
          1822,
          1823,
          1824,
          1825,
          1826,
          1827,
          1828,
          1829,
          1830,
          1831,
          1832,
          1833,
          1834,
          1835,
          1836,
          1837,
          1838,
          1839,
          1840,
          1841,
          1842,
          1843,
          1844,
          1845,
          1846,
          1847,
          1848,
          1849,
          1850,
          1851,
          1852,
          1853,
          1854,
          1855,
          1856,
          1857,
          1858,
          1859,
          1860,
          1861,
          1862,
          1863,
          1864,
          1865,
          1866,
          1867,
          1868,
          1869,
          1870,
          1871,
          1872,
          1873,
          1874,
          1875,
          1876,
          1877,
          1878,
          1879,
          1880,
          1881,
          1882,
          1883,
          1884,
          1885,
          1886,
          1887,
          1888,
          1889,
          1890,
          1891,
          1892,
          1893,
          1894,
          1895,
          1896,
          1897,
          1898,
          1899,
          1900,
          1901,
          1902,
          1903,
          1904,
          1905,
          1906,
          1907,
          1908,
          1909,
          1910,
          1911,
          1912,
          1913,
          1914,
          1915,
          1916,
          1917,
          1918,
          1919,
          1920,
          1921,
          1922,
          1923,
          1924,
          1925,
          1926,
          1927,
          1928,
          1929,
          1930,
          1931,
          1932,
          1933,
          1934,
          1935,
          1936,
          1937,
          1938,
          1939,
          1940,
          1941,
          1942,
          1943,
          1944,
          1945,
          1946,
          1947,
          1948,
          1949,
          1950,
          1951,
          1952,
          1953,
          1954,
          1955,
          1956,
          1957,
          1958,
          1959,
          1960,
          1961,
          1962,
          1963,
          1964,
          1965,
          1966,
          1967,
          1968,
          1969,
          1970,
          1971,
          1972,
          1973,
          1974,
          1975,
          1976,
          1977,
          1978,
          1979,
          1980,
          1981,
          1982,
          1983,
          1984,
          1985,
          1986,
          1987,
          1988,
          1989,
          1990,
          1991,
          1992,
          1993,
          1994,
          1995,
          1996,
          1997,
          1998,
          1999,
          2000,
          2001,
          2002,
          2003,
          2004,
          2005,
          2006,
          2007,
          2008,
          2009,
          2010,
          2011,
          2012,
          2013
         ],
         "y": [
          [
           19.533375,
           1.3820000000000001
          ],
          [
           19.93341666666667,
           1.3990833333333332
          ],
          [
           19.865666666666662,
           1.5828333333333333
          ],
          [
           20.098750000000003,
           1.4729999999999999
          ],
          [
           20.793166666666668,
           1.5259999999999998
          ],
          [
           20.578999999999997,
           1.4255000000000002
          ],
          [
           20.204166666666666,
           1.4661666666666668
          ],
          [
           20.14075,
           1.5390833333333334
          ],
          [
           20.37925,
           1.4915
          ],
          [
           20.195166666666665,
           1.3911666666666667
          ],
          [
           20.42625,
           1.3804166666666668
          ],
          [
           20.494416666666666,
           1.36025
          ],
          [
           20.548166666666663,
           1.4065833333333335
          ],
          [
           20.588416666666667,
           1.3529166666666665
          ],
          [
           20.617916666666666,
           1.4127500000000002
          ],
          [
           20.427083333333332,
           1.3758333333333335
          ],
          [
           20.410999999999998,
           1.3028333333333333
          ],
          [
           20.388166666666667,
           1.3828333333333334
          ],
          [
           21.078666666666667,
           1.7461666666666666
          ],
          [
           20.232083333333332,
           1.5068333333333335
          ],
          [
           19.889416666666666,
           1.4319999999999997
          ],
          [
           20.57675,
           1.3957499999999998
          ],
          [
           21.16591666666667,
           1.4309999999999998
          ],
          [
           20.833583333333333,
           1.3954166666666667
          ],
          [
           20.268416666666663,
           1.3550000000000002
          ],
          [
           20.361250000000002,
           1.3389999999999997
          ],
          [
           20.581416666666666,
           1.226416666666667
          ],
          [
           20.26666666666667,
           1.2646666666666668
          ],
          [
           20.29966666666667,
           1.2934999999999999
          ],
          [
           20.198666666666668,
           1.2730833333333333
          ],
          [
           20.224416666666666,
           1.2436666666666667
          ],
          [
           20.09566666666667,
           1.2305
          ],
          [
           20.56233333333333,
           1.3471666666666666
          ],
          [
           20.630666666666674,
           1.33775
          ],
          [
           20.4285,
           1.2525
          ],
          [
           20.148666666666667,
           1.2571666666666665
          ],
          [
           20.324166666666667,
           1.1285833333333333
          ],
          [
           20.158666666666665,
           1.1824166666666667
          ],
          [
           20.069750000000003,
           1.1417499999999998
          ],
          [
           20.37466666666667,
           1.1035000000000001
          ],
          [
           20.73858333333333,
           1.1070833333333334
          ],
          [
           21.046416666666666,
           1.2011666666666667
          ],
          [
           20.737333333333336,
           1.1721666666666666
          ],
          [
           20.319416666666672,
           1.1249166666666668
          ],
          [
           20.629166666666666,
           0.9240833333333333
          ],
          [
           21.113249999999997,
           0.8443333333333333
          ],
          [
           20.994083333333336,
           0.8021666666666668
          ],
          [
           20.910833333333333,
           0.8955000000000001
          ],
          [
           20.409499999999998,
           0.9122499999999999
          ],
          [
           20.6255,
           1.0354166666666667
          ],
          [
           21.041083333333336,
           0.8891666666666667
          ],
          [
           20.789333333333335,
           0.7719166666666667
          ],
          [
           20.435750000000002,
           0.72775
          ],
          [
           20.28225,
           0.8525
          ],
          [
           20.43358333333333,
           0.7369166666666667
          ],
          [
           20.4385,
           0.7159166666666668
          ],
          [
           20.394416666666668,
           0.7766666666666668
          ],
          [
           20.863083333333332,
           0.6481666666666667
          ],
          [
           20.99925,
           0.8615833333333333
          ],
          [
           21.224833333333333,
           0.8204166666666667
          ],
          [
           21.62991666666667,
           1.0193333333333334
          ],
          [
           20.60266666666667,
           1.0389166666666665
          ],
          [
           19.86091666666667,
           1.0321666666666667
          ],
          [
           20.461166666666667,
           0.5789166666666666
          ],
          [
           21.035666666666668,
           0.6735833333333333
          ],
          [
           20.52416666666667,
           0.72775
          ],
          [
           20.48416666666667,
           0.6770833333333334
          ],
          [
           20.489583333333336,
           0.6203333333333333
          ],
          [
           20.459833333333336,
           0.5860000000000001
          ],
          [
           20.717583333333334,
           0.7145833333333332
          ],
          [
           20.91975,
           0.5956666666666668
          ],
          [
           21.384666666666664,
           0.6755833333333333
          ],
          [
           20.84175,
           0.57025
          ],
          [
           21.048666666666666,
           0.62825
          ],
          [
           20.82341666666667,
           0.5539999999999999
          ],
          [
           21.130249999999997,
           0.5619166666666666
          ],
          [
           20.795666666666666,
           0.6561666666666667
          ],
          [
           20.821250000000003,
           0.4811666666666667
          ],
          [
           20.804750000000002,
           0.4619999999999999
          ],
          [
           20.716416666666667,
           0.5796666666666667
          ],
          [
           20.995499999999996,
           0.4135
          ],
          [
           21.363500000000002,
           0.43583333333333335
          ],
          [
           21.328833333333332,
           0.5015833333333334
          ],
          [
           20.97158333333333,
           0.6676666666666667
          ],
          [
           21.009416666666663,
           0.5288333333333334
          ],
          [
           21.378749999999997,
           0.6833333333333332
          ],
          [
           21.35941666666667,
           0.5843333333333334
          ],
          [
           20.79366666666667,
           0.6860833333333333
          ],
          [
           20.677250000000004,
           0.7004166666666668
          ],
          [
           21.115083333333335,
           0.5315833333333334
          ],
          [
           21.144166666666667,
           0.5505833333333333
          ],
          [
           21.22225,
           0.6117499999999999
          ],
          [
           20.745083333333334,
           0.47700000000000004
          ],
          [
           20.994833333333336,
           0.3935
          ],
          [
           20.77791666666667,
           0.4842499999999999
          ],
          [
           20.845166666666668,
           0.48625
          ],
          [
           20.93133333333333,
           0.3851666666666667
          ],
          [
           20.8065,
           0.2775833333333334
          ],
          [
           21.2775,
           0.3535833333333334
          ],
          [
           20.912416666666665,
           0.3682499999999999
          ],
          [
           20.765416666666667,
           0.3376666666666666
          ],
          [
           20.275833333333335,
           0.4969166666666667
          ],
          [
           20.851333333333333,
           0.38000000000000006
          ],
          [
           21.033583333333336,
           0.4325833333333333
          ],
          [
           21.109083333333334,
           0.40825
          ],
          [
           20.594500000000004,
           0.3916666666666668
          ],
          [
           21.368000000000006,
           0.36266666666666664
          ],
          [
           20.797333333333334,
           0.4890833333333333
          ],
          [
           21.510916666666663,
           0.38608333333333333
          ],
          [
           20.837083333333336,
           0.37233333333333335
          ],
          [
           21.23275,
           0.42991666666666667
          ],
          [
           21.206333333333333,
           0.4486666666666667
          ],
          [
           21.45808333333333,
           0.45275
          ],
          [
           21.131583333333335,
           0.3405
          ],
          [
           21.754166666666666,
           0.37575000000000003
          ],
          [
           21.51625,
           0.36450000000000005
          ],
          [
           20.73966666666667,
           0.43533333333333335
          ],
          [
           21.3355,
           0.33541666666666664
          ],
          [
           21.314083333333333,
           0.35333333333333333
          ],
          [
           20.789416666666668,
           0.2663333333333333
          ],
          [
           21.04225,
           0.336
          ],
          [
           20.828916666666668,
           0.33208333333333334
          ],
          [
           21.246666666666666,
           0.2985
          ],
          [
           21.284750000000003,
           0.29575
          ],
          [
           21.03916666666667,
           0.3546666666666667
          ],
          [
           21.034083333333335,
           0.33941666666666664
          ],
          [
           20.978,
           0.26091666666666663
          ],
          [
           21.300083333333333,
           0.3000833333333333
          ],
          [
           21.571666666666662,
           0.33758333333333335
          ],
          [
           21.291833333333333,
           0.33125
          ],
          [
           21.483166666666666,
           0.32375
          ],
          [
           21.482583333333334,
           0.2999166666666666
          ],
          [
           21.87291666666667,
           0.29991666666666666
          ],
          [
           21.46683333333333,
           0.3225833333333333
          ],
          [
           21.156916666666667,
           0.412
          ],
          [
           21.326083333333333,
           0.32
          ],
          [
           21.75408333333333,
           0.25675
          ],
          [
           21.205916666666667,
           0.3715833333333333
          ],
          [
           21.52491666666667,
           0.285
          ],
          [
           21.984750000000002,
           0.2933333333333334
          ],
          [
           21.730583333333332,
           0.3465833333333333
          ],
          [
           21.05366666666667,
           0.312
          ],
          [
           21.611333333333334,
           0.3295833333333334
          ],
          [
           21.467333333333332,
           0.27375
          ],
          [
           21.03175,
           0.3010833333333333
          ],
          [
           21.077166666666667,
           0.26791666666666664
          ],
          [
           21.234083333333334,
           0.25291666666666673
          ],
          [
           21.60575,
           0.3085833333333334
          ],
          [
           21.26275,
           0.34883333333333333
          ],
          [
           21.571,
           0.28075
          ],
          [
           21.371750000000002,
           0.3455
          ],
          [
           21.470000000000002,
           0.38916666666666666
          ],
          [
           21.12933333333333,
           0.24250000000000002
          ],
          [
           21.189000000000004,
           0.36425
          ],
          [
           21.37833333333333,
           0.27799999999999997
          ],
          [
           21.446416666666664,
           0.2886666666666667
          ],
          [
           21.55541666666667,
           0.3460833333333333
          ],
          [
           21.60716666666667,
           0.2846666666666667
          ],
          [
           20.640874999999998,
           0.288375
          ]
         ]
        }
       ],
       "layout": {
        "template": {
         "data": {
          "bar": [
           {
            "error_x": {
             "color": "#2a3f5f"
            },
            "error_y": {
             "color": "#2a3f5f"
            },
            "marker": {
             "line": {
              "color": "#E5ECF6",
              "width": 0.5
             }
            },
            "type": "bar"
           }
          ],
          "barpolar": [
           {
            "marker": {
             "line": {
              "color": "#E5ECF6",
              "width": 0.5
             }
            },
            "type": "barpolar"
           }
          ],
          "carpet": [
           {
            "aaxis": {
             "endlinecolor": "#2a3f5f",
             "gridcolor": "white",
             "linecolor": "white",
             "minorgridcolor": "white",
             "startlinecolor": "#2a3f5f"
            },
            "baxis": {
             "endlinecolor": "#2a3f5f",
             "gridcolor": "white",
             "linecolor": "white",
             "minorgridcolor": "white",
             "startlinecolor": "#2a3f5f"
            },
            "type": "carpet"
           }
          ],
          "choropleth": [
           {
            "colorbar": {
             "outlinewidth": 0,
             "ticks": ""
            },
            "type": "choropleth"
           }
          ],
          "contour": [
           {
            "colorbar": {
             "outlinewidth": 0,
             "ticks": ""
            },
            "colorscale": [
             [
              0,
              "#0d0887"
             ],
             [
              0.1111111111111111,
              "#46039f"
             ],
             [
              0.2222222222222222,
              "#7201a8"
             ],
             [
              0.3333333333333333,
              "#9c179e"
             ],
             [
              0.4444444444444444,
              "#bd3786"
             ],
             [
              0.5555555555555556,
              "#d8576b"
             ],
             [
              0.6666666666666666,
              "#ed7953"
             ],
             [
              0.7777777777777778,
              "#fb9f3a"
             ],
             [
              0.8888888888888888,
              "#fdca26"
             ],
             [
              1,
              "#f0f921"
             ]
            ],
            "type": "contour"
           }
          ],
          "contourcarpet": [
           {
            "colorbar": {
             "outlinewidth": 0,
             "ticks": ""
            },
            "type": "contourcarpet"
           }
          ],
          "heatmap": [
           {
            "colorbar": {
             "outlinewidth": 0,
             "ticks": ""
            },
            "colorscale": [
             [
              0,
              "#0d0887"
             ],
             [
              0.1111111111111111,
              "#46039f"
             ],
             [
              0.2222222222222222,
              "#7201a8"
             ],
             [
              0.3333333333333333,
              "#9c179e"
             ],
             [
              0.4444444444444444,
              "#bd3786"
             ],
             [
              0.5555555555555556,
              "#d8576b"
             ],
             [
              0.6666666666666666,
              "#ed7953"
             ],
             [
              0.7777777777777778,
              "#fb9f3a"
             ],
             [
              0.8888888888888888,
              "#fdca26"
             ],
             [
              1,
              "#f0f921"
             ]
            ],
            "type": "heatmap"
           }
          ],
          "heatmapgl": [
           {
            "colorbar": {
             "outlinewidth": 0,
             "ticks": ""
            },
            "colorscale": [
             [
              0,
              "#0d0887"
             ],
             [
              0.1111111111111111,
              "#46039f"
             ],
             [
              0.2222222222222222,
              "#7201a8"
             ],
             [
              0.3333333333333333,
              "#9c179e"
             ],
             [
              0.4444444444444444,
              "#bd3786"
             ],
             [
              0.5555555555555556,
              "#d8576b"
             ],
             [
              0.6666666666666666,
              "#ed7953"
             ],
             [
              0.7777777777777778,
              "#fb9f3a"
             ],
             [
              0.8888888888888888,
              "#fdca26"
             ],
             [
              1,
              "#f0f921"
             ]
            ],
            "type": "heatmapgl"
           }
          ],
          "histogram": [
           {
            "marker": {
             "colorbar": {
              "outlinewidth": 0,
              "ticks": ""
             }
            },
            "type": "histogram"
           }
          ],
          "histogram2d": [
           {
            "colorbar": {
             "outlinewidth": 0,
             "ticks": ""
            },
            "colorscale": [
             [
              0,
              "#0d0887"
             ],
             [
              0.1111111111111111,
              "#46039f"
             ],
             [
              0.2222222222222222,
              "#7201a8"
             ],
             [
              0.3333333333333333,
              "#9c179e"
             ],
             [
              0.4444444444444444,
              "#bd3786"
             ],
             [
              0.5555555555555556,
              "#d8576b"
             ],
             [
              0.6666666666666666,
              "#ed7953"
             ],
             [
              0.7777777777777778,
              "#fb9f3a"
             ],
             [
              0.8888888888888888,
              "#fdca26"
             ],
             [
              1,
              "#f0f921"
             ]
            ],
            "type": "histogram2d"
           }
          ],
          "histogram2dcontour": [
           {
            "colorbar": {
             "outlinewidth": 0,
             "ticks": ""
            },
            "colorscale": [
             [
              0,
              "#0d0887"
             ],
             [
              0.1111111111111111,
              "#46039f"
             ],
             [
              0.2222222222222222,
              "#7201a8"
             ],
             [
              0.3333333333333333,
              "#9c179e"
             ],
             [
              0.4444444444444444,
              "#bd3786"
             ],
             [
              0.5555555555555556,
              "#d8576b"
             ],
             [
              0.6666666666666666,
              "#ed7953"
             ],
             [
              0.7777777777777778,
              "#fb9f3a"
             ],
             [
              0.8888888888888888,
              "#fdca26"
             ],
             [
              1,
              "#f0f921"
             ]
            ],
            "type": "histogram2dcontour"
           }
          ],
          "mesh3d": [
           {
            "colorbar": {
             "outlinewidth": 0,
             "ticks": ""
            },
            "type": "mesh3d"
           }
          ],
          "parcoords": [
           {
            "line": {
             "colorbar": {
              "outlinewidth": 0,
              "ticks": ""
             }
            },
            "type": "parcoords"
           }
          ],
          "pie": [
           {
            "automargin": true,
            "type": "pie"
           }
          ],
          "scatter": [
           {
            "marker": {
             "colorbar": {
              "outlinewidth": 0,
              "ticks": ""
             }
            },
            "type": "scatter"
           }
          ],
          "scatter3d": [
           {
            "line": {
             "colorbar": {
              "outlinewidth": 0,
              "ticks": ""
             }
            },
            "marker": {
             "colorbar": {
              "outlinewidth": 0,
              "ticks": ""
             }
            },
            "type": "scatter3d"
           }
          ],
          "scattercarpet": [
           {
            "marker": {
             "colorbar": {
              "outlinewidth": 0,
              "ticks": ""
             }
            },
            "type": "scattercarpet"
           }
          ],
          "scattergeo": [
           {
            "marker": {
             "colorbar": {
              "outlinewidth": 0,
              "ticks": ""
             }
            },
            "type": "scattergeo"
           }
          ],
          "scattergl": [
           {
            "marker": {
             "colorbar": {
              "outlinewidth": 0,
              "ticks": ""
             }
            },
            "type": "scattergl"
           }
          ],
          "scattermapbox": [
           {
            "marker": {
             "colorbar": {
              "outlinewidth": 0,
              "ticks": ""
             }
            },
            "type": "scattermapbox"
           }
          ],
          "scatterpolar": [
           {
            "marker": {
             "colorbar": {
              "outlinewidth": 0,
              "ticks": ""
             }
            },
            "type": "scatterpolar"
           }
          ],
          "scatterpolargl": [
           {
            "marker": {
             "colorbar": {
              "outlinewidth": 0,
              "ticks": ""
             }
            },
            "type": "scatterpolargl"
           }
          ],
          "scatterternary": [
           {
            "marker": {
             "colorbar": {
              "outlinewidth": 0,
              "ticks": ""
             }
            },
            "type": "scatterternary"
           }
          ],
          "surface": [
           {
            "colorbar": {
             "outlinewidth": 0,
             "ticks": ""
            },
            "colorscale": [
             [
              0,
              "#0d0887"
             ],
             [
              0.1111111111111111,
              "#46039f"
             ],
             [
              0.2222222222222222,
              "#7201a8"
             ],
             [
              0.3333333333333333,
              "#9c179e"
             ],
             [
              0.4444444444444444,
              "#bd3786"
             ],
             [
              0.5555555555555556,
              "#d8576b"
             ],
             [
              0.6666666666666666,
              "#ed7953"
             ],
             [
              0.7777777777777778,
              "#fb9f3a"
             ],
             [
              0.8888888888888888,
              "#fdca26"
             ],
             [
              1,
              "#f0f921"
             ]
            ],
            "type": "surface"
           }
          ],
          "table": [
           {
            "cells": {
             "fill": {
              "color": "#EBF0F8"
             },
             "line": {
              "color": "white"
             }
            },
            "header": {
             "fill": {
              "color": "#C8D4E3"
             },
             "line": {
              "color": "white"
             }
            },
            "type": "table"
           }
          ]
         },
         "layout": {
          "annotationdefaults": {
           "arrowcolor": "#2a3f5f",
           "arrowhead": 0,
           "arrowwidth": 1
          },
          "autotypenumbers": "strict",
          "coloraxis": {
           "colorbar": {
            "outlinewidth": 0,
            "ticks": ""
           }
          },
          "colorscale": {
           "diverging": [
            [
             0,
             "#8e0152"
            ],
            [
             0.1,
             "#c51b7d"
            ],
            [
             0.2,
             "#de77ae"
            ],
            [
             0.3,
             "#f1b6da"
            ],
            [
             0.4,
             "#fde0ef"
            ],
            [
             0.5,
             "#f7f7f7"
            ],
            [
             0.6,
             "#e6f5d0"
            ],
            [
             0.7,
             "#b8e186"
            ],
            [
             0.8,
             "#7fbc41"
            ],
            [
             0.9,
             "#4d9221"
            ],
            [
             1,
             "#276419"
            ]
           ],
           "sequential": [
            [
             0,
             "#0d0887"
            ],
            [
             0.1111111111111111,
             "#46039f"
            ],
            [
             0.2222222222222222,
             "#7201a8"
            ],
            [
             0.3333333333333333,
             "#9c179e"
            ],
            [
             0.4444444444444444,
             "#bd3786"
            ],
            [
             0.5555555555555556,
             "#d8576b"
            ],
            [
             0.6666666666666666,
             "#ed7953"
            ],
            [
             0.7777777777777778,
             "#fb9f3a"
            ],
            [
             0.8888888888888888,
             "#fdca26"
            ],
            [
             1,
             "#f0f921"
            ]
           ],
           "sequentialminus": [
            [
             0,
             "#0d0887"
            ],
            [
             0.1111111111111111,
             "#46039f"
            ],
            [
             0.2222222222222222,
             "#7201a8"
            ],
            [
             0.3333333333333333,
             "#9c179e"
            ],
            [
             0.4444444444444444,
             "#bd3786"
            ],
            [
             0.5555555555555556,
             "#d8576b"
            ],
            [
             0.6666666666666666,
             "#ed7953"
            ],
            [
             0.7777777777777778,
             "#fb9f3a"
            ],
            [
             0.8888888888888888,
             "#fdca26"
            ],
            [
             1,
             "#f0f921"
            ]
           ]
          },
          "colorway": [
           "#636efa",
           "#EF553B",
           "#00cc96",
           "#ab63fa",
           "#FFA15A",
           "#19d3f3",
           "#FF6692",
           "#B6E880",
           "#FF97FF",
           "#FECB52"
          ],
          "font": {
           "color": "#2a3f5f"
          },
          "geo": {
           "bgcolor": "white",
           "lakecolor": "white",
           "landcolor": "#E5ECF6",
           "showlakes": true,
           "showland": true,
           "subunitcolor": "white"
          },
          "hoverlabel": {
           "align": "left"
          },
          "hovermode": "closest",
          "mapbox": {
           "style": "light"
          },
          "paper_bgcolor": "white",
          "plot_bgcolor": "#E5ECF6",
          "polar": {
           "angularaxis": {
            "gridcolor": "white",
            "linecolor": "white",
            "ticks": ""
           },
           "bgcolor": "#E5ECF6",
           "radialaxis": {
            "gridcolor": "white",
            "linecolor": "white",
            "ticks": ""
           }
          },
          "scene": {
           "xaxis": {
            "backgroundcolor": "#E5ECF6",
            "gridcolor": "white",
            "gridwidth": 2,
            "linecolor": "white",
            "showbackground": true,
            "ticks": "",
            "zerolinecolor": "white"
           },
           "yaxis": {
            "backgroundcolor": "#E5ECF6",
            "gridcolor": "white",
            "gridwidth": 2,
            "linecolor": "white",
            "showbackground": true,
            "ticks": "",
            "zerolinecolor": "white"
           },
           "zaxis": {
            "backgroundcolor": "#E5ECF6",
            "gridcolor": "white",
            "gridwidth": 2,
            "linecolor": "white",
            "showbackground": true,
            "ticks": "",
            "zerolinecolor": "white"
           }
          },
          "shapedefaults": {
           "line": {
            "color": "#2a3f5f"
           }
          },
          "ternary": {
           "aaxis": {
            "gridcolor": "white",
            "linecolor": "white",
            "ticks": ""
           },
           "baxis": {
            "gridcolor": "white",
            "linecolor": "white",
            "ticks": ""
           },
           "bgcolor": "#E5ECF6",
           "caxis": {
            "gridcolor": "white",
            "linecolor": "white",
            "ticks": ""
           }
          },
          "title": {
           "x": 0.05
          },
          "xaxis": {
           "automargin": true,
           "gridcolor": "white",
           "linecolor": "white",
           "ticks": "",
           "title": {
            "standoff": 15
           },
           "zerolinecolor": "white",
           "zerolinewidth": 2
          },
          "yaxis": {
           "automargin": true,
           "gridcolor": "white",
           "linecolor": "white",
           "ticks": "",
           "title": {
            "standoff": 15
           },
           "zerolinecolor": "white",
           "zerolinewidth": 2
          }
         }
        },
        "title": {
         "text": "Average land temperature on the continents"
        },
        "xaxis": {
         "title": {
          "text": "year"
         }
        },
        "yaxis": {
         "title": {
          "text": "Average Temperature, °C"
         }
        }
       }
      },
      "text/html": [
       "<div>                            <div id=\"396aff28-fd2c-475a-8085-fb2513af9f29\" class=\"plotly-graph-div\" style=\"height:525px; width:100%;\"></div>            <script type=\"text/javascript\">                require([\"plotly\"], function(Plotly) {                    window.PLOTLYENV=window.PLOTLYENV || {};                                    if (document.getElementById(\"396aff28-fd2c-475a-8085-fb2513af9f29\")) {                    Plotly.newPlot(                        \"396aff28-fd2c-475a-8085-fb2513af9f29\",                        [{\"line\": {\"color\": \"rgb(0, 255, 255)\"}, \"mode\": \"lines\", \"name\": \"Russia\", \"type\": \"scatter\", \"x\": [1768, 1769, 1770, 1771, 1772, 1773, 1774, 1775, 1776, 1777, 1778, 1779, 1780, 1781, 1782, 1783, 1784, 1785, 1786, 1787, 1788, 1789, 1790, 1791, 1792, 1793, 1794, 1795, 1796, 1797, 1798, 1799, 1800, 1801, 1802, 1803, 1804, 1805, 1806, 1807, 1808, 1809, 1810, 1811, 1812, 1813, 1814, 1815, 1816, 1817, 1818, 1819, 1820, 1821, 1822, 1823, 1824, 1825, 1826, 1827, 1828, 1829, 1830, 1831, 1832, 1833, 1834, 1835, 1836, 1837, 1838, 1839, 1840, 1841, 1842, 1843, 1844, 1845, 1846, 1847, 1848, 1849, 1850, 1851, 1852, 1853, 1854, 1855, 1856, 1857, 1858, 1859, 1860, 1861, 1862, 1863, 1864, 1865, 1866, 1867, 1868, 1869, 1870, 1871, 1872, 1873, 1874, 1875, 1876, 1877, 1878, 1879, 1880, 1881, 1882, 1883, 1884, 1885, 1886, 1887, 1888, 1889, 1890, 1891, 1892, 1893, 1894, 1895, 1896, 1897, 1898, 1899, 1900, 1901, 1902, 1903, 1904, 1905, 1906, 1907, 1908, 1909, 1910, 1911, 1912, 1913, 1914, 1915, 1916, 1917, 1918, 1919, 1920, 1921, 1922, 1923, 1924, 1925, 1926, 1927, 1928, 1929, 1930, 1931, 1932, 1933, 1934, 1935, 1936, 1937, 1938, 1939, 1940, 1941, 1942, 1943, 1944, 1945, 1946, 1947, 1948, 1949, 1950, 1951, 1952, 1953, 1954, 1955, 1956, 1957, 1958, 1959, 1960, 1961, 1962, 1963, 1964, 1965, 1966, 1967, 1968, 1969, 1970, 1971, 1972, 1973, 1974, 1975, 1976, 1977, 1978, 1979, 1980, 1981, 1982, 1983, 1984, 1985, 1986, 1987, 1988, 1989, 1990, 1991, 1992, 1993, 1994, 1995, 1996, 1997, 1998, 1999, 2000, 2001, 2002, 2003, 2004, 2005, 2006, 2007, 2008, 2009, 2010, 2011, 2012, 2013], \"y\": [[-7.046833333333335, 3.9453333333333336], [-7.084818181818182, 3.975363636363636], [-6.4359090909090915, 4.063545454545455], [-21.342, 4.3454999999999995], [-1.6283333333333339, 4.036888888888889], [-6.959916666666667, 3.8987499999999997], [-5.90925, 4.054583333333334], [-6.7655, 3.81325], [-6.4285, 3.479249999999999], [-5.717666666666667, 2.72425], [-5.482333333333334, 2.673083333333333], [-6.203499999999999, 2.675416666666667], [-5.300083333333334, 2.8157499999999995], [-5.4315, 2.674416666666666], [-5.317166666666666, 2.6755833333333334], [-5.038250000000001, 2.700416666666667], [-6.109750000000001, 2.736416666666667], [-6.1812499999999995, 2.483916666666667], [-5.660416666666667, 2.161166666666667], [-6.67325, 2.25575], [-6.681166666666667, 2.1798333333333333], [-6.164500000000001, 2.0853333333333333], [-5.7781666666666665, 2.0533333333333332], [-6.785500000000002, 1.9925833333333332], [-6.088916666666667, 1.9979166666666666], [-6.761666666666668, 2.0349166666666663], [-6.4182500000000005, 1.8169166666666667], [-6.437583333333333, 1.7514166666666668], [-6.4374166666666675, 1.868083333333333], [-6.433916666666666, 1.7558333333333334], [-5.994416666666667, 1.6153333333333333], [-5.097583333333334, 1.6231666666666664], [-6.2200000000000015, 1.7492500000000002], [-6.274750000000001, 1.8494166666666667], [-5.433916666666668, 1.9029166666666668], [-5.9303333333333335, 1.8214166666666667], [-5.708333333333335, 1.8511666666666666], [-5.560500000000001, 1.884666666666667], [-6.426500000000001, 1.8936666666666666], [-5.669583333333333, 1.7481666666666664], [-6.039666666666666, 1.8067499999999999], [-6.276000000000001, 1.7949166666666667], [-5.4902500000000005, 1.8751666666666669], [-5.556916666666666, 2.0039166666666666], [-6.088750000000001, 1.9426666666666665], [-6.487166666666667, 1.8699166666666667], [-5.592833333333332, 1.8763333333333334], [-5.2285, 1.8956666666666664], [-6.619, 1.95325], [-6.295333333333335, 1.9746666666666666], [-6.931416666666668, 1.7454166666666666], [-5.299166666666667, 1.7075833333333332], [-6.007583333333334, 1.6519166666666665], [-5.917083333333333, 1.6596666666666666], [-5.31975, 1.6210833333333337], [-5.542999999999999, 1.7169166666666662], [-5.7579166666666675, 1.9663333333333333], [-5.331916666666667, 1.9576666666666667], [-6.422833333333334, 1.64675], [-6.263333333333333, 1.56125], [-6.4214166666666666, 1.8397499999999998], [-5.687916666666666, 1.5722500000000001], [-4.888916666666667, 1.94175], [-6.085416666666667, 1.7033333333333334], [-6.0015833333333335, 1.8044166666666666], [-5.602999999999999, 1.867916666666667], [-5.238083333333334, 1.7589166666666667], [-5.84475, 1.7948333333333333], [-5.737166666666664, 1.9005833333333333], [-6.0352500000000004, 1.6768333333333336], [-5.762250000000002, 1.4778333333333336], [-5.847083333333334, 1.3119166666666666], [-6.1816666666666675, 1.3316666666666668], [-6.683916666666668, 1.26], [-6.129250000000002, 1.3473333333333333], [-5.886916666666668, 1.30175], [-6.412666666666669, 1.21875], [-6.1031666666666675, 1.23325], [-6.25675, 1.2409166666666664], [-6.183666666666666, 1.0128333333333333], [-6.362416666666667, 1.0995833333333334], [-5.554833333333334, 1.0123333333333335], [-5.366166666666668, 1.0034166666666666], [-6.280666666666666, 0.8388333333333334], [-5.686833333333335, 0.9409999999999998], [-5.554916666666666, 1.0265833333333332], [-5.950666666666667, 1.0324166666666668], [-5.375749999999999, 0.93775], [-5.8743333333333325, 0.8658333333333333], [-5.460083333333333, 0.8811666666666668], [-7.002750000000002, 0.8442500000000001], [-5.352583333333333, 0.8070833333333334], [-5.418499999999999, 0.8238333333333331], [-5.687083333333334, 0.9266666666666667], [-5.101749999999999, 0.8738333333333334], [-6.041416666666667, 0.7325833333333334], [-6.122583333333335, 0.8226666666666667], [-5.865083333333332, 0.7795], [-5.776583333333335, 0.7915833333333332], [-5.830333333333333, 0.74625], [-6.864416666666666, 0.7656666666666666], [-5.726416666666668, 0.7393333333333333], [-5.374166666666667, 0.8035833333333334], [-6.3629999999999995, 0.7861666666666666], [-6.190000000000002, 0.70275], [-5.528416666666668, 0.7548333333333334], [-5.747916666666666, 0.7449166666666667], [-6.186000000000003, 0.7754166666666665], [-5.155, 0.7673333333333333], [-4.90425, 0.7319166666666667], [-5.697833333333333, 0.7278333333333333], [-5.521166666666667, 0.6214999999999999], [-5.2754166666666675, 0.71775], [-5.128916666666666, 0.7203333333333334], [-5.3745, 0.6714999999999999], [-5.6569166666666675, 0.6434166666666666], [-5.77225, 0.62725], [-6.400083333333335, 0.48475], [-5.53075, 0.4440833333333334], [-5.762750000000001, 0.4435833333333333], [-4.758249999999999, 0.4652500000000001], [-6.252166666666668, 0.43516666666666654], [-4.643, 0.3585833333333333], [-5.214333333333333, 0.3609166666666667], [-5.030083333333333, 0.30075], [-5.148916666666666, 0.27758333333333335], [-4.552666666666666, 0.2688333333333333], [-4.716833333333333, 0.22058333333333333], [-5.628416666666666, 0.24625], [-6.476666666666666, 0.26258333333333334], [-5.604666666666667, 0.24150000000000002], [-4.1145000000000005, 0.23883333333333334], [-4.434, 0.25175], [-5.3944166666666655, 0.25733333333333325], [-5.855000000000001, 0.26399999999999996], [-5.368083333333335, 0.22874999999999998], [-4.337583333333333, 0.20216666666666663], [-4.9277500000000005, 0.22008333333333333], [-5.608916666666669, 0.20733333333333334], [-5.055916666666667, 0.2609166666666667], [-6.175250000000001, 0.21191666666666667], [-4.779416666666666, 0.19575], [-5.317333333333335, 0.22983333333333333], [-5.626666666666665, 0.2333333333333333], [-5.81375, 0.24391666666666664], [-5.358250000000001, 0.377], [-6.154083333333333, 0.2900833333333333], [-4.838916666666666, 0.2545], [-5.936, 0.2695], [-4.960333333333334, 0.2301666666666667], [-4.416250000000001, 0.244], [-5.008166666666667, 0.20625000000000002], [-5.785833333333333, 0.23033333333333336], [-5.907416666666665, 0.27366666666666667], [-6.309583333333333, 0.22499999999999998], [-4.36325, 0.24616666666666673], [-5.5895833333333345, 0.2195], [-6.766083333333334, 0.19791666666666666], [-5.5225833333333325, 0.19949999999999993], [-4.971166666666668, 0.21683333333333335], [-5.702000000000001, 0.23758333333333329], [-4.833583333333334, 0.21825000000000003], [-5.671749999999999, 0.206], [-4.1410833333333334, 0.22958333333333333], [-5.927, 0.23583333333333334], [-5.513000000000001, 0.219], [-5.255916666666668, 0.21958333333333335], [-5.904333333333333, 0.19175], [-5.420750000000001, 0.1850833333333333], [-4.166166666666667, 0.20533333333333337], [-5.097583333333334, 0.21008333333333332], [-3.951833333333333, 0.19458333333333333], [-5.294249999999999, 0.19208333333333336], [-5.521166666666666, 0.22708333333333333], [-4.8922500000000015, 0.20725000000000005], [-6.274, 0.17233333333333334], [-4.330416666666666, 0.19349999999999998], [-4.073250000000001, 0.21283333333333335], [-4.022916666666667, 0.228], [-4.236999999999999, 0.18158333333333335], [-4.903250000000001, 0.24375000000000002], [-4.62175, 0.2045], [-4.898416666666667, 0.21408333333333338], [-3.1301666666666663, 0.20425000000000001], [-4.810333333333333, 0.21050000000000002], [-4.2965, 0.2459166666666667], [-5.281083333333334, 0.19458333333333333], [-4.829750000000001, 0.20383333333333334], [-4.545666666666667, 0.21841666666666668], [-4.490666666666667, 0.22041666666666668], [-4.122916666666667, 0.2081666666666667], [-3.8328333333333338, 0.2554166666666667], [-4.493583333333333, 0.22425000000000003], [-3.4980833333333337, 0.21324999999999997], [-4.762999999999999, 0.26199999999999996], [-2.9750833333333353, 0.229], [-3.305416666666666, 0.2126666666666667], [-4.608500000000002, 0.22983333333333336], [-4.5205833333333345, 0.2176666666666667], [-3.401583333333333, 0.22125000000000003], [-3.90175, 0.3415000000000001], [-2.2631250000000014, 0.4413749999999999]]}, {\"line\": {\"color\": \"rgb(255, 0, 255)\"}, \"mode\": \"lines\", \"name\": \"United States\", \"type\": \"scatter\", \"x\": [1768, 1769, 1770, 1771, 1772, 1773, 1774, 1775, 1776, 1777, 1778, 1779, 1780, 1781, 1782, 1783, 1784, 1785, 1786, 1787, 1788, 1789, 1790, 1791, 1792, 1793, 1794, 1795, 1796, 1797, 1798, 1799, 1800, 1801, 1802, 1803, 1804, 1805, 1806, 1807, 1808, 1809, 1810, 1811, 1812, 1813, 1814, 1815, 1816, 1817, 1818, 1819, 1820, 1821, 1822, 1823, 1824, 1825, 1826, 1827, 1828, 1829, 1830, 1831, 1832, 1833, 1834, 1835, 1836, 1837, 1838, 1839, 1840, 1841, 1842, 1843, 1844, 1845, 1846, 1847, 1848, 1849, 1850, 1851, 1852, 1853, 1854, 1855, 1856, 1857, 1858, 1859, 1860, 1861, 1862, 1863, 1864, 1865, 1866, 1867, 1868, 1869, 1870, 1871, 1872, 1873, 1874, 1875, 1876, 1877, 1878, 1879, 1880, 1881, 1882, 1883, 1884, 1885, 1886, 1887, 1888, 1889, 1890, 1891, 1892, 1893, 1894, 1895, 1896, 1897, 1898, 1899, 1900, 1901, 1902, 1903, 1904, 1905, 1906, 1907, 1908, 1909, 1910, 1911, 1912, 1913, 1914, 1915, 1916, 1917, 1918, 1919, 1920, 1921, 1922, 1923, 1924, 1925, 1926, 1927, 1928, 1929, 1930, 1931, 1932, 1933, 1934, 1935, 1936, 1937, 1938, 1939, 1940, 1941, 1942, 1943, 1944, 1945, 1946, 1947, 1948, 1949, 1950, 1951, 1952, 1953, 1954, 1955, 1956, 1957, 1958, 1959, 1960, 1961, 1962, 1963, 1964, 1965, 1966, 1967, 1968, 1969, 1970, 1971, 1972, 1973, 1974, 1975, 1976, 1977, 1978, 1979, 1980, 1981, 1982, 1983, 1984, 1985, 1986, 1987, 1988, 1989, 1990, 1991, 1992, 1993, 1994, 1995, 1996, 1997, 1998, 1999, 2000, 2001, 2002, 2003, 2004, 2005, 2006, 2007, 2008, 2009, 2010, 2011, 2012, 2013], \"y\": [[5.572750000000001, 3.7569999999999997], [10.4465, 3.693375], [null, null], [null, null], [null, null], [null, null], [1.603, 3.6326666666666667], [9.499166666666666, 2.7550833333333333], [8.11, 2.9620909090909096], [8.30475, 2.670083333333333], [5.362000000000001, 3.173666666666667], [-0.7136666666666663, 3.6646666666666667], [null, null], [6.25325, 3.0090000000000003], [7.60642857142857, 3.1832857142857143], [null, null], [null, null], [null, null], [null, null], [null, null], [null, null], [null, null], [null, null], [null, null], [null, null], [null, null], [null, null], [null, null], [12.231000000000003, 2.974285714285714], [6.356833333333333, 3.0218333333333334], [null, null], [null, null], [null, null], [null, null], [null, null], [null, null], [null, null], [null, null], [null, null], [null, null], [null, null], [null, null], [null, null], [8.0434, 3.0412], [7.012666666666665, 2.673166666666667], [9.918888888888889, 2.8855555555555554], [3.784333333333334, 3.639], [7.501333333333335, 2.6963333333333335], [4.396625, 3.1088750000000003], [7.229916666666667, 2.6125000000000003], [6.2747, 2.8672], [-2.774666666666667, 3.5429999999999997], [7.563833333333332, 2.291083333333334], [8.004083333333334, 2.53275], [8.386833333333334, 2.2399166666666672], [7.9110000000000005, 2.3275], [8.50225, 2.5085], [8.966500000000002, 2.3389166666666665], [8.578999999999999, 2.3249166666666663], [9.102, 2.4029166666666666], [8.8485, 2.05525], [8.389249999999999, 2.092416666666667], [9.215083333333334, 2.4045833333333335], [7.720750000000002, 2.81225], [8.247416666666668, 2.1999999999999997], [8.811916666666667, 1.7589166666666667], [8.829583333333334, 1.9560833333333336], [7.53925, 1.8380833333333333], [7.5639166666666675, 1.9199166666666665], [7.984416666666667, 1.9185], [7.548666666666666, 2.2747500000000005], [8.522166666666665, 1.7673333333333332], [8.251500000000002, 1.6546666666666667], [8.14925, 1.5540000000000003], [8.358333333333333, 1.5910833333333334], [7.783666666666668, 1.5405], [8.082833333333332, 1.482833333333333], [8.408916666666666, 1.6644166666666667], [9.136333333333333, 2.0308333333333333], [7.907083333333333, 2.0291666666666672], [8.016833333333333, 1.7605000000000004], [8.129166666666666, 1.4526666666666668], [8.248333333333333, 1.4921666666666669], [8.6575, 1.526], [8.183083333333334, 1.3937499999999998], [8.459916666666667, 1.2913333333333334], [8.821250000000001, 1.4840833333333334], [8.459416666666668, 1.5504166666666668], [7.94325, 1.376083333333333], [8.140333333333333, 1.1238333333333335], [8.412833333333332, 1.3576666666666666], [8.016833333333334, 1.2496666666666667], [8.580916666666667, 1.16325], [8.6505, 1.152583333333333], [8.213999999999999, 1.2953333333333332], [8.446250000000001, 1.301], [8.381083333333335, 1.2926666666666666], [8.495666666666667, 1.1275833333333336], [8.334333333333333, 1.1190833333333332], [8.509000000000002, 1.2898333333333334], [8.207416666666667, 1.1190833333333334], [8.31125, 1.0479999999999998], [8.829500000000001, 1.0102499999999999], [8.706750000000001, 0.9702499999999997], [8.000749999999998, 1.1925833333333336], [8.063083333333331, 0.9249999999999999], [8.768, 0.7525000000000001], [7.849666666666668, 0.7784166666666666], [8.099, 0.9295833333333333], [8.696583333333335, 1.0664166666666668], [9.017166666666666, 0.9401666666666667], [8.683250000000001, 0.9580000000000001], [8.110333333333333, 1.0570833333333332], [8.643500000000001, 0.8750833333333333], [8.369916666666667, 0.6304166666666667], [7.942249999999999, 0.6519166666666666], [7.957999999999998, 0.6278333333333334], [8.158416666666666, 0.5888333333333334], [8.181833333333334, 0.6887500000000001], [8.143583333333332, 0.7675], [8.172833333333335, 0.7289166666666667], [8.798083333333333, 0.6796666666666665], [8.559166666666666, 0.7344166666666666], [8.31675, 0.7915833333333332], [8.177999999999999, 0.82075], [8.170999999999998, 0.45399999999999996], [8.46675, 0.509], [7.847333333333334, 0.40258333333333335], [8.483583333333334, 0.40375], [8.473166666666666, 0.4572500000000001], [8.427916666666667, 0.47633333333333333], [8.166833333333331, 0.3981666666666667], [9.021583333333334, 0.40058333333333324], [8.494916666666667, 0.40316666666666673], [8.453999999999999, 0.41050000000000003], [7.977249999999999, 0.4190000000000001], [8.200666666666665, 0.4386666666666667], [8.402333333333335, 0.367], [8.560083333333333, 0.3453333333333333], [8.394000000000002, 0.3221666666666667], [8.755583333333334, 0.34475000000000006], [8.221833333333334, 0.2813333333333334], [8.757916666666667, 0.2794999999999999], [8.737916666666665, 0.3074166666666666], [8.140916666666667, 0.3335833333333334], [8.552166666666666, 0.3090833333333333], [8.876499999999998, 0.34833333333333333], [8.648249999999999, 0.33908333333333335], [8.180083333333334, 0.27091666666666664], [7.669499999999999, 0.341], [8.50125, 0.2535833333333334], [8.537999999999998, 0.29066666666666663], [8.184499999999998, 0.326], [9.595666666666668, 0.2793333333333333], [8.768166666666668, 0.2504166666666667], [8.760333333333334, 0.22550000000000003], [8.052333333333332, 0.23358333333333337], [9.016416666666666, 0.27899999999999997], [9.14025, 0.24941666666666662], [8.719333333333333, 0.20341666666666666], [8.876, 0.23558333333333337], [8.4395, 0.20308333333333337], [8.737666666666666, 0.18241666666666667], [9.560750000000002, 0.19725], [8.5395, 0.22866666666666666], [9.030583333333334, 0.20675000000000002], [9.826583333333334, 0.19058333333333333], [8.742500000000001, 0.1970833333333334], [8.92225, 0.19025000000000003], [8.730749999999999, 0.18441666666666667], [9.471833333333334, 0.15708333333333335], [9.3075, 0.18666666666666668], [9.097166666666668, 0.16191666666666668], [9.266083333333333, 0.17516666666666666], [8.919333333333332, 0.1636666666666667], [9.0035, 0.15924999999999997], [8.898166666666667, 0.16583333333333336], [8.671249999999999, 0.14683333333333334], [9.179583333333332, 0.14908333333333332], [8.836083333333333, 0.14733333333333334], [8.481666666666667, 0.1401666666666667], [8.888083333333332, 0.14041666666666666], [8.656416666666667, 0.14958333333333332], [8.416583333333334, 0.22258333333333336], [8.979416666666667, 0.11508333333333333], [9.530416666666666, 0.12241666666666669], [9.410583333333333, 0.16225], [8.517166666666666, 0.15025000000000002], [8.699916666666665, 0.1865], [9.126333333333333, 0.34625], [8.97016666666667, 0.23258333333333336], [8.825333333333333, 0.20908333333333332], [8.69225, 0.18025], [8.642, 0.18725000000000006], [8.9565, 0.23825], [9.079999999999998, 0.1859166666666667], [8.491666666666667, 0.17241666666666666], [8.647666666666668, 0.22675], [8.483, 0.19025], [8.902000000000001, 0.1951666666666667], [8.553249999999998, 0.1865], [8.770833333333332, 0.17258333333333334], [8.673, 0.17758333333333334], [8.442499999999999, 0.16825], [8.428083333333335, 0.18383333333333338], [8.934666666666667, 0.20191666666666666], [8.815916666666666, 0.18575], [8.431, 0.20599999999999996], [8.65125, 0.20558333333333334], [9.269833333333334, 0.16441666666666668], [8.751416666666666, 0.20433333333333334], [8.571583333333331, 0.17975000000000005], [9.135499999999999, 0.1449166666666667], [9.7215, 0.1765], [8.539500000000002, 0.1535], [8.912333333333333, 0.18241666666666667], [8.811166666666667, 0.16341666666666668], [8.587000000000002, 0.19808333333333336], [9.559500000000002, 0.19325], [9.628166666666665, 0.15233333333333335], [9.275333333333334, 0.15225000000000002], [8.873083333333334, 0.18491666666666665], [9.521583333333334, 0.18616666666666667], [9.493666666666666, 0.14291666666666666], [9.056333333333333, 0.20300000000000004], [8.867250000000002, 0.16583333333333333], [9.270333333333335, 0.1658333333333333], [9.331000000000001, 0.14816666666666667], [8.754333333333333, 0.13975], [9.172916666666667, 0.1675], [10.141166666666667, 0.12791666666666668], [9.567, 0.14550000000000005], [9.649750000000001, 0.16225], [9.785583333333333, 0.13875], [9.816166666666666, 0.14233333333333334], [9.75508333333333, 0.19625], [9.667499999999999, 0.17308333333333334], [9.892666666666669, 0.13675], [9.9745, 0.17933333333333334], [9.837499999999999, 0.14200000000000002], [8.951416666666669, 0.14325000000000002], [9.137083333333335, 0.1646666666666667], [9.505583333333334, 0.15508333333333332], [9.549916666666665, 0.17308333333333334], [10.261083333333334, 0.21550000000000002], [11.297111111111112, 0.31877777777777777]]}, {\"line\": {\"color\": \"rgb(0, 0, 0)\"}, \"mode\": \"lines\", \"name\": \"Niger\", \"type\": \"scatter\", \"x\": [1768, 1769, 1770, 1771, 1772, 1773, 1774, 1775, 1776, 1777, 1778, 1779, 1780, 1781, 1782, 1783, 1784, 1785, 1786, 1787, 1788, 1789, 1790, 1791, 1792, 1793, 1794, 1795, 1796, 1797, 1798, 1799, 1800, 1801, 1802, 1803, 1804, 1805, 1806, 1807, 1808, 1809, 1810, 1811, 1812, 1813, 1814, 1815, 1816, 1817, 1818, 1819, 1820, 1821, 1822, 1823, 1824, 1825, 1826, 1827, 1828, 1829, 1830, 1831, 1832, 1833, 1834, 1835, 1836, 1837, 1838, 1839, 1840, 1841, 1842, 1843, 1844, 1845, 1846, 1847, 1848, 1849, 1850, 1851, 1852, 1853, 1854, 1855, 1856, 1857, 1858, 1859, 1860, 1861, 1862, 1863, 1864, 1865, 1866, 1867, 1868, 1869, 1870, 1871, 1872, 1873, 1874, 1875, 1876, 1877, 1878, 1879, 1880, 1881, 1882, 1883, 1884, 1885, 1886, 1887, 1888, 1889, 1890, 1891, 1892, 1893, 1894, 1895, 1896, 1897, 1898, 1899, 1900, 1901, 1902, 1903, 1904, 1905, 1906, 1907, 1908, 1909, 1910, 1911, 1912, 1913, 1914, 1915, 1916, 1917, 1918, 1919, 1920, 1921, 1922, 1923, 1924, 1925, 1926, 1927, 1928, 1929, 1930, 1931, 1932, 1933, 1934, 1935, 1936, 1937, 1938, 1939, 1940, 1941, 1942, 1943, 1944, 1945, 1946, 1947, 1948, 1949, 1950, 1951, 1952, 1953, 1954, 1955, 1956, 1957, 1958, 1959, 1960, 1961, 1962, 1963, 1964, 1965, 1966, 1967, 1968, 1969, 1970, 1971, 1972, 1973, 1974, 1975, 1976, 1977, 1978, 1979, 1980, 1981, 1982, 1983, 1984, 1985, 1986, 1987, 1988, 1989, 1990, 1991, 1992, 1993, 1994, 1995, 1996, 1997, 1998, 1999, 2000, 2001, 2002, 2003, 2004, 2005, 2006, 2007, 2008, 2009, 2010, 2011, 2012, 2013], \"y\": [[28.35975, 1.935], [null, null], [27.680600000000005, 2.1645999999999996], [null, null], [null, null], [null, null], [null, null], [null, null], [null, null], [null, null], [null, null], [null, null], [null, null], [null, null], [null, null], [null, null], [null, null], [null, null], [null, null], [null, null], [null, null], [null, null], [null, null], [null, null], [null, null], [null, null], [null, null], [null, null], [null, null], [null, null], [null, null], [null, null], [null, null], [null, null], [null, null], [null, null], [null, null], [25.774400000000004, 1.6546000000000003], [27.20185714285714, 1.5651428571428574], [27.134874999999997, 1.5937500000000002], [27.726599999999998, 1.6173000000000002], [26.82618181818182, 1.5989090909090906], [26.27, 1.7154], [24.00425, 1.65075], [null, null], [null, null], [null, null], [null, null], [null, null], [null, null], [null, null], [null, null], [null, null], [null, null], [28.403333333333332, 1.6451111111111112], [26.514363636363637, 1.6255454545454546], [26.76825, 1.5836666666666668], [26.863749999999996, 1.6582499999999998], [27.236833333333333, 1.6621666666666666], [27.70566666666667, 1.5829166666666665], [26.972916666666674, 1.610916666666667], [26.965249999999997, 1.6689166666666668], [27.534499999999998, 1.659], [26.765833333333337, 1.6381666666666665], [26.963083333333334, 1.6747499999999997], [26.464666666666663, 1.7269166666666667], [26.58408333333333, 1.7581666666666667], [26.483333333333334, 1.4648333333333332], [26.58441666666667, 1.4825833333333334], [26.795833333333338, 1.385], [26.795916666666667, 1.4024166666666666], [26.082666666666665, 1.4665], [26.507583333333333, 1.262], [26.93375, 1.2561666666666667], [26.878249999999998, 1.2371666666666667], [26.87591666666667, 1.2025833333333333], [27.33983333333333, 1.2723333333333333], [26.8205, 1.3016666666666665], [27.262500000000003, 1.40575], [26.90625, 1.2248333333333334], [27.192666666666668, 1.2955833333333333], [27.216333333333335, 1.2075833333333335], [27.238333333333333, 1.3125833333333334], [27.148583333333338, 1.5086666666666666], [26.69966666666667, 1.4215], [26.483666666666668, 1.2166666666666666], [26.6575, 1.0586666666666664], [26.974999999999998, 1.1300833333333333], [26.477666666666668, 0.9583333333333335], [26.894083333333338, 0.9634166666666667], [27.1095, 1.0198333333333334], [26.744083333333332, 0.9716666666666666], [26.807916666666667, 0.8854166666666666], [26.8935, 0.8295833333333332], [27.53175, 0.8114166666666667], [28.08416666666666, 0.8096666666666668], [27.663916666666665, 0.7738333333333335], [27.047, 0.8479166666666665], [27.50975, 1.0065], [27.30858333333333, 0.9617499999999999], [27.623166666666673, 1.0463333333333333], [26.863583333333334, 1.0134166666666666], [27.24166666666667, 1.0010000000000001], [27.47475, 1.1039166666666667], [27.11766666666667, 0.7988333333333334], [27.74008333333333, 0.8395], [27.57208333333334, 1.0782500000000002], [27.833250000000003, 1.1475], [27.555666666666664, 0.8906666666666666], [27.783666666666665, 0.9513333333333334], [27.224833333333333, 1.0601666666666667], [27.983333333333338, 1.0295833333333335], [28.727416666666667, 0.6805833333333334], [27.915500000000005, 0.89475], [27.893, 0.9744166666666666], [27.40275, 1.2170833333333333], [27.514000000000006, 0.8970833333333333], [27.336916666666664, 1.2663333333333333], [27.4735, 1.2368333333333332], [27.531499999999998, 1.0053333333333334], [27.635250000000003, 0.8180000000000002], [27.84908333333333, 0.8283333333333331], [28.548333333333332, 0.7305833333333335], [28.267833333333332, 0.78825], [27.432000000000002, 0.5826666666666666], [27.410583333333335, 0.8126666666666665], [27.140500000000003, 0.5495], [27.464833333333335, 0.5875], [27.82341666666667, 0.49475], [27.066083333333335, 0.5556666666666668], [27.466750000000005, 0.5461666666666666], [26.735333333333333, 0.51425], [27.639083333333332, 0.4670833333333333], [27.337833333333336, 0.5235833333333333], [27.33808333333334, 0.48691666666666666], [27.360500000000002, 0.47733333333333333], [27.399083333333337, 0.3638333333333334], [27.309916666666666, 0.43475], [27.40991666666667, 0.48783333333333334], [27.749083333333335, 0.5438333333333334], [27.396250000000006, 0.4701666666666666], [27.611499999999996, 0.38641666666666663], [26.54133333333334, 0.5697500000000001], [27.513833333333334, 0.7699166666666665], [27.955083333333334, 0.60925], [27.4075, 0.4874166666666666], [27.16733333333333, 0.5101666666666667], [27.41125, 0.5135833333333334], [27.296166666666668, 0.47500000000000003], [27.50108333333333, 0.36633333333333323], [28.49875, 0.3789166666666666], [27.444083333333328, 0.36033333333333334], [27.46333333333334, 0.42175000000000007], [27.81691666666667, 0.3755833333333333], [27.85591666666667, 0.37600000000000006], [27.111916666666662, 0.3443333333333334], [27.195833333333336, 0.34016666666666656], [27.62216666666667, 0.4269166666666668], [27.093833333333333, 0.40425], [27.686416666666663, 0.371], [27.88625, 0.4119166666666667], [27.805166666666665, 0.4240833333333334], [27.554333333333332, 0.4375833333333334], [27.588666666666665, 0.41100000000000003], [27.539333333333342, 0.45991666666666653], [27.926999999999996, 0.4175], [27.66033333333334, 0.4172500000000001], [27.920666666666666, 0.3891666666666667], [28.23108333333334, 0.41016666666666673], [27.786749999999998, 0.4018333333333333], [27.166083333333336, 0.37341666666666656], [28.048083333333334, 0.5415833333333334], [27.859166666666667, 0.46391666666666675], [27.18508333333334, 0.4603333333333333], [27.75333333333333, 0.5495], [27.40058333333333, 0.6273333333333334], [27.895416666666666, 0.38258333333333333], [28.128, 0.6048333333333332], [28.131, 0.43191666666666667], [28.327666666666673, 0.4971666666666667], [28.26875, 0.5734166666666666], [27.975833333333338, 0.5318333333333334], [28.118000000000006, 0.6997499999999999], [28.149666666666665, 0.5071666666666667], [28.30225, 0.5412499999999999], [28.371583333333337, 0.5291666666666668], [28.636416666666673, 0.5837499999999999], [28.291083333333333, 0.5501666666666666], [28.411916666666666, 0.5158333333333333], [27.901416666666666, 0.46808333333333324], [28.850416666666664, 0.4719166666666667], [29.29991666666667, 0.49599999999999994], [28.487416666666665, 0.40316666666666673], [28.07275, 0.6663333333333333], [29.231374999999996, 0.588875]]}, {\"line\": {\"color\": \"rgb(255, 0, 0)\"}, \"mode\": \"lines\", \"name\": \"Greenland\", \"type\": \"scatter\", \"x\": [1768, 1769, 1770, 1771, 1772, 1773, 1774, 1775, 1776, 1777, 1778, 1779, 1780, 1781, 1782, 1783, 1784, 1785, 1786, 1787, 1788, 1789, 1790, 1791, 1792, 1793, 1794, 1795, 1796, 1797, 1798, 1799, 1800, 1801, 1802, 1803, 1804, 1805, 1806, 1807, 1808, 1809, 1810, 1811, 1812, 1813, 1814, 1815, 1816, 1817, 1818, 1819, 1820, 1821, 1822, 1823, 1824, 1825, 1826, 1827, 1828, 1829, 1830, 1831, 1832, 1833, 1834, 1835, 1836, 1837, 1838, 1839, 1840, 1841, 1842, 1843, 1844, 1845, 1846, 1847, 1848, 1849, 1850, 1851, 1852, 1853, 1854, 1855, 1856, 1857, 1858, 1859, 1860, 1861, 1862, 1863, 1864, 1865, 1866, 1867, 1868, 1869, 1870, 1871, 1872, 1873, 1874, 1875, 1876, 1877, 1878, 1879, 1880, 1881, 1882, 1883, 1884, 1885, 1886, 1887, 1888, 1889, 1890, 1891, 1892, 1893, 1894, 1895, 1896, 1897, 1898, 1899, 1900, 1901, 1902, 1903, 1904, 1905, 1906, 1907, 1908, 1909, 1910, 1911, 1912, 1913, 1914, 1915, 1916, 1917, 1918, 1919, 1920, 1921, 1922, 1923, 1924, 1925, 1926, 1927, 1928, 1929, 1930, 1931, 1932, 1933, 1934, 1935, 1936, 1937, 1938, 1939, 1940, 1941, 1942, 1943, 1944, 1945, 1946, 1947, 1948, 1949, 1950, 1951, 1952, 1953, 1954, 1955, 1956, 1957, 1958, 1959, 1960, 1961, 1962, 1963, 1964, 1965, 1966, 1967, 1968, 1969, 1970, 1971, 1972, 1973, 1974, 1975, 1976, 1977, 1978, 1979, 1980, 1981, 1982, 1983, 1984, 1985, 1986, 1987, 1988, 1989, 1990, 1991, 1992, 1993, 1994, 1995, 1996, 1997, 1998, 1999, 2000, 2001, 2002, 2003, 2004, 2005, 2006, 2007, 2008, 2009, 2010, 2011, 2012, 2013], \"y\": [[-19.177666666666667, 3.2074166666666666], [-18.692416666666666, 3.3601666666666667], [-18.730999999999998, 3.288916666666666], [-18.649333333333335, 3.2688333333333333], [-18.428333333333335, 3.2889999999999997], [-18.222416666666664, 3.4126666666666665], [-18.611500000000003, 3.5197500000000006], [-18.41325, 3.2964999999999995], [-19.174249999999997, 3.5131666666666668], [-19.470083333333335, 3.4639166666666665], [-19.016250000000003, 3.192250000000001], [-19.142916666666668, 3.163416666666667], [-19.837833333333332, 3.2968333333333333], [-19.927999999999997, 3.279416666666666], [-19.479333333333333, 3.2546666666666666], [-19.368166666666667, 3.328583333333333], [-19.46741666666666, 3.1074999999999995], [-18.9235, 3.1331666666666673], [-19.356833333333338, 3.021583333333334], [-18.638166666666667, 2.916166666666666], [-19.097583333333336, 2.9629999999999996], [-19.203083333333336, 3.0080000000000005], [-19.056166666666666, 2.955833333333333], [-18.35166666666667, 2.9296666666666664], [-18.64875, 3.2945833333333336], [-19.489833333333333, 2.9784166666666665], [-19.093333333333334, 2.9473333333333334], [-19.177666666666664, 3.0089166666666665], [-18.679666666666662, 3.031166666666667], [-18.869333333333334, 3.0180000000000002], [-18.992166666666662, 2.9434166666666663], [-19.003333333333334, 2.9599999999999995], [-19.121249999999996, 3.0361666666666665], [-18.920166666666667, 3.2000833333333336], [-19.173166666666663, 3.0585], [-18.927333333333337, 3.00175], [-19.427583333333335, 3.1084166666666664], [-19.150666666666666, 3.0084999999999997], [-18.807750000000002, 3.1319166666666667], [-19.333916666666667, 3.1644166666666673], [-19.42175, 3.0504166666666666], [-18.67075, 3.0590000000000006], [-19.343833333333333, 2.9535], [-20.419583333333335, 2.544333333333334], [-18.77208333333333, 2.465666666666667], [-20.1555, 2.6507500000000004], [-19.510083333333334, 2.4688333333333334], [-18.822916666666668, 2.7315], [-18.466916666666663, 2.5505833333333334], [-17.74275, 2.8333333333333335], [-18.957083333333333, 2.2280833333333336], [-18.963333333333335, 2.3680833333333333], [-18.58791666666667, 2.2834166666666667], [-19.00883333333333, 2.3115], [-18.992583333333332, 2.2915833333333335], [-18.326249999999998, 2.2861666666666665], [-18.609666666666666, 1.8571666666666664], [-19.21558333333333, 1.9334999999999998], [-18.873, 2.0068333333333332], [-20.541333333333334, 1.9870833333333333], [-18.703416666666666, 1.881916666666667], [-20.433916666666665, 1.9850833333333335], [-19.21408333333334, 2.0860833333333333], [-20.260833333333338, 2.075416666666667], [-20.834166666666665, 2.461583333333334], [-19.212833333333332, 2.1780000000000004], [-19.396333333333335, 2.549], [-19.390083333333333, 2.0220833333333332], [-19.971833333333333, 2.206166666666667], [-19.273500000000002, 1.9329999999999998], [-18.889333333333337, 1.8032500000000002], [-20.417833333333338, 2.094], [-18.513333333333332, 1.8420833333333333], [-20.247833333333332, 2.3990000000000005], [-19.5715, 1.9425833333333333], [-20.407749999999997, 2.3609166666666668], [-19.508750000000003, 1.8639166666666664], [-18.292333333333332, 2.07025], [-18.53441666666667, 1.8351666666666666], [-18.915666666666663, 1.781666666666667], [-19.146916666666666, 1.8547500000000001], [-19.419416666666667, 2.1595], [-18.69975, 1.9366666666666665], [-19.81808333333333, 1.9042499999999996], [-19.638, 2.0937500000000004], [-18.30225, 1.7227499999999998], [-18.938416666666665, 1.9097499999999996], [-20.071249999999996, 2.003416666666667], [-19.191416666666665, 1.7174166666666666], [-18.11041666666667, 1.7075833333333337], [-19.029083333333336, 1.9594166666666666], [-20.32675, 2.116166666666667], [-18.94991666666667, 1.72475], [-18.276166666666665, 2.2489999999999997], [-19.079833333333337, 3.1063333333333336], [-20.097916666666666, 2.185333333333333], [-19.035750000000004, 1.8547500000000001], [-19.683749999999996, 1.5515833333333333], [-19.664250000000003, 1.610166666666667], [-19.101833333333335, 1.5820833333333335], [-17.978583333333336, 1.5094166666666666], [-18.438, 1.595], [-18.298333333333332, 1.4044999999999999], [-17.852666666666664, 1.2525833333333334], [-17.892666666666667, 1.5571666666666666], [-16.851166666666668, 1.759083333333333], [-16.698666666666664, 1.7917499999999995], [-17.014250000000004, 1.5701666666666665], [-17.748083333333334, 1.6340000000000001], [-16.874333333333336, 1.3883333333333334], [-16.684416666666667, 1.3666666666666665], [-17.582666666666665, 1.3765833333333335], [-17.465666666666667, 1.24625], [-17.206833333333332, 1.7735833333333335], [-17.464499999999997, 1.8829166666666666], [-17.819750000000003, 1.7703333333333333], [-16.734916666666667, 1.8245833333333337], [-16.990750000000002, 1.7815], [-17.107750000000003, 1.6313333333333333], [-17.60075, 1.3188333333333333], [-18.846333333333334, 1.5235000000000003], [-18.619333333333334, 1.3266666666666667], [-17.583000000000002, 1.2354999999999998], [-17.309083333333337, 1.070833333333333], [-16.34583333333333, 1.0727499999999999], [-18.91758333333333, 1.02125], [-19.159833333333328, 0.9635833333333332], [-18.12675, 0.8712499999999999], [-18.963916666666673, 0.8781666666666667], [-17.87475, 0.7798333333333333], [-18.38475, 0.9056666666666668], [-17.915916666666668, 1.0622500000000001], [-18.3405, 0.9143333333333333], [-18.463000000000005, 0.9915000000000002], [-17.766333333333332, 0.9239999999999999], [-17.955666666666666, 0.7755], [-18.41566666666667, 0.8796666666666667], [-17.464250000000003, 0.7945000000000002], [-18.990333333333336, 0.7251666666666668], [-17.427833333333336, 0.7701666666666668], [-17.72575, 0.8505833333333334], [-18.574416666666668, 1.02425], [-17.530583333333333, 1.1491666666666667], [-18.84241666666667, 1.0660833333333335], [-18.5835, 1.0168333333333335], [-18.818916666666667, 1.0058333333333334], [-18.392083333333336, 0.8950833333333333], [-18.738166666666668, 0.8258333333333335], [-19.7105, 0.9960833333333333], [-18.818, 0.815], [-19.27358333333333, 0.7369166666666666], [-18.205666666666666, 0.8161666666666666], [-19.524916666666666, 0.7529166666666667], [-18.025333333333332, 0.9032499999999999], [-18.150250000000003, 1.0135], [-18.448083333333333, 0.9211666666666668], [-18.584999999999997, 0.9224166666666668], [-17.515416666666667, 0.961], [-18.341083333333334, 0.8917500000000002], [-18.990666666666666, 0.7446666666666667], [-20.44683333333333, 1.0037500000000001], [-19.326, 0.8195], [-17.56983333333333, 0.9318333333333332], [-18.13166666666667, 0.8717500000000001], [-18.71925, 0.8644166666666667], [-17.8635, 0.96], [-19.368, 0.6458333333333334], [-18.43791666666667, 0.6046666666666666], [-18.371333333333336, 0.5665833333333333], [-19.5845, 0.6026666666666667], [-19.267166666666668, 0.5625], [-18.641916666666663, 0.61525], [-18.239500000000003, 0.7789999999999999], [-17.300333333333334, 0.6960833333333333], [-17.997833333333332, 0.6304166666666667], [-17.139, 0.8029166666666666], [-18.25425, 0.6932499999999999], [-17.367916666666666, 0.9313333333333332], [-17.596416666666666, 0.6911666666666666], [-16.820416666666663, 0.7840833333333334], [-16.256249999999998, 0.7317499999999999], [-17.301166666666663, 0.7210833333333334], [-16.15125, 0.6195833333333334], [-17.114333333333335, 0.7870833333333335], [-17.074166666666667, 0.8138333333333333], [-17.389916666666668, 0.6441666666666667], [-17.316416666666672, 0.6974166666666667], [-15.546333333333335, 0.73225], [-17.174333333333333, 0.6319166666666668], [-16.77225, 0.9730833333333333], [-15.40975, 1.0093750000000001]]}, {\"line\": {\"color\": \"rgb(0, 255, 0)\"}, \"mode\": \"lines\", \"name\": \"Australia\", \"type\": \"scatter\", \"x\": [1768, 1769, 1770, 1771, 1772, 1773, 1774, 1775, 1776, 1777, 1778, 1779, 1780, 1781, 1782, 1783, 1784, 1785, 1786, 1787, 1788, 1789, 1790, 1791, 1792, 1793, 1794, 1795, 1796, 1797, 1798, 1799, 1800, 1801, 1802, 1803, 1804, 1805, 1806, 1807, 1808, 1809, 1810, 1811, 1812, 1813, 1814, 1815, 1816, 1817, 1818, 1819, 1820, 1821, 1822, 1823, 1824, 1825, 1826, 1827, 1828, 1829, 1830, 1831, 1832, 1833, 1834, 1835, 1836, 1837, 1838, 1839, 1840, 1841, 1842, 1843, 1844, 1845, 1846, 1847, 1848, 1849, 1850, 1851, 1852, 1853, 1854, 1855, 1856, 1857, 1858, 1859, 1860, 1861, 1862, 1863, 1864, 1865, 1866, 1867, 1868, 1869, 1870, 1871, 1872, 1873, 1874, 1875, 1876, 1877, 1878, 1879, 1880, 1881, 1882, 1883, 1884, 1885, 1886, 1887, 1888, 1889, 1890, 1891, 1892, 1893, 1894, 1895, 1896, 1897, 1898, 1899, 1900, 1901, 1902, 1903, 1904, 1905, 1906, 1907, 1908, 1909, 1910, 1911, 1912, 1913, 1914, 1915, 1916, 1917, 1918, 1919, 1920, 1921, 1922, 1923, 1924, 1925, 1926, 1927, 1928, 1929, 1930, 1931, 1932, 1933, 1934, 1935, 1936, 1937, 1938, 1939, 1940, 1941, 1942, 1943, 1944, 1945, 1946, 1947, 1948, 1949, 1950, 1951, 1952, 1953, 1954, 1955, 1956, 1957, 1958, 1959, 1960, 1961, 1962, 1963, 1964, 1965, 1966, 1967, 1968, 1969, 1970, 1971, 1972, 1973, 1974, 1975, 1976, 1977, 1978, 1979, 1980, 1981, 1982, 1983, 1984, 1985, 1986, 1987, 1988, 1989, 1990, 1991, 1992, 1993, 1994, 1995, 1996, 1997, 1998, 1999, 2000, 2001, 2002, 2003, 2004, 2005, 2006, 2007, 2008, 2009, 2010, 2011, 2012, 2013], \"y\": [[20.1885, 1.5291666666666668], [20.958250000000003, 1.459666666666667], [20.28477777777778, 1.491], [20.798636363636366, 1.5265454545454546], [21.148333333333333, 1.6939166666666665], [20.966416666666667, 1.4621666666666666], [21.329833333333333, 1.4648333333333332], [21.188916666666664, 1.4005833333333333], [21.245500000000003, 1.4774166666666666], [21.1975, 1.4299999999999997], [21.155416666666667, 1.4758333333333333], [21.309, 1.5008333333333332], [21.04425, 1.41775], [21.217833333333335, 1.3780000000000001], [21.417, 1.3195], [21.643833333333333, 1.3687499999999997], [21.447583333333338, 1.3149166666666667], [21.52158333333333, 1.3353333333333335], [21.42833333333333, 1.3210833333333334], [21.459666666666664, 1.2708333333333333], [21.206916666666668, 1.4070833333333335], [21.15758333333333, 1.3036666666666665], [21.126166666666666, 1.2998333333333332], [21.054416666666665, 1.2145], [21.087333333333337, 1.1060833333333333], [21.641083333333338, 1.2146666666666663], [22.380666666666666, 1.3256666666666668], [21.184666666666665, 0.9562499999999999], [21.66125, 1.0668333333333333], [21.7925, 0.882], [21.64741666666667, 0.7275833333333331], [21.520666666666667, 0.7186666666666667], [21.549833333333336, 0.7567500000000001], [21.421916666666664, 0.6939166666666666], [21.45016666666667, 0.7247499999999999], [21.154999999999998, 0.73], [21.954916666666666, 0.7059166666666666], [22.17408333333334, 0.6835], [21.479916666666668, 0.6710833333333334], [20.833999999999996, 0.5664166666666667], [21.541749999999997, 0.6286666666666667], [21.646416666666667, 0.5191666666666667], [20.917416666666668, 0.4493333333333333], [21.23308333333333, 0.4936666666666667], [21.3965, 0.47983333333333333], [21.817499999999995, 0.5232500000000001], [21.570916666666665, 0.46274999999999994], [21.18691666666667, 0.4232499999999999], [21.766583333333333, 0.43241666666666667], [21.582583333333332, 0.4458333333333333], [21.597916666666666, 0.431], [21.17675, 0.4266666666666666], [20.97083333333333, 0.3830833333333334], [21.177500000000002, 0.41841666666666666], [21.885, 0.38316666666666666], [21.294500000000003, 0.32266666666666666], [20.8645, 0.37908333333333327], [21.05275, 0.32966666666666666], [21.569083333333335, 0.30925], [21.347916666666666, 0.3199166666666667], [21.82616666666667, 0.32033333333333336], [21.187833333333337, 0.3105833333333334], [22.186333333333334, 0.3365833333333333], [22.144833333333334, 0.3135833333333333], [21.504416666666668, 0.3621666666666667], [20.771500000000003, 0.36474999999999996], [21.369333333333334, 0.281], [21.82858333333333, 0.31558333333333327], [21.324416666666664, 0.3649166666666666], [21.680083333333332, 0.32275], [21.449749999999998, 0.27858333333333335], [21.536833333333334, 0.28500000000000003], [21.212583333333335, 0.30341666666666667], [21.09783333333333, 0.2956666666666667], [21.702583333333337, 0.308], [21.397833333333335, 0.24483333333333335], [22.01908333333333, 0.28424999999999995], [21.101249999999997, 0.2344166666666667], [21.640833333333333, 0.22391666666666668], [21.239083333333337, 0.2419166666666667], [21.459666666666667, 0.25333333333333335], [21.386499999999998, 0.25183333333333335], [21.507083333333338, 0.2386666666666667], [21.39741666666666, 0.21066666666666667], [21.716333333333335, 0.24049999999999996], [21.52733333333333, 0.2265], [22.088749999999994, 0.23608333333333334], [21.34, 0.21833333333333335], [21.681583333333332, 0.19316666666666668], [21.36283333333333, 0.20025], [21.926416666666668, 0.20225], [21.31716666666667, 0.246], [21.530166666666663, 0.19641666666666668], [21.604083333333335, 0.19316666666666668], [21.241249999999997, 0.20158333333333334], [21.59025, 0.17716666666666667], [21.459500000000002, 0.1870833333333333], [20.984916666666667, 0.17433333333333334], [21.322916666666668, 0.18358333333333335], [21.557000000000002, 0.25133333333333335], [21.487, 0.1568333333333333], [21.47458333333333, 0.18616666666666667], [21.558666666666667, 0.20966666666666667], [21.563083333333335, 0.22125000000000003], [21.005999999999997, 0.2193333333333333], [21.90266666666666, 0.36883333333333335], [21.997249999999998, 0.2554166666666667], [22.098166666666668, 0.22574999999999998], [21.210500000000003, 0.22199999999999998], [21.964249999999996, 0.2186666666666667], [21.802916666666665, 0.26599999999999996], [21.697833333333335, 0.20174999999999998], [21.650750000000002, 0.20958333333333334], [22.092083333333335, 0.24799999999999997], [21.361000000000004, 0.18616666666666667], [21.625416666666666, 0.19941666666666666], [21.462166666666672, 0.18449999999999997], [21.847583333333333, 0.18266666666666664], [21.775750000000002, 0.18433333333333335], [21.65433333333333, 0.17800000000000002], [22.012083333333333, 0.19575], [22.41275, 0.20541666666666666], [21.238083333333332, 0.2125], [21.692666666666668, 0.22191666666666668], [21.193416666666668, 0.21691666666666665], [21.892500000000002, 0.1811666666666667], [21.605166666666666, 0.18183333333333337], [22.252333333333336, 0.19175], [22.586166666666667, 0.17183333333333337], [22.164083333333334, 0.19533333333333333], [21.910500000000003, 0.16483333333333336], [22.261083333333332, 0.19774999999999998], [21.516916666666663, 0.18216666666666667], [22.043416666666662, 0.21158333333333335], [22.09325, 0.18208333333333337], [22.07241666666667, 0.15758333333333333], [22.63008333333333, 0.16433333333333333], [21.862833333333338, 0.21291666666666664], [22.35575, 0.18575], [22.48741666666667, 0.14941666666666667], [21.932583333333337, 0.22791666666666666], [22.160166666666665, 0.17575], [22.03025, 0.2130833333333333], [21.955166666666667, 0.15375000000000003], [22.325333333333333, 0.16083333333333333], [22.086000000000002, 0.18875], [22.664833333333334, 0.17074999999999999], [22.0645, 0.17700000000000002], [21.709666666666667, 0.17600000000000002], [21.79275, 0.16141666666666668], [22.46083333333333, 0.17008333333333334], [22.44033333333333, 0.22516666666666663], [22.286916666666666, 0.164], [22.896833333333333, 0.15566666666666665], [22.264416666666666, 0.20824999999999996], [22.48675, 0.15783333333333335], [22.225916666666667, 0.16624999999999998], [22.690583333333333, 0.18433333333333332], [22.078166666666664, 0.18141666666666664], [21.767, 0.1869166666666667], [22.0245, 0.23700000000000002], [22.142874999999997, 0.22362500000000002]]}, {\"line\": {\"color\": \"rgb(0, 0, 255)\"}, \"mode\": \"lines\", \"name\": \"Bolivia\", \"type\": \"scatter\", \"x\": [1768, 1769, 1770, 1771, 1772, 1773, 1774, 1775, 1776, 1777, 1778, 1779, 1780, 1781, 1782, 1783, 1784, 1785, 1786, 1787, 1788, 1789, 1790, 1791, 1792, 1793, 1794, 1795, 1796, 1797, 1798, 1799, 1800, 1801, 1802, 1803, 1804, 1805, 1806, 1807, 1808, 1809, 1810, 1811, 1812, 1813, 1814, 1815, 1816, 1817, 1818, 1819, 1820, 1821, 1822, 1823, 1824, 1825, 1826, 1827, 1828, 1829, 1830, 1831, 1832, 1833, 1834, 1835, 1836, 1837, 1838, 1839, 1840, 1841, 1842, 1843, 1844, 1845, 1846, 1847, 1848, 1849, 1850, 1851, 1852, 1853, 1854, 1855, 1856, 1857, 1858, 1859, 1860, 1861, 1862, 1863, 1864, 1865, 1866, 1867, 1868, 1869, 1870, 1871, 1872, 1873, 1874, 1875, 1876, 1877, 1878, 1879, 1880, 1881, 1882, 1883, 1884, 1885, 1886, 1887, 1888, 1889, 1890, 1891, 1892, 1893, 1894, 1895, 1896, 1897, 1898, 1899, 1900, 1901, 1902, 1903, 1904, 1905, 1906, 1907, 1908, 1909, 1910, 1911, 1912, 1913, 1914, 1915, 1916, 1917, 1918, 1919, 1920, 1921, 1922, 1923, 1924, 1925, 1926, 1927, 1928, 1929, 1930, 1931, 1932, 1933, 1934, 1935, 1936, 1937, 1938, 1939, 1940, 1941, 1942, 1943, 1944, 1945, 1946, 1947, 1948, 1949, 1950, 1951, 1952, 1953, 1954, 1955, 1956, 1957, 1958, 1959, 1960, 1961, 1962, 1963, 1964, 1965, 1966, 1967, 1968, 1969, 1970, 1971, 1972, 1973, 1974, 1975, 1976, 1977, 1978, 1979, 1980, 1981, 1982, 1983, 1984, 1985, 1986, 1987, 1988, 1989, 1990, 1991, 1992, 1993, 1994, 1995, 1996, 1997, 1998, 1999, 2000, 2001, 2002, 2003, 2004, 2005, 2006, 2007, 2008, 2009, 2010, 2011, 2012, 2013], \"y\": [[19.533375, 1.3820000000000001], [19.93341666666667, 1.3990833333333332], [19.865666666666662, 1.5828333333333333], [20.098750000000003, 1.4729999999999999], [20.793166666666668, 1.5259999999999998], [20.578999999999997, 1.4255000000000002], [20.204166666666666, 1.4661666666666668], [20.14075, 1.5390833333333334], [20.37925, 1.4915], [20.195166666666665, 1.3911666666666667], [20.42625, 1.3804166666666668], [20.494416666666666, 1.36025], [20.548166666666663, 1.4065833333333335], [20.588416666666667, 1.3529166666666665], [20.617916666666666, 1.4127500000000002], [20.427083333333332, 1.3758333333333335], [20.410999999999998, 1.3028333333333333], [20.388166666666667, 1.3828333333333334], [21.078666666666667, 1.7461666666666666], [20.232083333333332, 1.5068333333333335], [19.889416666666666, 1.4319999999999997], [20.57675, 1.3957499999999998], [21.16591666666667, 1.4309999999999998], [20.833583333333333, 1.3954166666666667], [20.268416666666663, 1.3550000000000002], [20.361250000000002, 1.3389999999999997], [20.581416666666666, 1.226416666666667], [20.26666666666667, 1.2646666666666668], [20.29966666666667, 1.2934999999999999], [20.198666666666668, 1.2730833333333333], [20.224416666666666, 1.2436666666666667], [20.09566666666667, 1.2305], [20.56233333333333, 1.3471666666666666], [20.630666666666674, 1.33775], [20.4285, 1.2525], [20.148666666666667, 1.2571666666666665], [20.324166666666667, 1.1285833333333333], [20.158666666666665, 1.1824166666666667], [20.069750000000003, 1.1417499999999998], [20.37466666666667, 1.1035000000000001], [20.73858333333333, 1.1070833333333334], [21.046416666666666, 1.2011666666666667], [20.737333333333336, 1.1721666666666666], [20.319416666666672, 1.1249166666666668], [20.629166666666666, 0.9240833333333333], [21.113249999999997, 0.8443333333333333], [20.994083333333336, 0.8021666666666668], [20.910833333333333, 0.8955000000000001], [20.409499999999998, 0.9122499999999999], [20.6255, 1.0354166666666667], [21.041083333333336, 0.8891666666666667], [20.789333333333335, 0.7719166666666667], [20.435750000000002, 0.72775], [20.28225, 0.8525], [20.43358333333333, 0.7369166666666667], [20.4385, 0.7159166666666668], [20.394416666666668, 0.7766666666666668], [20.863083333333332, 0.6481666666666667], [20.99925, 0.8615833333333333], [21.224833333333333, 0.8204166666666667], [21.62991666666667, 1.0193333333333334], [20.60266666666667, 1.0389166666666665], [19.86091666666667, 1.0321666666666667], [20.461166666666667, 0.5789166666666666], [21.035666666666668, 0.6735833333333333], [20.52416666666667, 0.72775], [20.48416666666667, 0.6770833333333334], [20.489583333333336, 0.6203333333333333], [20.459833333333336, 0.5860000000000001], [20.717583333333334, 0.7145833333333332], [20.91975, 0.5956666666666668], [21.384666666666664, 0.6755833333333333], [20.84175, 0.57025], [21.048666666666666, 0.62825], [20.82341666666667, 0.5539999999999999], [21.130249999999997, 0.5619166666666666], [20.795666666666666, 0.6561666666666667], [20.821250000000003, 0.4811666666666667], [20.804750000000002, 0.4619999999999999], [20.716416666666667, 0.5796666666666667], [20.995499999999996, 0.4135], [21.363500000000002, 0.43583333333333335], [21.328833333333332, 0.5015833333333334], [20.97158333333333, 0.6676666666666667], [21.009416666666663, 0.5288333333333334], [21.378749999999997, 0.6833333333333332], [21.35941666666667, 0.5843333333333334], [20.79366666666667, 0.6860833333333333], [20.677250000000004, 0.7004166666666668], [21.115083333333335, 0.5315833333333334], [21.144166666666667, 0.5505833333333333], [21.22225, 0.6117499999999999], [20.745083333333334, 0.47700000000000004], [20.994833333333336, 0.3935], [20.77791666666667, 0.4842499999999999], [20.845166666666668, 0.48625], [20.93133333333333, 0.3851666666666667], [20.8065, 0.2775833333333334], [21.2775, 0.3535833333333334], [20.912416666666665, 0.3682499999999999], [20.765416666666667, 0.3376666666666666], [20.275833333333335, 0.4969166666666667], [20.851333333333333, 0.38000000000000006], [21.033583333333336, 0.4325833333333333], [21.109083333333334, 0.40825], [20.594500000000004, 0.3916666666666668], [21.368000000000006, 0.36266666666666664], [20.797333333333334, 0.4890833333333333], [21.510916666666663, 0.38608333333333333], [20.837083333333336, 0.37233333333333335], [21.23275, 0.42991666666666667], [21.206333333333333, 0.4486666666666667], [21.45808333333333, 0.45275], [21.131583333333335, 0.3405], [21.754166666666666, 0.37575000000000003], [21.51625, 0.36450000000000005], [20.73966666666667, 0.43533333333333335], [21.3355, 0.33541666666666664], [21.314083333333333, 0.35333333333333333], [20.789416666666668, 0.2663333333333333], [21.04225, 0.336], [20.828916666666668, 0.33208333333333334], [21.246666666666666, 0.2985], [21.284750000000003, 0.29575], [21.03916666666667, 0.3546666666666667], [21.034083333333335, 0.33941666666666664], [20.978, 0.26091666666666663], [21.300083333333333, 0.3000833333333333], [21.571666666666662, 0.33758333333333335], [21.291833333333333, 0.33125], [21.483166666666666, 0.32375], [21.482583333333334, 0.2999166666666666], [21.87291666666667, 0.29991666666666666], [21.46683333333333, 0.3225833333333333], [21.156916666666667, 0.412], [21.326083333333333, 0.32], [21.75408333333333, 0.25675], [21.205916666666667, 0.3715833333333333], [21.52491666666667, 0.285], [21.984750000000002, 0.2933333333333334], [21.730583333333332, 0.3465833333333333], [21.05366666666667, 0.312], [21.611333333333334, 0.3295833333333334], [21.467333333333332, 0.27375], [21.03175, 0.3010833333333333], [21.077166666666667, 0.26791666666666664], [21.234083333333334, 0.25291666666666673], [21.60575, 0.3085833333333334], [21.26275, 0.34883333333333333], [21.571, 0.28075], [21.371750000000002, 0.3455], [21.470000000000002, 0.38916666666666666], [21.12933333333333, 0.24250000000000002], [21.189000000000004, 0.36425], [21.37833333333333, 0.27799999999999997], [21.446416666666664, 0.2886666666666667], [21.55541666666667, 0.3460833333333333], [21.60716666666667, 0.2846666666666667], [20.640874999999998, 0.288375]]}],                        {\"template\": {\"data\": {\"bar\": [{\"error_x\": {\"color\": \"#2a3f5f\"}, \"error_y\": {\"color\": \"#2a3f5f\"}, \"marker\": {\"line\": {\"color\": \"#E5ECF6\", \"width\": 0.5}}, \"type\": \"bar\"}], \"barpolar\": [{\"marker\": {\"line\": {\"color\": \"#E5ECF6\", \"width\": 0.5}}, \"type\": \"barpolar\"}], \"carpet\": [{\"aaxis\": {\"endlinecolor\": \"#2a3f5f\", \"gridcolor\": \"white\", \"linecolor\": \"white\", \"minorgridcolor\": \"white\", \"startlinecolor\": \"#2a3f5f\"}, \"baxis\": {\"endlinecolor\": \"#2a3f5f\", \"gridcolor\": \"white\", \"linecolor\": \"white\", \"minorgridcolor\": \"white\", \"startlinecolor\": \"#2a3f5f\"}, \"type\": \"carpet\"}], \"choropleth\": [{\"colorbar\": {\"outlinewidth\": 0, \"ticks\": \"\"}, \"type\": \"choropleth\"}], \"contour\": [{\"colorbar\": {\"outlinewidth\": 0, \"ticks\": \"\"}, \"colorscale\": [[0.0, \"#0d0887\"], [0.1111111111111111, \"#46039f\"], [0.2222222222222222, \"#7201a8\"], [0.3333333333333333, \"#9c179e\"], [0.4444444444444444, \"#bd3786\"], [0.5555555555555556, \"#d8576b\"], [0.6666666666666666, \"#ed7953\"], [0.7777777777777778, \"#fb9f3a\"], [0.8888888888888888, \"#fdca26\"], [1.0, \"#f0f921\"]], \"type\": \"contour\"}], \"contourcarpet\": [{\"colorbar\": {\"outlinewidth\": 0, \"ticks\": \"\"}, \"type\": \"contourcarpet\"}], \"heatmap\": [{\"colorbar\": {\"outlinewidth\": 0, \"ticks\": \"\"}, \"colorscale\": [[0.0, \"#0d0887\"], [0.1111111111111111, \"#46039f\"], [0.2222222222222222, \"#7201a8\"], [0.3333333333333333, \"#9c179e\"], [0.4444444444444444, \"#bd3786\"], [0.5555555555555556, \"#d8576b\"], [0.6666666666666666, \"#ed7953\"], [0.7777777777777778, \"#fb9f3a\"], [0.8888888888888888, \"#fdca26\"], [1.0, \"#f0f921\"]], \"type\": \"heatmap\"}], \"heatmapgl\": [{\"colorbar\": {\"outlinewidth\": 0, \"ticks\": \"\"}, \"colorscale\": [[0.0, \"#0d0887\"], [0.1111111111111111, \"#46039f\"], [0.2222222222222222, \"#7201a8\"], [0.3333333333333333, \"#9c179e\"], [0.4444444444444444, \"#bd3786\"], [0.5555555555555556, \"#d8576b\"], [0.6666666666666666, \"#ed7953\"], [0.7777777777777778, \"#fb9f3a\"], [0.8888888888888888, \"#fdca26\"], [1.0, \"#f0f921\"]], \"type\": \"heatmapgl\"}], \"histogram\": [{\"marker\": {\"colorbar\": {\"outlinewidth\": 0, \"ticks\": \"\"}}, \"type\": \"histogram\"}], \"histogram2d\": [{\"colorbar\": {\"outlinewidth\": 0, \"ticks\": \"\"}, \"colorscale\": [[0.0, \"#0d0887\"], [0.1111111111111111, \"#46039f\"], [0.2222222222222222, \"#7201a8\"], [0.3333333333333333, \"#9c179e\"], [0.4444444444444444, \"#bd3786\"], [0.5555555555555556, \"#d8576b\"], [0.6666666666666666, \"#ed7953\"], [0.7777777777777778, \"#fb9f3a\"], [0.8888888888888888, \"#fdca26\"], [1.0, \"#f0f921\"]], \"type\": \"histogram2d\"}], \"histogram2dcontour\": [{\"colorbar\": {\"outlinewidth\": 0, \"ticks\": \"\"}, \"colorscale\": [[0.0, \"#0d0887\"], [0.1111111111111111, \"#46039f\"], [0.2222222222222222, \"#7201a8\"], [0.3333333333333333, \"#9c179e\"], [0.4444444444444444, \"#bd3786\"], [0.5555555555555556, \"#d8576b\"], [0.6666666666666666, \"#ed7953\"], [0.7777777777777778, \"#fb9f3a\"], [0.8888888888888888, \"#fdca26\"], [1.0, \"#f0f921\"]], \"type\": \"histogram2dcontour\"}], \"mesh3d\": [{\"colorbar\": {\"outlinewidth\": 0, \"ticks\": \"\"}, \"type\": \"mesh3d\"}], \"parcoords\": [{\"line\": {\"colorbar\": {\"outlinewidth\": 0, \"ticks\": \"\"}}, \"type\": \"parcoords\"}], \"pie\": [{\"automargin\": true, \"type\": \"pie\"}], \"scatter\": [{\"marker\": {\"colorbar\": {\"outlinewidth\": 0, \"ticks\": \"\"}}, \"type\": \"scatter\"}], \"scatter3d\": [{\"line\": {\"colorbar\": {\"outlinewidth\": 0, \"ticks\": \"\"}}, \"marker\": {\"colorbar\": {\"outlinewidth\": 0, \"ticks\": \"\"}}, \"type\": \"scatter3d\"}], \"scattercarpet\": [{\"marker\": {\"colorbar\": {\"outlinewidth\": 0, \"ticks\": \"\"}}, \"type\": \"scattercarpet\"}], \"scattergeo\": [{\"marker\": {\"colorbar\": {\"outlinewidth\": 0, \"ticks\": \"\"}}, \"type\": \"scattergeo\"}], \"scattergl\": [{\"marker\": {\"colorbar\": {\"outlinewidth\": 0, \"ticks\": \"\"}}, \"type\": \"scattergl\"}], \"scattermapbox\": [{\"marker\": {\"colorbar\": {\"outlinewidth\": 0, \"ticks\": \"\"}}, \"type\": \"scattermapbox\"}], \"scatterpolar\": [{\"marker\": {\"colorbar\": {\"outlinewidth\": 0, \"ticks\": \"\"}}, \"type\": \"scatterpolar\"}], \"scatterpolargl\": [{\"marker\": {\"colorbar\": {\"outlinewidth\": 0, \"ticks\": \"\"}}, \"type\": \"scatterpolargl\"}], \"scatterternary\": [{\"marker\": {\"colorbar\": {\"outlinewidth\": 0, \"ticks\": \"\"}}, \"type\": \"scatterternary\"}], \"surface\": [{\"colorbar\": {\"outlinewidth\": 0, \"ticks\": \"\"}, \"colorscale\": [[0.0, \"#0d0887\"], [0.1111111111111111, \"#46039f\"], [0.2222222222222222, \"#7201a8\"], [0.3333333333333333, \"#9c179e\"], [0.4444444444444444, \"#bd3786\"], [0.5555555555555556, \"#d8576b\"], [0.6666666666666666, \"#ed7953\"], [0.7777777777777778, \"#fb9f3a\"], [0.8888888888888888, \"#fdca26\"], [1.0, \"#f0f921\"]], \"type\": \"surface\"}], \"table\": [{\"cells\": {\"fill\": {\"color\": \"#EBF0F8\"}, \"line\": {\"color\": \"white\"}}, \"header\": {\"fill\": {\"color\": \"#C8D4E3\"}, \"line\": {\"color\": \"white\"}}, \"type\": \"table\"}]}, \"layout\": {\"annotationdefaults\": {\"arrowcolor\": \"#2a3f5f\", \"arrowhead\": 0, \"arrowwidth\": 1}, \"autotypenumbers\": \"strict\", \"coloraxis\": {\"colorbar\": {\"outlinewidth\": 0, \"ticks\": \"\"}}, \"colorscale\": {\"diverging\": [[0, \"#8e0152\"], [0.1, \"#c51b7d\"], [0.2, \"#de77ae\"], [0.3, \"#f1b6da\"], [0.4, \"#fde0ef\"], [0.5, \"#f7f7f7\"], [0.6, \"#e6f5d0\"], [0.7, \"#b8e186\"], [0.8, \"#7fbc41\"], [0.9, \"#4d9221\"], [1, \"#276419\"]], \"sequential\": [[0.0, \"#0d0887\"], [0.1111111111111111, \"#46039f\"], [0.2222222222222222, \"#7201a8\"], [0.3333333333333333, \"#9c179e\"], [0.4444444444444444, \"#bd3786\"], [0.5555555555555556, \"#d8576b\"], [0.6666666666666666, \"#ed7953\"], [0.7777777777777778, \"#fb9f3a\"], [0.8888888888888888, \"#fdca26\"], [1.0, \"#f0f921\"]], \"sequentialminus\": [[0.0, \"#0d0887\"], [0.1111111111111111, \"#46039f\"], [0.2222222222222222, \"#7201a8\"], [0.3333333333333333, \"#9c179e\"], [0.4444444444444444, \"#bd3786\"], [0.5555555555555556, \"#d8576b\"], [0.6666666666666666, \"#ed7953\"], [0.7777777777777778, \"#fb9f3a\"], [0.8888888888888888, \"#fdca26\"], [1.0, \"#f0f921\"]]}, \"colorway\": [\"#636efa\", \"#EF553B\", \"#00cc96\", \"#ab63fa\", \"#FFA15A\", \"#19d3f3\", \"#FF6692\", \"#B6E880\", \"#FF97FF\", \"#FECB52\"], \"font\": {\"color\": \"#2a3f5f\"}, \"geo\": {\"bgcolor\": \"white\", \"lakecolor\": \"white\", \"landcolor\": \"#E5ECF6\", \"showlakes\": true, \"showland\": true, \"subunitcolor\": \"white\"}, \"hoverlabel\": {\"align\": \"left\"}, \"hovermode\": \"closest\", \"mapbox\": {\"style\": \"light\"}, \"paper_bgcolor\": \"white\", \"plot_bgcolor\": \"#E5ECF6\", \"polar\": {\"angularaxis\": {\"gridcolor\": \"white\", \"linecolor\": \"white\", \"ticks\": \"\"}, \"bgcolor\": \"#E5ECF6\", \"radialaxis\": {\"gridcolor\": \"white\", \"linecolor\": \"white\", \"ticks\": \"\"}}, \"scene\": {\"xaxis\": {\"backgroundcolor\": \"#E5ECF6\", \"gridcolor\": \"white\", \"gridwidth\": 2, \"linecolor\": \"white\", \"showbackground\": true, \"ticks\": \"\", \"zerolinecolor\": \"white\"}, \"yaxis\": {\"backgroundcolor\": \"#E5ECF6\", \"gridcolor\": \"white\", \"gridwidth\": 2, \"linecolor\": \"white\", \"showbackground\": true, \"ticks\": \"\", \"zerolinecolor\": \"white\"}, \"zaxis\": {\"backgroundcolor\": \"#E5ECF6\", \"gridcolor\": \"white\", \"gridwidth\": 2, \"linecolor\": \"white\", \"showbackground\": true, \"ticks\": \"\", \"zerolinecolor\": \"white\"}}, \"shapedefaults\": {\"line\": {\"color\": \"#2a3f5f\"}}, \"ternary\": {\"aaxis\": {\"gridcolor\": \"white\", \"linecolor\": \"white\", \"ticks\": \"\"}, \"baxis\": {\"gridcolor\": \"white\", \"linecolor\": \"white\", \"ticks\": \"\"}, \"bgcolor\": \"#E5ECF6\", \"caxis\": {\"gridcolor\": \"white\", \"linecolor\": \"white\", \"ticks\": \"\"}}, \"title\": {\"x\": 0.05}, \"xaxis\": {\"automargin\": true, \"gridcolor\": \"white\", \"linecolor\": \"white\", \"ticks\": \"\", \"title\": {\"standoff\": 15}, \"zerolinecolor\": \"white\", \"zerolinewidth\": 2}, \"yaxis\": {\"automargin\": true, \"gridcolor\": \"white\", \"linecolor\": \"white\", \"ticks\": \"\", \"title\": {\"standoff\": 15}, \"zerolinecolor\": \"white\", \"zerolinewidth\": 2}}}, \"title\": {\"text\": \"Average land temperature on the continents\"}, \"xaxis\": {\"title\": {\"text\": \"year\"}}, \"yaxis\": {\"title\": {\"text\": \"Average Temperature, \\u00b0C\"}}},                        {\"responsive\": true}                    ).then(function(){\n",
       "                            \n",
       "var gd = document.getElementById('396aff28-fd2c-475a-8085-fb2513af9f29');\n",
       "var x = new MutationObserver(function (mutations, observer) {{\n",
       "        var display = window.getComputedStyle(gd).display;\n",
       "        if (!display || display === 'none') {{\n",
       "            console.log([gd, 'removed!']);\n",
       "            Plotly.purge(gd);\n",
       "            observer.disconnect();\n",
       "        }}\n",
       "}});\n",
       "\n",
       "// Listen for the removal of the full notebook cells\n",
       "var notebookContainer = gd.closest('#notebook-container');\n",
       "if (notebookContainer) {{\n",
       "    x.observe(notebookContainer, {childList: true});\n",
       "}}\n",
       "\n",
       "// Listen for the clearing of the current output cell\n",
       "var outputEl = gd.closest('.output');\n",
       "if (outputEl) {{\n",
       "    x.observe(outputEl, {childList: true});\n",
       "}}\n",
       "\n",
       "                        })                };                });            </script>        </div>"
      ]
     },
     "metadata": {},
     "output_type": "display_data"
    }
   ],
   "source": [
    "traces = []\n",
    "colors = ['rgb(0, 255, 255)', 'rgb(255, 0, 255)', 'rgb(0, 0, 0)',\n",
    "          'rgb(255, 0, 0)', 'rgb(0, 255, 0)', 'rgb(0, 0, 255)']\n",
    "\n",
    "for i in range(len(continent)):\n",
    "    traces.append(go.Scatter(\n",
    "        x = avg_temp_continent[avg_temp_continent.index.get_level_values(0)==continent[1]].index.get_level_values(1),\n",
    "        y = avg_temp_continent[avg_temp_continent.index.get_level_values(0) ==continent[i]],\n",
    "        mode = 'lines',\n",
    "        name = continent[i],\n",
    "        line = dict(color=colors[i])\n",
    "    ))\n",
    "layout = go.Layout(\n",
    "    xaxis = dict(title='year'),\n",
    "    yaxis = dict(title='Average Temperature, °C'),\n",
    "    title = 'Average land temperature on the continents',\n",
    ")\n",
    "\n",
    "fig = go.Figure(data=traces,layout=layout)\n",
    "py.iplot(fig)"
   ]
  },
  {
   "cell_type": "code",
   "execution_count": null,
   "metadata": {},
   "outputs": [],
   "source": [
    "indexs = pd.MultiIndex.from_arrays(avg_temp_continent.index)"
   ]
  },
  {
   "cell_type": "code",
   "execution_count": 203,
   "metadata": {},
   "outputs": [
    {
     "data": {
      "text/plain": [
       "Int64Index([1768, 1769, 1770, 1771, 1772, 1773, 1774, 1775, 1776, 1777,\n",
       "            ...\n",
       "            2004, 2005, 2006, 2007, 2008, 2009, 2010, 2011, 2012, 2013],\n",
       "           dtype='int64', name='year', length=246)"
      ]
     },
     "execution_count": 203,
     "metadata": {},
     "output_type": "execute_result"
    }
   ],
   "source": [
    "avg_temp_continent[avg_temp_continent.index.get_level_values(0)==continent[1]].index.get_level_values(1)"
   ]
  },
  {
   "cell_type": "code",
   "execution_count": null,
   "metadata": {},
   "outputs": [],
   "source": []
  }
 ],
 "metadata": {
  "kernelspec": {
   "display_name": "Python 3",
   "language": "python",
   "name": "python3"
  },
  "language_info": {
   "codemirror_mode": {
    "name": "ipython",
    "version": 3
   },
   "file_extension": ".py",
   "mimetype": "text/x-python",
   "name": "python",
   "nbconvert_exporter": "python",
   "pygments_lexer": "ipython3",
   "version": "3.7.6"
  }
 },
 "nbformat": 4,
 "nbformat_minor": 4
}
